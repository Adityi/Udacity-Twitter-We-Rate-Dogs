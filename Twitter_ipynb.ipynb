{
 "cells": [
  {
   "cell_type": "markdown",
   "metadata": {},
   "source": [
    "# DATA GATHERING"
   ]
  },
  {
   "cell_type": "code",
   "execution_count": null,
   "metadata": {},
   "outputs": [],
   "source": []
  },
  {
   "cell_type": "markdown",
   "metadata": {},
   "source": [
    "DATA FROM CSV FILE"
   ]
  },
  {
   "cell_type": "code",
   "execution_count": 1,
   "metadata": {},
   "outputs": [],
   "source": [
    "import pandas as pd"
   ]
  },
  {
   "cell_type": "code",
   "execution_count": 2,
   "metadata": {},
   "outputs": [
    {
     "data": {
      "text/plain": [
       "(2356, 17)"
      ]
     },
     "execution_count": 2,
     "metadata": {},
     "output_type": "execute_result"
    }
   ],
   "source": [
    "df_twitter = pd.read_csv('twitter-archive-enhanced.csv')\n",
    "df_twitter.shape"
   ]
  },
  {
   "cell_type": "markdown",
   "metadata": {},
   "source": [
    "DATA FROM TSV: TWEET IMAGE PREDICTIONS"
   ]
  },
  {
   "cell_type": "code",
   "execution_count": 3,
   "metadata": {},
   "outputs": [],
   "source": [
    "import requests\n",
    "import os\n",
    "folder = 'image_predict'\n",
    "if not os.path.exists(folder):\n",
    "    os.makedirs(folder)"
   ]
  },
  {
   "cell_type": "code",
   "execution_count": 4,
   "metadata": {},
   "outputs": [],
   "source": [
    "url = 'https://d17h27t6h515a5.cloudfront.net/topher/2017/August/599fd2ad_image-predictions/image-predictions.tsv'\n",
    "response = requests.get(url)\n",
    "with open(os.path.join(folder,\n",
    "                       url.split('/')[-1]), mode = 'wb') as file:\n",
    "    file.write(response.content)"
   ]
  },
  {
   "cell_type": "code",
   "execution_count": 5,
   "metadata": {},
   "outputs": [
    {
     "data": {
      "text/plain": [
       "['image-predictions.tsv']"
      ]
     },
     "execution_count": 5,
     "metadata": {},
     "output_type": "execute_result"
    }
   ],
   "source": [
    "os.listdir(folder)"
   ]
  },
  {
   "cell_type": "code",
   "execution_count": 6,
   "metadata": {},
   "outputs": [
    {
     "data": {
      "text/html": [
       "<div>\n",
       "<style scoped>\n",
       "    .dataframe tbody tr th:only-of-type {\n",
       "        vertical-align: middle;\n",
       "    }\n",
       "\n",
       "    .dataframe tbody tr th {\n",
       "        vertical-align: top;\n",
       "    }\n",
       "\n",
       "    .dataframe thead th {\n",
       "        text-align: right;\n",
       "    }\n",
       "</style>\n",
       "<table border=\"1\" class=\"dataframe\">\n",
       "  <thead>\n",
       "    <tr style=\"text-align: right;\">\n",
       "      <th></th>\n",
       "      <th>tweet_id</th>\n",
       "      <th>jpg_url</th>\n",
       "      <th>img_num</th>\n",
       "      <th>p1</th>\n",
       "      <th>p1_conf</th>\n",
       "      <th>p1_dog</th>\n",
       "      <th>p2</th>\n",
       "      <th>p2_conf</th>\n",
       "      <th>p2_dog</th>\n",
       "      <th>p3</th>\n",
       "      <th>p3_conf</th>\n",
       "      <th>p3_dog</th>\n",
       "    </tr>\n",
       "  </thead>\n",
       "  <tbody>\n",
       "    <tr>\n",
       "      <th>0</th>\n",
       "      <td>666020888022790149</td>\n",
       "      <td>https://pbs.twimg.com/media/CT4udn0WwAA0aMy.jpg</td>\n",
       "      <td>1</td>\n",
       "      <td>Welsh_springer_spaniel</td>\n",
       "      <td>0.465074</td>\n",
       "      <td>True</td>\n",
       "      <td>collie</td>\n",
       "      <td>0.156665</td>\n",
       "      <td>True</td>\n",
       "      <td>Shetland_sheepdog</td>\n",
       "      <td>0.061428</td>\n",
       "      <td>True</td>\n",
       "    </tr>\n",
       "    <tr>\n",
       "      <th>1</th>\n",
       "      <td>666029285002620928</td>\n",
       "      <td>https://pbs.twimg.com/media/CT42GRgUYAA5iDo.jpg</td>\n",
       "      <td>1</td>\n",
       "      <td>redbone</td>\n",
       "      <td>0.506826</td>\n",
       "      <td>True</td>\n",
       "      <td>miniature_pinscher</td>\n",
       "      <td>0.074192</td>\n",
       "      <td>True</td>\n",
       "      <td>Rhodesian_ridgeback</td>\n",
       "      <td>0.072010</td>\n",
       "      <td>True</td>\n",
       "    </tr>\n",
       "    <tr>\n",
       "      <th>2</th>\n",
       "      <td>666033412701032449</td>\n",
       "      <td>https://pbs.twimg.com/media/CT4521TWwAEvMyu.jpg</td>\n",
       "      <td>1</td>\n",
       "      <td>German_shepherd</td>\n",
       "      <td>0.596461</td>\n",
       "      <td>True</td>\n",
       "      <td>malinois</td>\n",
       "      <td>0.138584</td>\n",
       "      <td>True</td>\n",
       "      <td>bloodhound</td>\n",
       "      <td>0.116197</td>\n",
       "      <td>True</td>\n",
       "    </tr>\n",
       "    <tr>\n",
       "      <th>3</th>\n",
       "      <td>666044226329800704</td>\n",
       "      <td>https://pbs.twimg.com/media/CT5Dr8HUEAA-lEu.jpg</td>\n",
       "      <td>1</td>\n",
       "      <td>Rhodesian_ridgeback</td>\n",
       "      <td>0.408143</td>\n",
       "      <td>True</td>\n",
       "      <td>redbone</td>\n",
       "      <td>0.360687</td>\n",
       "      <td>True</td>\n",
       "      <td>miniature_pinscher</td>\n",
       "      <td>0.222752</td>\n",
       "      <td>True</td>\n",
       "    </tr>\n",
       "    <tr>\n",
       "      <th>4</th>\n",
       "      <td>666049248165822465</td>\n",
       "      <td>https://pbs.twimg.com/media/CT5IQmsXIAAKY4A.jpg</td>\n",
       "      <td>1</td>\n",
       "      <td>miniature_pinscher</td>\n",
       "      <td>0.560311</td>\n",
       "      <td>True</td>\n",
       "      <td>Rottweiler</td>\n",
       "      <td>0.243682</td>\n",
       "      <td>True</td>\n",
       "      <td>Doberman</td>\n",
       "      <td>0.154629</td>\n",
       "      <td>True</td>\n",
       "    </tr>\n",
       "  </tbody>\n",
       "</table>\n",
       "</div>"
      ],
      "text/plain": [
       "             tweet_id                                          jpg_url  \\\n",
       "0  666020888022790149  https://pbs.twimg.com/media/CT4udn0WwAA0aMy.jpg   \n",
       "1  666029285002620928  https://pbs.twimg.com/media/CT42GRgUYAA5iDo.jpg   \n",
       "2  666033412701032449  https://pbs.twimg.com/media/CT4521TWwAEvMyu.jpg   \n",
       "3  666044226329800704  https://pbs.twimg.com/media/CT5Dr8HUEAA-lEu.jpg   \n",
       "4  666049248165822465  https://pbs.twimg.com/media/CT5IQmsXIAAKY4A.jpg   \n",
       "\n",
       "   img_num                      p1   p1_conf  p1_dog                  p2  \\\n",
       "0        1  Welsh_springer_spaniel  0.465074    True              collie   \n",
       "1        1                 redbone  0.506826    True  miniature_pinscher   \n",
       "2        1         German_shepherd  0.596461    True            malinois   \n",
       "3        1     Rhodesian_ridgeback  0.408143    True             redbone   \n",
       "4        1      miniature_pinscher  0.560311    True          Rottweiler   \n",
       "\n",
       "    p2_conf  p2_dog                   p3   p3_conf  p3_dog  \n",
       "0  0.156665    True    Shetland_sheepdog  0.061428    True  \n",
       "1  0.074192    True  Rhodesian_ridgeback  0.072010    True  \n",
       "2  0.138584    True           bloodhound  0.116197    True  \n",
       "3  0.360687    True   miniature_pinscher  0.222752    True  \n",
       "4  0.243682    True             Doberman  0.154629    True  "
      ]
     },
     "execution_count": 6,
     "metadata": {},
     "output_type": "execute_result"
    }
   ],
   "source": [
    "df_img = pd.read_csv('image-predictions.tsv' , sep='\\t')\n",
    "df_img.head()"
   ]
  },
  {
   "cell_type": "markdown",
   "metadata": {},
   "source": [
    "DATA FROM TWITTER API"
   ]
  },
  {
   "cell_type": "code",
   "execution_count": 7,
   "metadata": {},
   "outputs": [
    {
     "data": {
      "text/plain": [
       "array([892420643555336193, 892177421306343426, 891815181378084864, ...,\n",
       "       666033412701032449, 666029285002620928, 666020888022790149])"
      ]
     },
     "execution_count": 7,
     "metadata": {},
     "output_type": "execute_result"
    }
   ],
   "source": [
    "import tweepy\n",
    "from tweepy import OAuthHandler\n",
    "import json\n",
    "from timeit import default_timer as timer\n",
    "\n",
    "# Query Twitter API for each tweet in the Twitter archive and save JSON in a text file\n",
    "# These are hidden to comply with Twitter's API terms and conditions\n",
    "consumer_key = 'HIDDEN'\n",
    "consumer_secret = 'HIDDEN'\n",
    "access_token = 'HIDDEN'\n",
    "access_secret = 'HIDDEN'\n",
    "\n",
    "auth = OAuthHandler(consumer_key, consumer_secret)\n",
    "auth.set_access_token(access_token, access_secret)\n",
    "\n",
    "api = tweepy.API(auth, wait_on_rate_limit=True)\n",
    "\n",
    "# NOTE TO STUDENT WITH MOBILE VERIFICATION ISSUES:\n",
    "# df_1 is a DataFrame with the twitter_archive_enhanced.csv file. You may have to\n",
    "# change line 17 to match the name of your DataFrame with twitter_archive_enhanced.csv\n",
    "# NOTE TO REVIEWER: this student had mobile verification issues so the following\n",
    "# Twitter API code was sent to this student from a Udacity instructor\n",
    "# Tweet IDs for which to gather additional data via Twitter's API\n",
    "tweet_ids = df_twitter.tweet_id.values\n",
    "len(tweet_ids)\n",
    "tweet_ids"
   ]
  },
  {
   "cell_type": "markdown",
   "metadata": {},
   "source": [
    "###Query Twitter's API for JSON data for each tweet ID in the Twitter archive\n",
    "count = 0\n",
    "fails_dict = {}\n",
    "start = timer()\n",
    "####Save each tweet's returned JSON as a new line in a .txt file\n",
    "with open('tweet_json.txt', 'w') as outfile:\n",
    "    # This loop will likely take 20-30 minutes to run because of Twitter's rate limit\n",
    "    for tweet_id in tweet_ids:\n",
    "        count += 1\n",
    "        print(str(count) + \": \" + str(tweet_id))\n",
    "        try:\n",
    "            tweet = api.get_status(tweet_id, tweet_mode='extended')\n",
    "            print(\"Success\")\n",
    "            json.dump(tweet._json, outfile)\n",
    "            outfile.write('\\n')\n",
    "        except tweepy.TweepError as e:\n",
    "            print(\"Fail\")\n",
    "            fails_dict[tweet_id] = e\n",
    "            pass\n",
    "end = timer()\n",
    "print(end - start)\n",
    "print(fails_dict)\n",
    "\n",
    "###  I could not create developers account in twitter."
   ]
  },
  {
   "cell_type": "code",
   "execution_count": 8,
   "metadata": {},
   "outputs": [
    {
     "data": {
      "text/plain": [
       "{'created_at': 'Tue Aug 01 00:17:27 +0000 2017',\n",
       " 'id': 892177421306343426,\n",
       " 'id_str': '892177421306343426',\n",
       " 'full_text': \"This is Tilly. She's just checking pup on you. Hopes you're doing ok. If not, she's available for pats, snugs, boops, the whole bit. 13/10 https://t.co/0Xxu71qeIV\",\n",
       " 'truncated': False,\n",
       " 'display_text_range': [0, 138],\n",
       " 'entities': {'hashtags': [],\n",
       "  'symbols': [],\n",
       "  'user_mentions': [],\n",
       "  'urls': [],\n",
       "  'media': [{'id': 892177413194625024,\n",
       "    'id_str': '892177413194625024',\n",
       "    'indices': [139, 162],\n",
       "    'media_url': 'http://pbs.twimg.com/media/DGGmoV4XsAAUL6n.jpg',\n",
       "    'media_url_https': 'https://pbs.twimg.com/media/DGGmoV4XsAAUL6n.jpg',\n",
       "    'url': 'https://t.co/0Xxu71qeIV',\n",
       "    'display_url': 'pic.twitter.com/0Xxu71qeIV',\n",
       "    'expanded_url': 'https://twitter.com/dog_rates/status/892177421306343426/photo/1',\n",
       "    'type': 'photo',\n",
       "    'sizes': {'large': {'w': 1407, 'h': 1600, 'resize': 'fit'},\n",
       "     'thumb': {'w': 150, 'h': 150, 'resize': 'crop'},\n",
       "     'small': {'w': 598, 'h': 680, 'resize': 'fit'},\n",
       "     'medium': {'w': 1055, 'h': 1200, 'resize': 'fit'}}}]},\n",
       " 'extended_entities': {'media': [{'id': 892177413194625024,\n",
       "    'id_str': '892177413194625024',\n",
       "    'indices': [139, 162],\n",
       "    'media_url': 'http://pbs.twimg.com/media/DGGmoV4XsAAUL6n.jpg',\n",
       "    'media_url_https': 'https://pbs.twimg.com/media/DGGmoV4XsAAUL6n.jpg',\n",
       "    'url': 'https://t.co/0Xxu71qeIV',\n",
       "    'display_url': 'pic.twitter.com/0Xxu71qeIV',\n",
       "    'expanded_url': 'https://twitter.com/dog_rates/status/892177421306343426/photo/1',\n",
       "    'type': 'photo',\n",
       "    'sizes': {'large': {'w': 1407, 'h': 1600, 'resize': 'fit'},\n",
       "     'thumb': {'w': 150, 'h': 150, 'resize': 'crop'},\n",
       "     'small': {'w': 598, 'h': 680, 'resize': 'fit'},\n",
       "     'medium': {'w': 1055, 'h': 1200, 'resize': 'fit'}}}]},\n",
       " 'source': '<a href=\"http://twitter.com/download/iphone\" rel=\"nofollow\">Twitter for iPhone</a>',\n",
       " 'in_reply_to_status_id': None,\n",
       " 'in_reply_to_status_id_str': None,\n",
       " 'in_reply_to_user_id': None,\n",
       " 'in_reply_to_user_id_str': None,\n",
       " 'in_reply_to_screen_name': None,\n",
       " 'user': {'id': 4196983835,\n",
       "  'id_str': '4196983835',\n",
       "  'name': 'WeRateDogs™ (author)',\n",
       "  'screen_name': 'dog_rates',\n",
       "  'location': 'DM YOUR DOGS, WE WILL RATE',\n",
       "  'description': '#1 Source for Professional Dog Ratings | STORE: @ShopWeRateDogs | IG, FB & SC: WeRateDogs MOBILE APP: @GoodDogsGame | Business: dogratingtwitter@gmail.com',\n",
       "  'url': 'https://t.co/N7sNNHAEXS',\n",
       "  'entities': {'url': {'urls': [{'url': 'https://t.co/N7sNNHAEXS',\n",
       "      'expanded_url': 'http://weratedogs.com',\n",
       "      'display_url': 'weratedogs.com',\n",
       "      'indices': [0, 23]}]},\n",
       "   'description': {'urls': []}},\n",
       "  'protected': False,\n",
       "  'followers_count': 3200889,\n",
       "  'friends_count': 104,\n",
       "  'listed_count': 2784,\n",
       "  'created_at': 'Sun Nov 15 21:41:29 +0000 2015',\n",
       "  'favourites_count': 114031,\n",
       "  'utc_offset': None,\n",
       "  'time_zone': None,\n",
       "  'geo_enabled': True,\n",
       "  'verified': True,\n",
       "  'statuses_count': 5288,\n",
       "  'lang': 'en',\n",
       "  'contributors_enabled': False,\n",
       "  'is_translator': False,\n",
       "  'is_translation_enabled': False,\n",
       "  'profile_background_color': '000000',\n",
       "  'profile_background_image_url': 'http://abs.twimg.com/images/themes/theme1/bg.png',\n",
       "  'profile_background_image_url_https': 'https://abs.twimg.com/images/themes/theme1/bg.png',\n",
       "  'profile_background_tile': False,\n",
       "  'profile_image_url': 'http://pbs.twimg.com/profile_images/861415328504569856/R2xOOfwe_normal.jpg',\n",
       "  'profile_image_url_https': 'https://pbs.twimg.com/profile_images/861415328504569856/R2xOOfwe_normal.jpg',\n",
       "  'profile_banner_url': 'https://pbs.twimg.com/profile_banners/4196983835/1501129017',\n",
       "  'profile_link_color': 'F5ABB5',\n",
       "  'profile_sidebar_border_color': '000000',\n",
       "  'profile_sidebar_fill_color': '000000',\n",
       "  'profile_text_color': '000000',\n",
       "  'profile_use_background_image': False,\n",
       "  'has_extended_profile': True,\n",
       "  'default_profile': False,\n",
       "  'default_profile_image': False,\n",
       "  'following': True,\n",
       "  'follow_request_sent': False,\n",
       "  'notifications': False,\n",
       "  'translator_type': 'none'},\n",
       " 'geo': None,\n",
       " 'coordinates': None,\n",
       " 'place': None,\n",
       " 'contributors': None,\n",
       " 'is_quote_status': False,\n",
       " 'retweet_count': 6514,\n",
       " 'favorite_count': 33819,\n",
       " 'favorited': False,\n",
       " 'retweeted': False,\n",
       " 'possibly_sensitive': False,\n",
       " 'possibly_sensitive_appealable': False,\n",
       " 'lang': 'en'}"
      ]
     },
     "execution_count": 8,
     "metadata": {},
     "output_type": "execute_result"
    }
   ],
   "source": [
    "import json\n",
    "tweets = []\n",
    "for line in open('tweet-json.txt', 'r'):\n",
    "    tweets.append(json.loads(line))\n",
    "tweets[1]"
   ]
  },
  {
   "cell_type": "code",
   "execution_count": 9,
   "metadata": {},
   "outputs": [],
   "source": [
    "import csv\n",
    "f = csv.writer(open(\"twitter_api.csv\", \"w\"))\n",
    "\n",
    "# Write CSV Header\n",
    "f.writerow([\"tweet_id\", \"retweet_count\", \"favorite_count\"])\n",
    "\n",
    "for x in tweets:\n",
    "    f.writerow([x[\"id\"],\n",
    "                x[\"retweet_count\"],\n",
    "                x[\"favorite_count\"]])\n",
    "    \n",
    "    \n",
    "#code for this was from https://stackoverflow.com/questions/1871524/how-can-i-convert-json-to-csv\n",
    "    "
   ]
  },
  {
   "cell_type": "code",
   "execution_count": 10,
   "metadata": {},
   "outputs": [
    {
     "data": {
      "text/html": [
       "<div>\n",
       "<style scoped>\n",
       "    .dataframe tbody tr th:only-of-type {\n",
       "        vertical-align: middle;\n",
       "    }\n",
       "\n",
       "    .dataframe tbody tr th {\n",
       "        vertical-align: top;\n",
       "    }\n",
       "\n",
       "    .dataframe thead th {\n",
       "        text-align: right;\n",
       "    }\n",
       "</style>\n",
       "<table border=\"1\" class=\"dataframe\">\n",
       "  <thead>\n",
       "    <tr style=\"text-align: right;\">\n",
       "      <th></th>\n",
       "      <th>tweet_id</th>\n",
       "      <th>retweet_count</th>\n",
       "      <th>favorite_count</th>\n",
       "    </tr>\n",
       "  </thead>\n",
       "  <tbody>\n",
       "    <tr>\n",
       "      <th>0</th>\n",
       "      <td>892420643555336193</td>\n",
       "      <td>8853</td>\n",
       "      <td>39467</td>\n",
       "    </tr>\n",
       "    <tr>\n",
       "      <th>1</th>\n",
       "      <td>892177421306343426</td>\n",
       "      <td>6514</td>\n",
       "      <td>33819</td>\n",
       "    </tr>\n",
       "    <tr>\n",
       "      <th>2</th>\n",
       "      <td>891815181378084864</td>\n",
       "      <td>4328</td>\n",
       "      <td>25461</td>\n",
       "    </tr>\n",
       "    <tr>\n",
       "      <th>3</th>\n",
       "      <td>891689557279858688</td>\n",
       "      <td>8964</td>\n",
       "      <td>42908</td>\n",
       "    </tr>\n",
       "    <tr>\n",
       "      <th>4</th>\n",
       "      <td>891327558926688256</td>\n",
       "      <td>9774</td>\n",
       "      <td>41048</td>\n",
       "    </tr>\n",
       "  </tbody>\n",
       "</table>\n",
       "</div>"
      ],
      "text/plain": [
       "             tweet_id  retweet_count  favorite_count\n",
       "0  892420643555336193           8853           39467\n",
       "1  892177421306343426           6514           33819\n",
       "2  891815181378084864           4328           25461\n",
       "3  891689557279858688           8964           42908\n",
       "4  891327558926688256           9774           41048"
      ]
     },
     "execution_count": 10,
     "metadata": {},
     "output_type": "execute_result"
    }
   ],
   "source": [
    "df_api = pd.read_csv(\"twitter_api.csv\")\n",
    "df_api.head()"
   ]
  },
  {
   "cell_type": "markdown",
   "metadata": {},
   "source": [
    "So we finally have three dataframes:\n",
    "From twitter as df_twitter, \n",
    "For images as df_img, \n",
    "From Twitter API as df_api, "
   ]
  },
  {
   "cell_type": "markdown",
   "metadata": {},
   "source": [
    "# ASSESING DATA"
   ]
  },
  {
   "cell_type": "markdown",
   "metadata": {},
   "source": [
    "### ASSESSING DF_TWITTER:  "
   ]
  },
  {
   "cell_type": "code",
   "execution_count": 11,
   "metadata": {},
   "outputs": [
    {
     "data": {
      "text/plain": [
       "(2356, 17)"
      ]
     },
     "execution_count": 11,
     "metadata": {},
     "output_type": "execute_result"
    }
   ],
   "source": [
    "df_twitter.shape"
   ]
  },
  {
   "cell_type": "code",
   "execution_count": 12,
   "metadata": {},
   "outputs": [
    {
     "name": "stdout",
     "output_type": "stream",
     "text": [
      "<class 'pandas.core.frame.DataFrame'>\n",
      "RangeIndex: 2356 entries, 0 to 2355\n",
      "Data columns (total 17 columns):\n",
      "tweet_id                      2356 non-null int64\n",
      "in_reply_to_status_id         78 non-null float64\n",
      "in_reply_to_user_id           78 non-null float64\n",
      "timestamp                     2356 non-null object\n",
      "source                        2356 non-null object\n",
      "text                          2356 non-null object\n",
      "retweeted_status_id           181 non-null float64\n",
      "retweeted_status_user_id      181 non-null float64\n",
      "retweeted_status_timestamp    181 non-null object\n",
      "expanded_urls                 2297 non-null object\n",
      "rating_numerator              2356 non-null int64\n",
      "rating_denominator            2356 non-null int64\n",
      "name                          2356 non-null object\n",
      "doggo                         2356 non-null object\n",
      "floofer                       2356 non-null object\n",
      "pupper                        2356 non-null object\n",
      "puppo                         2356 non-null object\n",
      "dtypes: float64(4), int64(3), object(10)\n",
      "memory usage: 313.0+ KB\n"
     ]
    }
   ],
   "source": [
    "df_twitter.info()"
   ]
  },
  {
   "cell_type": "code",
   "execution_count": 13,
   "metadata": {},
   "outputs": [
    {
     "data": {
      "text/html": [
       "<div>\n",
       "<style scoped>\n",
       "    .dataframe tbody tr th:only-of-type {\n",
       "        vertical-align: middle;\n",
       "    }\n",
       "\n",
       "    .dataframe tbody tr th {\n",
       "        vertical-align: top;\n",
       "    }\n",
       "\n",
       "    .dataframe thead th {\n",
       "        text-align: right;\n",
       "    }\n",
       "</style>\n",
       "<table border=\"1\" class=\"dataframe\">\n",
       "  <thead>\n",
       "    <tr style=\"text-align: right;\">\n",
       "      <th></th>\n",
       "      <th>tweet_id</th>\n",
       "      <th>in_reply_to_status_id</th>\n",
       "      <th>in_reply_to_user_id</th>\n",
       "      <th>timestamp</th>\n",
       "      <th>source</th>\n",
       "      <th>text</th>\n",
       "      <th>retweeted_status_id</th>\n",
       "      <th>retweeted_status_user_id</th>\n",
       "      <th>retweeted_status_timestamp</th>\n",
       "      <th>expanded_urls</th>\n",
       "      <th>rating_numerator</th>\n",
       "      <th>rating_denominator</th>\n",
       "      <th>name</th>\n",
       "      <th>doggo</th>\n",
       "      <th>floofer</th>\n",
       "      <th>pupper</th>\n",
       "      <th>puppo</th>\n",
       "    </tr>\n",
       "  </thead>\n",
       "  <tbody>\n",
       "    <tr>\n",
       "      <th>444</th>\n",
       "      <td>819238181065359361</td>\n",
       "      <td>NaN</td>\n",
       "      <td>NaN</td>\n",
       "      <td>2017-01-11 17:42:57 +0000</td>\n",
       "      <td>&lt;a href=\"http://twitter.com\" rel=\"nofollow\"&gt;Tw...</td>\n",
       "      <td>Some happy pupper news to share. 10/10 for eve...</td>\n",
       "      <td>NaN</td>\n",
       "      <td>NaN</td>\n",
       "      <td>NaN</td>\n",
       "      <td>http://us.blastingnews.com/news/2017/01/200-do...</td>\n",
       "      <td>10</td>\n",
       "      <td>10</td>\n",
       "      <td>None</td>\n",
       "      <td>None</td>\n",
       "      <td>None</td>\n",
       "      <td>pupper</td>\n",
       "      <td>None</td>\n",
       "    </tr>\n",
       "    <tr>\n",
       "      <th>500</th>\n",
       "      <td>813112105746448384</td>\n",
       "      <td>NaN</td>\n",
       "      <td>NaN</td>\n",
       "      <td>2016-12-25 20:00:07 +0000</td>\n",
       "      <td>&lt;a href=\"http://twitter.com/download/iphone\" r...</td>\n",
       "      <td>Meet Toby. He's pupset because his hat isn't b...</td>\n",
       "      <td>NaN</td>\n",
       "      <td>NaN</td>\n",
       "      <td>NaN</td>\n",
       "      <td>https://twitter.com/dog_rates/status/813112105...</td>\n",
       "      <td>12</td>\n",
       "      <td>10</td>\n",
       "      <td>Toby</td>\n",
       "      <td>None</td>\n",
       "      <td>None</td>\n",
       "      <td>None</td>\n",
       "      <td>None</td>\n",
       "    </tr>\n",
       "    <tr>\n",
       "      <th>96</th>\n",
       "      <td>873580283840344065</td>\n",
       "      <td>NaN</td>\n",
       "      <td>NaN</td>\n",
       "      <td>2017-06-10 16:39:04 +0000</td>\n",
       "      <td>&lt;a href=\"http://twitter.com/download/iphone\" r...</td>\n",
       "      <td>We usually don't rate Deck-bound Saskatoon Bla...</td>\n",
       "      <td>NaN</td>\n",
       "      <td>NaN</td>\n",
       "      <td>NaN</td>\n",
       "      <td>https://twitter.com/dog_rates/status/873580283...</td>\n",
       "      <td>13</td>\n",
       "      <td>10</td>\n",
       "      <td>None</td>\n",
       "      <td>None</td>\n",
       "      <td>None</td>\n",
       "      <td>None</td>\n",
       "      <td>None</td>\n",
       "    </tr>\n",
       "    <tr>\n",
       "      <th>2216</th>\n",
       "      <td>668537837512433665</td>\n",
       "      <td>NaN</td>\n",
       "      <td>NaN</td>\n",
       "      <td>2015-11-22 21:13:35 +0000</td>\n",
       "      <td>&lt;a href=\"http://twitter.com/download/iphone\" r...</td>\n",
       "      <td>This is Spark. He's nervous. Other dog hasn't ...</td>\n",
       "      <td>NaN</td>\n",
       "      <td>NaN</td>\n",
       "      <td>NaN</td>\n",
       "      <td>https://twitter.com/dog_rates/status/668537837...</td>\n",
       "      <td>8</td>\n",
       "      <td>10</td>\n",
       "      <td>Spark</td>\n",
       "      <td>None</td>\n",
       "      <td>None</td>\n",
       "      <td>None</td>\n",
       "      <td>None</td>\n",
       "    </tr>\n",
       "    <tr>\n",
       "      <th>693</th>\n",
       "      <td>786963064373534720</td>\n",
       "      <td>NaN</td>\n",
       "      <td>NaN</td>\n",
       "      <td>2016-10-14 16:13:10 +0000</td>\n",
       "      <td>&lt;a href=\"http://twitter.com/download/iphone\" r...</td>\n",
       "      <td>This is Rory. He's got an interview in a few m...</td>\n",
       "      <td>NaN</td>\n",
       "      <td>NaN</td>\n",
       "      <td>NaN</td>\n",
       "      <td>https://twitter.com/dog_rates/status/786963064...</td>\n",
       "      <td>12</td>\n",
       "      <td>10</td>\n",
       "      <td>Rory</td>\n",
       "      <td>None</td>\n",
       "      <td>None</td>\n",
       "      <td>None</td>\n",
       "      <td>None</td>\n",
       "    </tr>\n",
       "    <tr>\n",
       "      <th>1172</th>\n",
       "      <td>720389942216527872</td>\n",
       "      <td>NaN</td>\n",
       "      <td>NaN</td>\n",
       "      <td>2016-04-13 23:15:21 +0000</td>\n",
       "      <td>&lt;a href=\"http://twitter.com/download/iphone\" r...</td>\n",
       "      <td>This is Ralphé. He patrols the lake. Looking f...</td>\n",
       "      <td>NaN</td>\n",
       "      <td>NaN</td>\n",
       "      <td>NaN</td>\n",
       "      <td>https://twitter.com/dog_rates/status/720389942...</td>\n",
       "      <td>11</td>\n",
       "      <td>10</td>\n",
       "      <td>Ralphé</td>\n",
       "      <td>None</td>\n",
       "      <td>None</td>\n",
       "      <td>None</td>\n",
       "      <td>None</td>\n",
       "    </tr>\n",
       "    <tr>\n",
       "      <th>1573</th>\n",
       "      <td>687494652870668288</td>\n",
       "      <td>NaN</td>\n",
       "      <td>NaN</td>\n",
       "      <td>2016-01-14 04:41:12 +0000</td>\n",
       "      <td>&lt;a href=\"http://twitter.com/download/iphone\" r...</td>\n",
       "      <td>This is Marq. He stole this car. 7/10 wtf Marq...</td>\n",
       "      <td>NaN</td>\n",
       "      <td>NaN</td>\n",
       "      <td>NaN</td>\n",
       "      <td>https://twitter.com/dog_rates/status/687494652...</td>\n",
       "      <td>7</td>\n",
       "      <td>10</td>\n",
       "      <td>Marq</td>\n",
       "      <td>None</td>\n",
       "      <td>None</td>\n",
       "      <td>None</td>\n",
       "      <td>None</td>\n",
       "    </tr>\n",
       "    <tr>\n",
       "      <th>403</th>\n",
       "      <td>824297048279236611</td>\n",
       "      <td>NaN</td>\n",
       "      <td>NaN</td>\n",
       "      <td>2017-01-25 16:45:05 +0000</td>\n",
       "      <td>&lt;a href=\"http://twitter.com/download/iphone\" r...</td>\n",
       "      <td>This is Nala. She got in trouble. One h*ck of ...</td>\n",
       "      <td>NaN</td>\n",
       "      <td>NaN</td>\n",
       "      <td>NaN</td>\n",
       "      <td>https://twitter.com/dog_rates/status/824297048...</td>\n",
       "      <td>11</td>\n",
       "      <td>10</td>\n",
       "      <td>Nala</td>\n",
       "      <td>None</td>\n",
       "      <td>None</td>\n",
       "      <td>None</td>\n",
       "      <td>None</td>\n",
       "    </tr>\n",
       "    <tr>\n",
       "      <th>1352</th>\n",
       "      <td>703774238772166656</td>\n",
       "      <td>NaN</td>\n",
       "      <td>NaN</td>\n",
       "      <td>2016-02-28 02:50:28 +0000</td>\n",
       "      <td>&lt;a href=\"http://twitter.com/download/iphone\" r...</td>\n",
       "      <td>\"YOU CAN'T HANDLE THE TRUTH\" both 10/10 https:...</td>\n",
       "      <td>NaN</td>\n",
       "      <td>NaN</td>\n",
       "      <td>NaN</td>\n",
       "      <td>https://twitter.com/dog_rates/status/703774238...</td>\n",
       "      <td>10</td>\n",
       "      <td>10</td>\n",
       "      <td>None</td>\n",
       "      <td>None</td>\n",
       "      <td>None</td>\n",
       "      <td>None</td>\n",
       "      <td>None</td>\n",
       "    </tr>\n",
       "    <tr>\n",
       "      <th>1745</th>\n",
       "      <td>679148763231985668</td>\n",
       "      <td>NaN</td>\n",
       "      <td>NaN</td>\n",
       "      <td>2015-12-22 03:57:37 +0000</td>\n",
       "      <td>&lt;a href=\"http://twitter.com/download/iphone\" r...</td>\n",
       "      <td>I know everyone's excited for Christmas but th...</td>\n",
       "      <td>NaN</td>\n",
       "      <td>NaN</td>\n",
       "      <td>NaN</td>\n",
       "      <td>https://twitter.com/dog_rates/status/679148763...</td>\n",
       "      <td>8</td>\n",
       "      <td>10</td>\n",
       "      <td>None</td>\n",
       "      <td>None</td>\n",
       "      <td>None</td>\n",
       "      <td>None</td>\n",
       "      <td>None</td>\n",
       "    </tr>\n",
       "    <tr>\n",
       "      <th>971</th>\n",
       "      <td>750101899009982464</td>\n",
       "      <td>NaN</td>\n",
       "      <td>NaN</td>\n",
       "      <td>2016-07-04 23:00:03 +0000</td>\n",
       "      <td>&lt;a href=\"http://twitter.com/download/iphone\" r...</td>\n",
       "      <td>Meet Lilah. She agreed on one quick pic. Now s...</td>\n",
       "      <td>NaN</td>\n",
       "      <td>NaN</td>\n",
       "      <td>NaN</td>\n",
       "      <td>https://twitter.com/dog_rates/status/750101899...</td>\n",
       "      <td>11</td>\n",
       "      <td>10</td>\n",
       "      <td>Lilah</td>\n",
       "      <td>None</td>\n",
       "      <td>None</td>\n",
       "      <td>None</td>\n",
       "      <td>None</td>\n",
       "    </tr>\n",
       "    <tr>\n",
       "      <th>2297</th>\n",
       "      <td>667073648344346624</td>\n",
       "      <td>NaN</td>\n",
       "      <td>NaN</td>\n",
       "      <td>2015-11-18 20:15:26 +0000</td>\n",
       "      <td>&lt;a href=\"http://twitter.com/download/iphone\" r...</td>\n",
       "      <td>Here is Dave. He is actually just a skinny leg...</td>\n",
       "      <td>NaN</td>\n",
       "      <td>NaN</td>\n",
       "      <td>NaN</td>\n",
       "      <td>https://twitter.com/dog_rates/status/667073648...</td>\n",
       "      <td>10</td>\n",
       "      <td>10</td>\n",
       "      <td>Dave</td>\n",
       "      <td>None</td>\n",
       "      <td>None</td>\n",
       "      <td>None</td>\n",
       "      <td>None</td>\n",
       "    </tr>\n",
       "    <tr>\n",
       "      <th>2045</th>\n",
       "      <td>671528761649688577</td>\n",
       "      <td>NaN</td>\n",
       "      <td>NaN</td>\n",
       "      <td>2015-12-01 03:18:27 +0000</td>\n",
       "      <td>&lt;a href=\"http://twitter.com/download/iphone\" r...</td>\n",
       "      <td>Meet Jax. He's in the middle of a serious conv...</td>\n",
       "      <td>NaN</td>\n",
       "      <td>NaN</td>\n",
       "      <td>NaN</td>\n",
       "      <td>https://twitter.com/dog_rates/status/671528761...</td>\n",
       "      <td>10</td>\n",
       "      <td>10</td>\n",
       "      <td>Jax</td>\n",
       "      <td>None</td>\n",
       "      <td>None</td>\n",
       "      <td>None</td>\n",
       "      <td>None</td>\n",
       "    </tr>\n",
       "    <tr>\n",
       "      <th>1586</th>\n",
       "      <td>686760001961103360</td>\n",
       "      <td>NaN</td>\n",
       "      <td>NaN</td>\n",
       "      <td>2016-01-12 04:01:58 +0000</td>\n",
       "      <td>&lt;a href=\"http://vine.co\" rel=\"nofollow\"&gt;Vine -...</td>\n",
       "      <td>This pupper forgot how to walk. 12/10 happens ...</td>\n",
       "      <td>NaN</td>\n",
       "      <td>NaN</td>\n",
       "      <td>NaN</td>\n",
       "      <td>https://vine.co/v/iMvubwT260D</td>\n",
       "      <td>12</td>\n",
       "      <td>10</td>\n",
       "      <td>None</td>\n",
       "      <td>None</td>\n",
       "      <td>None</td>\n",
       "      <td>pupper</td>\n",
       "      <td>None</td>\n",
       "    </tr>\n",
       "    <tr>\n",
       "      <th>1641</th>\n",
       "      <td>684122891630342144</td>\n",
       "      <td>NaN</td>\n",
       "      <td>NaN</td>\n",
       "      <td>2016-01-04 21:23:02 +0000</td>\n",
       "      <td>&lt;a href=\"http://twitter.com/download/iphone\" r...</td>\n",
       "      <td>Heartwarming scene of two pups that want nothi...</td>\n",
       "      <td>NaN</td>\n",
       "      <td>NaN</td>\n",
       "      <td>NaN</td>\n",
       "      <td>https://twitter.com/dog_rates/status/684122891...</td>\n",
       "      <td>11</td>\n",
       "      <td>10</td>\n",
       "      <td>None</td>\n",
       "      <td>None</td>\n",
       "      <td>None</td>\n",
       "      <td>None</td>\n",
       "      <td>None</td>\n",
       "    </tr>\n",
       "    <tr>\n",
       "      <th>2329</th>\n",
       "      <td>666373753744588802</td>\n",
       "      <td>NaN</td>\n",
       "      <td>NaN</td>\n",
       "      <td>2015-11-16 21:54:18 +0000</td>\n",
       "      <td>&lt;a href=\"http://twitter.com/download/iphone\" r...</td>\n",
       "      <td>Those are sunglasses and a jean jacket. 11/10 ...</td>\n",
       "      <td>NaN</td>\n",
       "      <td>NaN</td>\n",
       "      <td>NaN</td>\n",
       "      <td>https://twitter.com/dog_rates/status/666373753...</td>\n",
       "      <td>11</td>\n",
       "      <td>10</td>\n",
       "      <td>None</td>\n",
       "      <td>None</td>\n",
       "      <td>None</td>\n",
       "      <td>None</td>\n",
       "      <td>None</td>\n",
       "    </tr>\n",
       "    <tr>\n",
       "      <th>742</th>\n",
       "      <td>780476555013349377</td>\n",
       "      <td>NaN</td>\n",
       "      <td>NaN</td>\n",
       "      <td>2016-09-26 18:38:05 +0000</td>\n",
       "      <td>&lt;a href=\"http://twitter.com/download/iphone\" r...</td>\n",
       "      <td>RT @Patreon: Well. @dog_rates is on Patreon. \\...</td>\n",
       "      <td>7.804657e+17</td>\n",
       "      <td>1.228326e+09</td>\n",
       "      <td>2016-09-26 17:55:00 +0000</td>\n",
       "      <td>https://www.patreon.com/WeRateDogs,https://twi...</td>\n",
       "      <td>12</td>\n",
       "      <td>10</td>\n",
       "      <td>None</td>\n",
       "      <td>None</td>\n",
       "      <td>None</td>\n",
       "      <td>None</td>\n",
       "      <td>None</td>\n",
       "    </tr>\n",
       "    <tr>\n",
       "      <th>349</th>\n",
       "      <td>831650051525054464</td>\n",
       "      <td>NaN</td>\n",
       "      <td>NaN</td>\n",
       "      <td>2017-02-14 23:43:18 +0000</td>\n",
       "      <td>&lt;a href=\"http://twitter.com/download/iphone\" r...</td>\n",
       "      <td>I usually only share these on Friday's, but th...</td>\n",
       "      <td>NaN</td>\n",
       "      <td>NaN</td>\n",
       "      <td>NaN</td>\n",
       "      <td>http://www.gofundme.com/bluethewhitehusky,http...</td>\n",
       "      <td>13</td>\n",
       "      <td>10</td>\n",
       "      <td>None</td>\n",
       "      <td>None</td>\n",
       "      <td>None</td>\n",
       "      <td>None</td>\n",
       "      <td>None</td>\n",
       "    </tr>\n",
       "    <tr>\n",
       "      <th>2085</th>\n",
       "      <td>670804601705242624</td>\n",
       "      <td>NaN</td>\n",
       "      <td>NaN</td>\n",
       "      <td>2015-11-29 03:20:54 +0000</td>\n",
       "      <td>&lt;a href=\"http://twitter.com/download/iphone\" r...</td>\n",
       "      <td>Meet Mason. He's a total frat boy. Pretends to...</td>\n",
       "      <td>NaN</td>\n",
       "      <td>NaN</td>\n",
       "      <td>NaN</td>\n",
       "      <td>https://twitter.com/dog_rates/status/670804601...</td>\n",
       "      <td>10</td>\n",
       "      <td>10</td>\n",
       "      <td>Mason</td>\n",
       "      <td>None</td>\n",
       "      <td>None</td>\n",
       "      <td>None</td>\n",
       "      <td>None</td>\n",
       "    </tr>\n",
       "    <tr>\n",
       "      <th>722</th>\n",
       "      <td>783085703974514689</td>\n",
       "      <td>NaN</td>\n",
       "      <td>NaN</td>\n",
       "      <td>2016-10-03 23:25:55 +0000</td>\n",
       "      <td>&lt;a href=\"http://twitter.com/download/iphone\" r...</td>\n",
       "      <td>This is Earl. He can't catch. Did his best tho...</td>\n",
       "      <td>NaN</td>\n",
       "      <td>NaN</td>\n",
       "      <td>NaN</td>\n",
       "      <td>https://twitter.com/dog_rates/status/783085703...</td>\n",
       "      <td>11</td>\n",
       "      <td>10</td>\n",
       "      <td>Earl</td>\n",
       "      <td>None</td>\n",
       "      <td>None</td>\n",
       "      <td>None</td>\n",
       "      <td>None</td>\n",
       "    </tr>\n",
       "    <tr>\n",
       "      <th>2077</th>\n",
       "      <td>670833812859932673</td>\n",
       "      <td>NaN</td>\n",
       "      <td>NaN</td>\n",
       "      <td>2015-11-29 05:16:59 +0000</td>\n",
       "      <td>&lt;a href=\"http://twitter.com/download/iphone\" r...</td>\n",
       "      <td>This is Jett. He is unimpressed by flower. 7/1...</td>\n",
       "      <td>NaN</td>\n",
       "      <td>NaN</td>\n",
       "      <td>NaN</td>\n",
       "      <td>https://twitter.com/dog_rates/status/670833812...</td>\n",
       "      <td>7</td>\n",
       "      <td>10</td>\n",
       "      <td>Jett</td>\n",
       "      <td>None</td>\n",
       "      <td>None</td>\n",
       "      <td>None</td>\n",
       "      <td>None</td>\n",
       "    </tr>\n",
       "    <tr>\n",
       "      <th>1099</th>\n",
       "      <td>735991953473572864</td>\n",
       "      <td>NaN</td>\n",
       "      <td>NaN</td>\n",
       "      <td>2016-05-27 00:32:10 +0000</td>\n",
       "      <td>&lt;a href=\"http://twitter.com/download/iphone\" r...</td>\n",
       "      <td>This is Maxaroni. He's curly af. Also rather f...</td>\n",
       "      <td>NaN</td>\n",
       "      <td>NaN</td>\n",
       "      <td>NaN</td>\n",
       "      <td>https://twitter.com/dog_rates/status/735991953...</td>\n",
       "      <td>11</td>\n",
       "      <td>10</td>\n",
       "      <td>Maxaroni</td>\n",
       "      <td>None</td>\n",
       "      <td>None</td>\n",
       "      <td>None</td>\n",
       "      <td>None</td>\n",
       "    </tr>\n",
       "    <tr>\n",
       "      <th>1141</th>\n",
       "      <td>727644517743104000</td>\n",
       "      <td>NaN</td>\n",
       "      <td>NaN</td>\n",
       "      <td>2016-05-03 23:42:26 +0000</td>\n",
       "      <td>&lt;a href=\"http://twitter.com/download/iphone\" r...</td>\n",
       "      <td>Here's a doggo struggling to cope with the win...</td>\n",
       "      <td>NaN</td>\n",
       "      <td>NaN</td>\n",
       "      <td>NaN</td>\n",
       "      <td>https://twitter.com/dog_rates/status/727644517...</td>\n",
       "      <td>13</td>\n",
       "      <td>10</td>\n",
       "      <td>None</td>\n",
       "      <td>doggo</td>\n",
       "      <td>None</td>\n",
       "      <td>None</td>\n",
       "      <td>None</td>\n",
       "    </tr>\n",
       "    <tr>\n",
       "      <th>1146</th>\n",
       "      <td>727155742655025152</td>\n",
       "      <td>NaN</td>\n",
       "      <td>NaN</td>\n",
       "      <td>2016-05-02 15:20:13 +0000</td>\n",
       "      <td>&lt;a href=\"http://vine.co\" rel=\"nofollow\"&gt;Vine -...</td>\n",
       "      <td>When you're trying to enjoy yourself but end u...</td>\n",
       "      <td>NaN</td>\n",
       "      <td>NaN</td>\n",
       "      <td>NaN</td>\n",
       "      <td>https://vine.co/v/ixa1ejbXiM7</td>\n",
       "      <td>11</td>\n",
       "      <td>10</td>\n",
       "      <td>None</td>\n",
       "      <td>None</td>\n",
       "      <td>None</td>\n",
       "      <td>None</td>\n",
       "      <td>None</td>\n",
       "    </tr>\n",
       "    <tr>\n",
       "      <th>2092</th>\n",
       "      <td>670782429121134593</td>\n",
       "      <td>NaN</td>\n",
       "      <td>NaN</td>\n",
       "      <td>2015-11-29 01:52:48 +0000</td>\n",
       "      <td>&lt;a href=\"http://twitter.com/download/iphone\" r...</td>\n",
       "      <td>This dude slaps your girl's ass what do you do...</td>\n",
       "      <td>NaN</td>\n",
       "      <td>NaN</td>\n",
       "      <td>NaN</td>\n",
       "      <td>https://twitter.com/dog_rates/status/670782429...</td>\n",
       "      <td>5</td>\n",
       "      <td>10</td>\n",
       "      <td>None</td>\n",
       "      <td>None</td>\n",
       "      <td>None</td>\n",
       "      <td>None</td>\n",
       "      <td>None</td>\n",
       "    </tr>\n",
       "    <tr>\n",
       "      <th>337</th>\n",
       "      <td>832397543355072512</td>\n",
       "      <td>NaN</td>\n",
       "      <td>NaN</td>\n",
       "      <td>2017-02-17 01:13:34 +0000</td>\n",
       "      <td>&lt;a href=\"http://twitter.com/download/iphone\" r...</td>\n",
       "      <td>This is Eevee. She wants to see how you're doi...</td>\n",
       "      <td>NaN</td>\n",
       "      <td>NaN</td>\n",
       "      <td>NaN</td>\n",
       "      <td>https://twitter.com/dog_rates/status/832397543...</td>\n",
       "      <td>12</td>\n",
       "      <td>10</td>\n",
       "      <td>Eevee</td>\n",
       "      <td>None</td>\n",
       "      <td>None</td>\n",
       "      <td>None</td>\n",
       "      <td>None</td>\n",
       "    </tr>\n",
       "    <tr>\n",
       "      <th>2071</th>\n",
       "      <td>671115716440031232</td>\n",
       "      <td>NaN</td>\n",
       "      <td>NaN</td>\n",
       "      <td>2015-11-29 23:57:10 +0000</td>\n",
       "      <td>&lt;a href=\"http://twitter.com/download/iphone\" r...</td>\n",
       "      <td>Meet Phred. He isn't steering, looking at the ...</td>\n",
       "      <td>NaN</td>\n",
       "      <td>NaN</td>\n",
       "      <td>NaN</td>\n",
       "      <td>https://twitter.com/dog_rates/status/671115716...</td>\n",
       "      <td>6</td>\n",
       "      <td>10</td>\n",
       "      <td>Phred</td>\n",
       "      <td>None</td>\n",
       "      <td>None</td>\n",
       "      <td>None</td>\n",
       "      <td>None</td>\n",
       "    </tr>\n",
       "    <tr>\n",
       "      <th>73</th>\n",
       "      <td>878404777348136964</td>\n",
       "      <td>NaN</td>\n",
       "      <td>NaN</td>\n",
       "      <td>2017-06-24 00:09:53 +0000</td>\n",
       "      <td>&lt;a href=\"http://twitter.com/download/iphone\" r...</td>\n",
       "      <td>RT @dog_rates: Meet Shadow. In an attempt to r...</td>\n",
       "      <td>8.782815e+17</td>\n",
       "      <td>4.196984e+09</td>\n",
       "      <td>2017-06-23 16:00:04 +0000</td>\n",
       "      <td>https://www.gofundme.com/3yd6y1c,https://twitt...</td>\n",
       "      <td>13</td>\n",
       "      <td>10</td>\n",
       "      <td>Shadow</td>\n",
       "      <td>None</td>\n",
       "      <td>None</td>\n",
       "      <td>None</td>\n",
       "      <td>None</td>\n",
       "    </tr>\n",
       "    <tr>\n",
       "      <th>1946</th>\n",
       "      <td>673705679337693185</td>\n",
       "      <td>NaN</td>\n",
       "      <td>NaN</td>\n",
       "      <td>2015-12-07 03:28:45 +0000</td>\n",
       "      <td>&lt;a href=\"http://twitter.com/download/iphone\" r...</td>\n",
       "      <td>This is Dot. He found out you only pretended t...</td>\n",
       "      <td>NaN</td>\n",
       "      <td>NaN</td>\n",
       "      <td>NaN</td>\n",
       "      <td>https://twitter.com/dog_rates/status/673705679...</td>\n",
       "      <td>8</td>\n",
       "      <td>10</td>\n",
       "      <td>Dot</td>\n",
       "      <td>None</td>\n",
       "      <td>None</td>\n",
       "      <td>None</td>\n",
       "      <td>None</td>\n",
       "    </tr>\n",
       "    <tr>\n",
       "      <th>515</th>\n",
       "      <td>811386762094317568</td>\n",
       "      <td>NaN</td>\n",
       "      <td>NaN</td>\n",
       "      <td>2016-12-21 01:44:13 +0000</td>\n",
       "      <td>&lt;a href=\"http://twitter.com/download/iphone\" r...</td>\n",
       "      <td>This is Craig. That's actually a normal sized ...</td>\n",
       "      <td>NaN</td>\n",
       "      <td>NaN</td>\n",
       "      <td>NaN</td>\n",
       "      <td>https://twitter.com/dog_rates/status/811386762...</td>\n",
       "      <td>11</td>\n",
       "      <td>10</td>\n",
       "      <td>Craig</td>\n",
       "      <td>None</td>\n",
       "      <td>None</td>\n",
       "      <td>pupper</td>\n",
       "      <td>None</td>\n",
       "    </tr>\n",
       "    <tr>\n",
       "      <th>852</th>\n",
       "      <td>765395769549590528</td>\n",
       "      <td>NaN</td>\n",
       "      <td>NaN</td>\n",
       "      <td>2016-08-16 03:52:26 +0000</td>\n",
       "      <td>&lt;a href=\"http://twitter.com/download/iphone\" r...</td>\n",
       "      <td>This is my dog. Her name is Zoey. She knows I'...</td>\n",
       "      <td>NaN</td>\n",
       "      <td>NaN</td>\n",
       "      <td>NaN</td>\n",
       "      <td>https://twitter.com/dog_rates/status/765395769...</td>\n",
       "      <td>13</td>\n",
       "      <td>10</td>\n",
       "      <td>my</td>\n",
       "      <td>None</td>\n",
       "      <td>None</td>\n",
       "      <td>None</td>\n",
       "      <td>None</td>\n",
       "    </tr>\n",
       "    <tr>\n",
       "      <th>335</th>\n",
       "      <td>832645525019123713</td>\n",
       "      <td>NaN</td>\n",
       "      <td>NaN</td>\n",
       "      <td>2017-02-17 17:38:57 +0000</td>\n",
       "      <td>&lt;a href=\"http://twitter.com\" rel=\"nofollow\"&gt;Tw...</td>\n",
       "      <td>There's going to be a dog terminal at JFK Airp...</td>\n",
       "      <td>NaN</td>\n",
       "      <td>NaN</td>\n",
       "      <td>NaN</td>\n",
       "      <td>http://us.blastingnews.com/news/2017/02/jfk-an...</td>\n",
       "      <td>10</td>\n",
       "      <td>10</td>\n",
       "      <td>not</td>\n",
       "      <td>None</td>\n",
       "      <td>None</td>\n",
       "      <td>None</td>\n",
       "      <td>None</td>\n",
       "    </tr>\n",
       "    <tr>\n",
       "      <th>173</th>\n",
       "      <td>858471635011153920</td>\n",
       "      <td>NaN</td>\n",
       "      <td>NaN</td>\n",
       "      <td>2017-04-30 00:02:42 +0000</td>\n",
       "      <td>&lt;a href=\"http://twitter.com/download/iphone\" r...</td>\n",
       "      <td>This is Sophie. She just arrived. Used paworit...</td>\n",
       "      <td>NaN</td>\n",
       "      <td>NaN</td>\n",
       "      <td>NaN</td>\n",
       "      <td>https://twitter.com/dog_rates/status/858471635...</td>\n",
       "      <td>13</td>\n",
       "      <td>10</td>\n",
       "      <td>Sophie</td>\n",
       "      <td>None</td>\n",
       "      <td>None</td>\n",
       "      <td>None</td>\n",
       "      <td>None</td>\n",
       "    </tr>\n",
       "    <tr>\n",
       "      <th>229</th>\n",
       "      <td>848212111729840128</td>\n",
       "      <td>NaN</td>\n",
       "      <td>NaN</td>\n",
       "      <td>2017-04-01 16:35:01 +0000</td>\n",
       "      <td>&lt;a href=\"http://twitter.com/download/iphone\" r...</td>\n",
       "      <td>This is Jerry. He's doing a distinguished tong...</td>\n",
       "      <td>NaN</td>\n",
       "      <td>NaN</td>\n",
       "      <td>NaN</td>\n",
       "      <td>https://twitter.com/dog_rates/status/848212111...</td>\n",
       "      <td>6</td>\n",
       "      <td>10</td>\n",
       "      <td>Jerry</td>\n",
       "      <td>None</td>\n",
       "      <td>None</td>\n",
       "      <td>None</td>\n",
       "      <td>None</td>\n",
       "    </tr>\n",
       "    <tr>\n",
       "      <th>2276</th>\n",
       "      <td>667443425659232256</td>\n",
       "      <td>NaN</td>\n",
       "      <td>NaN</td>\n",
       "      <td>2015-11-19 20:44:47 +0000</td>\n",
       "      <td>&lt;a href=\"http://twitter.com/download/iphone\" r...</td>\n",
       "      <td>Exotic dog here. Long neck. Weird paws. Obsess...</td>\n",
       "      <td>NaN</td>\n",
       "      <td>NaN</td>\n",
       "      <td>NaN</td>\n",
       "      <td>https://twitter.com/dog_rates/status/667443425...</td>\n",
       "      <td>6</td>\n",
       "      <td>10</td>\n",
       "      <td>None</td>\n",
       "      <td>None</td>\n",
       "      <td>None</td>\n",
       "      <td>None</td>\n",
       "      <td>None</td>\n",
       "    </tr>\n",
       "    <tr>\n",
       "      <th>475</th>\n",
       "      <td>816062466425819140</td>\n",
       "      <td>NaN</td>\n",
       "      <td>NaN</td>\n",
       "      <td>2017-01-02 23:23:48 +0000</td>\n",
       "      <td>&lt;a href=\"http://twitter.com/download/iphone\" r...</td>\n",
       "      <td>RT @dog_rates: Meet Jack. He's one of the rare...</td>\n",
       "      <td>8.159907e+17</td>\n",
       "      <td>4.196984e+09</td>\n",
       "      <td>2017-01-02 18:38:42 +0000</td>\n",
       "      <td>https://www.gofundme.com/surgeryforjacktheminp...</td>\n",
       "      <td>11</td>\n",
       "      <td>10</td>\n",
       "      <td>Jack</td>\n",
       "      <td>None</td>\n",
       "      <td>None</td>\n",
       "      <td>None</td>\n",
       "      <td>None</td>\n",
       "    </tr>\n",
       "    <tr>\n",
       "      <th>1994</th>\n",
       "      <td>672604026190569472</td>\n",
       "      <td>NaN</td>\n",
       "      <td>NaN</td>\n",
       "      <td>2015-12-04 02:31:10 +0000</td>\n",
       "      <td>&lt;a href=\"http://twitter.com/download/iphone\" r...</td>\n",
       "      <td>This is a baby Rand Paul. Curls for days. 11/1...</td>\n",
       "      <td>NaN</td>\n",
       "      <td>NaN</td>\n",
       "      <td>NaN</td>\n",
       "      <td>https://twitter.com/dog_rates/status/672604026...</td>\n",
       "      <td>11</td>\n",
       "      <td>10</td>\n",
       "      <td>a</td>\n",
       "      <td>None</td>\n",
       "      <td>None</td>\n",
       "      <td>None</td>\n",
       "      <td>None</td>\n",
       "    </tr>\n",
       "    <tr>\n",
       "      <th>389</th>\n",
       "      <td>826476773533745153</td>\n",
       "      <td>NaN</td>\n",
       "      <td>NaN</td>\n",
       "      <td>2017-01-31 17:06:32 +0000</td>\n",
       "      <td>&lt;a href=\"http://twitter.com/download/iphone\" r...</td>\n",
       "      <td>This is Pilot. He has mastered the synchronize...</td>\n",
       "      <td>NaN</td>\n",
       "      <td>NaN</td>\n",
       "      <td>NaN</td>\n",
       "      <td>https://twitter.com/dog_rates/status/826476773...</td>\n",
       "      <td>12</td>\n",
       "      <td>10</td>\n",
       "      <td>Pilot</td>\n",
       "      <td>doggo</td>\n",
       "      <td>None</td>\n",
       "      <td>None</td>\n",
       "      <td>None</td>\n",
       "    </tr>\n",
       "    <tr>\n",
       "      <th>1495</th>\n",
       "      <td>692535307825213440</td>\n",
       "      <td>NaN</td>\n",
       "      <td>NaN</td>\n",
       "      <td>2016-01-28 02:30:58 +0000</td>\n",
       "      <td>&lt;a href=\"http://twitter.com/download/iphone\" r...</td>\n",
       "      <td>This is Amber. She's a Fetty Woof. 10/10 would...</td>\n",
       "      <td>NaN</td>\n",
       "      <td>NaN</td>\n",
       "      <td>NaN</td>\n",
       "      <td>https://twitter.com/dog_rates/status/692535307...</td>\n",
       "      <td>10</td>\n",
       "      <td>10</td>\n",
       "      <td>Amber</td>\n",
       "      <td>None</td>\n",
       "      <td>None</td>\n",
       "      <td>None</td>\n",
       "      <td>None</td>\n",
       "    </tr>\n",
       "    <tr>\n",
       "      <th>67</th>\n",
       "      <td>879376492567855104</td>\n",
       "      <td>NaN</td>\n",
       "      <td>NaN</td>\n",
       "      <td>2017-06-26 16:31:08 +0000</td>\n",
       "      <td>&lt;a href=\"http://twitter.com/download/iphone\" r...</td>\n",
       "      <td>This is Jack AKA Stephen Furry. You're not sco...</td>\n",
       "      <td>NaN</td>\n",
       "      <td>NaN</td>\n",
       "      <td>NaN</td>\n",
       "      <td>https://twitter.com/dog_rates/status/879376492...</td>\n",
       "      <td>12</td>\n",
       "      <td>10</td>\n",
       "      <td>Jack</td>\n",
       "      <td>None</td>\n",
       "      <td>None</td>\n",
       "      <td>None</td>\n",
       "      <td>None</td>\n",
       "    </tr>\n",
       "    <tr>\n",
       "      <th>961</th>\n",
       "      <td>751132876104687617</td>\n",
       "      <td>NaN</td>\n",
       "      <td>NaN</td>\n",
       "      <td>2016-07-07 19:16:47 +0000</td>\n",
       "      <td>&lt;a href=\"http://twitter.com/download/iphone\" r...</td>\n",
       "      <td>This is Cooper. He's just so damn happy. 10/10...</td>\n",
       "      <td>NaN</td>\n",
       "      <td>NaN</td>\n",
       "      <td>NaN</td>\n",
       "      <td>https://twitter.com/dog_rates/status/751132876...</td>\n",
       "      <td>10</td>\n",
       "      <td>10</td>\n",
       "      <td>Cooper</td>\n",
       "      <td>None</td>\n",
       "      <td>None</td>\n",
       "      <td>None</td>\n",
       "      <td>puppo</td>\n",
       "    </tr>\n",
       "    <tr>\n",
       "      <th>910</th>\n",
       "      <td>757611664640446465</td>\n",
       "      <td>NaN</td>\n",
       "      <td>NaN</td>\n",
       "      <td>2016-07-25 16:21:11 +0000</td>\n",
       "      <td>&lt;a href=\"http://twitter.com/download/iphone\" r...</td>\n",
       "      <td>This is Cooper. He tries to come across as fei...</td>\n",
       "      <td>NaN</td>\n",
       "      <td>NaN</td>\n",
       "      <td>NaN</td>\n",
       "      <td>https://twitter.com/dog_rates/status/757611664...</td>\n",
       "      <td>12</td>\n",
       "      <td>10</td>\n",
       "      <td>Cooper</td>\n",
       "      <td>None</td>\n",
       "      <td>None</td>\n",
       "      <td>None</td>\n",
       "      <td>None</td>\n",
       "    </tr>\n",
       "    <tr>\n",
       "      <th>1706</th>\n",
       "      <td>680805554198020098</td>\n",
       "      <td>NaN</td>\n",
       "      <td>NaN</td>\n",
       "      <td>2015-12-26 17:41:07 +0000</td>\n",
       "      <td>&lt;a href=\"http://vine.co\" rel=\"nofollow\"&gt;Vine -...</td>\n",
       "      <td>This guy's dog broke. So sad. 9/10 would still...</td>\n",
       "      <td>NaN</td>\n",
       "      <td>NaN</td>\n",
       "      <td>NaN</td>\n",
       "      <td>https://vine.co/v/iAP0Ugzi2PO</td>\n",
       "      <td>9</td>\n",
       "      <td>10</td>\n",
       "      <td>None</td>\n",
       "      <td>None</td>\n",
       "      <td>None</td>\n",
       "      <td>None</td>\n",
       "      <td>None</td>\n",
       "    </tr>\n",
       "    <tr>\n",
       "      <th>704</th>\n",
       "      <td>785872687017132033</td>\n",
       "      <td>NaN</td>\n",
       "      <td>NaN</td>\n",
       "      <td>2016-10-11 16:00:24 +0000</td>\n",
       "      <td>&lt;a href=\"http://twitter.com/download/iphone\" r...</td>\n",
       "      <td>Meet Rusty. He appears to be rather h*ckin flu...</td>\n",
       "      <td>NaN</td>\n",
       "      <td>NaN</td>\n",
       "      <td>NaN</td>\n",
       "      <td>https://twitter.com/dog_rates/status/785872687...</td>\n",
       "      <td>12</td>\n",
       "      <td>10</td>\n",
       "      <td>Rusty</td>\n",
       "      <td>None</td>\n",
       "      <td>None</td>\n",
       "      <td>None</td>\n",
       "      <td>None</td>\n",
       "    </tr>\n",
       "    <tr>\n",
       "      <th>608</th>\n",
       "      <td>797971864723324932</td>\n",
       "      <td>NaN</td>\n",
       "      <td>NaN</td>\n",
       "      <td>2016-11-14 01:18:12 +0000</td>\n",
       "      <td>&lt;a href=\"http://twitter.com/download/iphone\" r...</td>\n",
       "      <td>Here's a helicopter pupper. He takes off at ra...</td>\n",
       "      <td>NaN</td>\n",
       "      <td>NaN</td>\n",
       "      <td>NaN</td>\n",
       "      <td>https://twitter.com/dog_rates/status/797971864...</td>\n",
       "      <td>12</td>\n",
       "      <td>10</td>\n",
       "      <td>None</td>\n",
       "      <td>None</td>\n",
       "      <td>None</td>\n",
       "      <td>pupper</td>\n",
       "      <td>None</td>\n",
       "    </tr>\n",
       "    <tr>\n",
       "      <th>622</th>\n",
       "      <td>796080075804475393</td>\n",
       "      <td>NaN</td>\n",
       "      <td>NaN</td>\n",
       "      <td>2016-11-08 20:00:55 +0000</td>\n",
       "      <td>&lt;a href=\"http://twitter.com/download/iphone\" r...</td>\n",
       "      <td>This is Yogi. He's 98% floof. Snuggable af. 12...</td>\n",
       "      <td>NaN</td>\n",
       "      <td>NaN</td>\n",
       "      <td>NaN</td>\n",
       "      <td>https://twitter.com/dog_rates/status/796080075...</td>\n",
       "      <td>12</td>\n",
       "      <td>10</td>\n",
       "      <td>Yogi</td>\n",
       "      <td>None</td>\n",
       "      <td>None</td>\n",
       "      <td>None</td>\n",
       "      <td>None</td>\n",
       "    </tr>\n",
       "    <tr>\n",
       "      <th>516</th>\n",
       "      <td>810984652412424192</td>\n",
       "      <td>NaN</td>\n",
       "      <td>NaN</td>\n",
       "      <td>2016-12-19 23:06:23 +0000</td>\n",
       "      <td>&lt;a href=\"http://twitter.com/download/iphone\" r...</td>\n",
       "      <td>Meet Sam. She smiles 24/7 &amp;amp; secretly aspir...</td>\n",
       "      <td>NaN</td>\n",
       "      <td>NaN</td>\n",
       "      <td>NaN</td>\n",
       "      <td>https://www.gofundme.com/sams-smile,https://tw...</td>\n",
       "      <td>24</td>\n",
       "      <td>7</td>\n",
       "      <td>Sam</td>\n",
       "      <td>None</td>\n",
       "      <td>None</td>\n",
       "      <td>None</td>\n",
       "      <td>None</td>\n",
       "    </tr>\n",
       "    <tr>\n",
       "      <th>188</th>\n",
       "      <td>855862651834028034</td>\n",
       "      <td>8.558616e+17</td>\n",
       "      <td>194351775.0</td>\n",
       "      <td>2017-04-22 19:15:32 +0000</td>\n",
       "      <td>&lt;a href=\"http://twitter.com/download/iphone\" r...</td>\n",
       "      <td>@dhmontgomery We also gave snoop dogg a 420/10...</td>\n",
       "      <td>NaN</td>\n",
       "      <td>NaN</td>\n",
       "      <td>NaN</td>\n",
       "      <td>NaN</td>\n",
       "      <td>420</td>\n",
       "      <td>10</td>\n",
       "      <td>None</td>\n",
       "      <td>None</td>\n",
       "      <td>None</td>\n",
       "      <td>None</td>\n",
       "      <td>None</td>\n",
       "    </tr>\n",
       "    <tr>\n",
       "      <th>52</th>\n",
       "      <td>882045870035918850</td>\n",
       "      <td>NaN</td>\n",
       "      <td>NaN</td>\n",
       "      <td>2017-07-04 01:18:17 +0000</td>\n",
       "      <td>&lt;a href=\"http://twitter.com/download/iphone\" r...</td>\n",
       "      <td>This is Koko. Her owner, inspired by Barney, r...</td>\n",
       "      <td>NaN</td>\n",
       "      <td>NaN</td>\n",
       "      <td>NaN</td>\n",
       "      <td>https://twitter.com/dog_rates/status/882045870...</td>\n",
       "      <td>13</td>\n",
       "      <td>10</td>\n",
       "      <td>Koko</td>\n",
       "      <td>None</td>\n",
       "      <td>None</td>\n",
       "      <td>None</td>\n",
       "      <td>None</td>\n",
       "    </tr>\n",
       "    <tr>\n",
       "      <th>959</th>\n",
       "      <td>751251247299190784</td>\n",
       "      <td>NaN</td>\n",
       "      <td>NaN</td>\n",
       "      <td>2016-07-08 03:07:09 +0000</td>\n",
       "      <td>&lt;a href=\"http://twitter.com/download/iphone\" r...</td>\n",
       "      <td>This is Gilbert. He's being chased by a battal...</td>\n",
       "      <td>NaN</td>\n",
       "      <td>NaN</td>\n",
       "      <td>NaN</td>\n",
       "      <td>https://twitter.com/dog_rates/status/751251247...</td>\n",
       "      <td>10</td>\n",
       "      <td>10</td>\n",
       "      <td>Gilbert</td>\n",
       "      <td>None</td>\n",
       "      <td>None</td>\n",
       "      <td>None</td>\n",
       "      <td>None</td>\n",
       "    </tr>\n",
       "  </tbody>\n",
       "</table>\n",
       "</div>"
      ],
      "text/plain": [
       "                tweet_id  in_reply_to_status_id  in_reply_to_user_id  \\\n",
       "444   819238181065359361                    NaN                  NaN   \n",
       "500   813112105746448384                    NaN                  NaN   \n",
       "96    873580283840344065                    NaN                  NaN   \n",
       "2216  668537837512433665                    NaN                  NaN   \n",
       "693   786963064373534720                    NaN                  NaN   \n",
       "1172  720389942216527872                    NaN                  NaN   \n",
       "1573  687494652870668288                    NaN                  NaN   \n",
       "403   824297048279236611                    NaN                  NaN   \n",
       "1352  703774238772166656                    NaN                  NaN   \n",
       "1745  679148763231985668                    NaN                  NaN   \n",
       "971   750101899009982464                    NaN                  NaN   \n",
       "2297  667073648344346624                    NaN                  NaN   \n",
       "2045  671528761649688577                    NaN                  NaN   \n",
       "1586  686760001961103360                    NaN                  NaN   \n",
       "1641  684122891630342144                    NaN                  NaN   \n",
       "2329  666373753744588802                    NaN                  NaN   \n",
       "742   780476555013349377                    NaN                  NaN   \n",
       "349   831650051525054464                    NaN                  NaN   \n",
       "2085  670804601705242624                    NaN                  NaN   \n",
       "722   783085703974514689                    NaN                  NaN   \n",
       "2077  670833812859932673                    NaN                  NaN   \n",
       "1099  735991953473572864                    NaN                  NaN   \n",
       "1141  727644517743104000                    NaN                  NaN   \n",
       "1146  727155742655025152                    NaN                  NaN   \n",
       "2092  670782429121134593                    NaN                  NaN   \n",
       "337   832397543355072512                    NaN                  NaN   \n",
       "2071  671115716440031232                    NaN                  NaN   \n",
       "73    878404777348136964                    NaN                  NaN   \n",
       "1946  673705679337693185                    NaN                  NaN   \n",
       "515   811386762094317568                    NaN                  NaN   \n",
       "852   765395769549590528                    NaN                  NaN   \n",
       "335   832645525019123713                    NaN                  NaN   \n",
       "173   858471635011153920                    NaN                  NaN   \n",
       "229   848212111729840128                    NaN                  NaN   \n",
       "2276  667443425659232256                    NaN                  NaN   \n",
       "475   816062466425819140                    NaN                  NaN   \n",
       "1994  672604026190569472                    NaN                  NaN   \n",
       "389   826476773533745153                    NaN                  NaN   \n",
       "1495  692535307825213440                    NaN                  NaN   \n",
       "67    879376492567855104                    NaN                  NaN   \n",
       "961   751132876104687617                    NaN                  NaN   \n",
       "910   757611664640446465                    NaN                  NaN   \n",
       "1706  680805554198020098                    NaN                  NaN   \n",
       "704   785872687017132033                    NaN                  NaN   \n",
       "608   797971864723324932                    NaN                  NaN   \n",
       "622   796080075804475393                    NaN                  NaN   \n",
       "516   810984652412424192                    NaN                  NaN   \n",
       "188   855862651834028034           8.558616e+17          194351775.0   \n",
       "52    882045870035918850                    NaN                  NaN   \n",
       "959   751251247299190784                    NaN                  NaN   \n",
       "\n",
       "                      timestamp  \\\n",
       "444   2017-01-11 17:42:57 +0000   \n",
       "500   2016-12-25 20:00:07 +0000   \n",
       "96    2017-06-10 16:39:04 +0000   \n",
       "2216  2015-11-22 21:13:35 +0000   \n",
       "693   2016-10-14 16:13:10 +0000   \n",
       "1172  2016-04-13 23:15:21 +0000   \n",
       "1573  2016-01-14 04:41:12 +0000   \n",
       "403   2017-01-25 16:45:05 +0000   \n",
       "1352  2016-02-28 02:50:28 +0000   \n",
       "1745  2015-12-22 03:57:37 +0000   \n",
       "971   2016-07-04 23:00:03 +0000   \n",
       "2297  2015-11-18 20:15:26 +0000   \n",
       "2045  2015-12-01 03:18:27 +0000   \n",
       "1586  2016-01-12 04:01:58 +0000   \n",
       "1641  2016-01-04 21:23:02 +0000   \n",
       "2329  2015-11-16 21:54:18 +0000   \n",
       "742   2016-09-26 18:38:05 +0000   \n",
       "349   2017-02-14 23:43:18 +0000   \n",
       "2085  2015-11-29 03:20:54 +0000   \n",
       "722   2016-10-03 23:25:55 +0000   \n",
       "2077  2015-11-29 05:16:59 +0000   \n",
       "1099  2016-05-27 00:32:10 +0000   \n",
       "1141  2016-05-03 23:42:26 +0000   \n",
       "1146  2016-05-02 15:20:13 +0000   \n",
       "2092  2015-11-29 01:52:48 +0000   \n",
       "337   2017-02-17 01:13:34 +0000   \n",
       "2071  2015-11-29 23:57:10 +0000   \n",
       "73    2017-06-24 00:09:53 +0000   \n",
       "1946  2015-12-07 03:28:45 +0000   \n",
       "515   2016-12-21 01:44:13 +0000   \n",
       "852   2016-08-16 03:52:26 +0000   \n",
       "335   2017-02-17 17:38:57 +0000   \n",
       "173   2017-04-30 00:02:42 +0000   \n",
       "229   2017-04-01 16:35:01 +0000   \n",
       "2276  2015-11-19 20:44:47 +0000   \n",
       "475   2017-01-02 23:23:48 +0000   \n",
       "1994  2015-12-04 02:31:10 +0000   \n",
       "389   2017-01-31 17:06:32 +0000   \n",
       "1495  2016-01-28 02:30:58 +0000   \n",
       "67    2017-06-26 16:31:08 +0000   \n",
       "961   2016-07-07 19:16:47 +0000   \n",
       "910   2016-07-25 16:21:11 +0000   \n",
       "1706  2015-12-26 17:41:07 +0000   \n",
       "704   2016-10-11 16:00:24 +0000   \n",
       "608   2016-11-14 01:18:12 +0000   \n",
       "622   2016-11-08 20:00:55 +0000   \n",
       "516   2016-12-19 23:06:23 +0000   \n",
       "188   2017-04-22 19:15:32 +0000   \n",
       "52    2017-07-04 01:18:17 +0000   \n",
       "959   2016-07-08 03:07:09 +0000   \n",
       "\n",
       "                                                 source  \\\n",
       "444   <a href=\"http://twitter.com\" rel=\"nofollow\">Tw...   \n",
       "500   <a href=\"http://twitter.com/download/iphone\" r...   \n",
       "96    <a href=\"http://twitter.com/download/iphone\" r...   \n",
       "2216  <a href=\"http://twitter.com/download/iphone\" r...   \n",
       "693   <a href=\"http://twitter.com/download/iphone\" r...   \n",
       "1172  <a href=\"http://twitter.com/download/iphone\" r...   \n",
       "1573  <a href=\"http://twitter.com/download/iphone\" r...   \n",
       "403   <a href=\"http://twitter.com/download/iphone\" r...   \n",
       "1352  <a href=\"http://twitter.com/download/iphone\" r...   \n",
       "1745  <a href=\"http://twitter.com/download/iphone\" r...   \n",
       "971   <a href=\"http://twitter.com/download/iphone\" r...   \n",
       "2297  <a href=\"http://twitter.com/download/iphone\" r...   \n",
       "2045  <a href=\"http://twitter.com/download/iphone\" r...   \n",
       "1586  <a href=\"http://vine.co\" rel=\"nofollow\">Vine -...   \n",
       "1641  <a href=\"http://twitter.com/download/iphone\" r...   \n",
       "2329  <a href=\"http://twitter.com/download/iphone\" r...   \n",
       "742   <a href=\"http://twitter.com/download/iphone\" r...   \n",
       "349   <a href=\"http://twitter.com/download/iphone\" r...   \n",
       "2085  <a href=\"http://twitter.com/download/iphone\" r...   \n",
       "722   <a href=\"http://twitter.com/download/iphone\" r...   \n",
       "2077  <a href=\"http://twitter.com/download/iphone\" r...   \n",
       "1099  <a href=\"http://twitter.com/download/iphone\" r...   \n",
       "1141  <a href=\"http://twitter.com/download/iphone\" r...   \n",
       "1146  <a href=\"http://vine.co\" rel=\"nofollow\">Vine -...   \n",
       "2092  <a href=\"http://twitter.com/download/iphone\" r...   \n",
       "337   <a href=\"http://twitter.com/download/iphone\" r...   \n",
       "2071  <a href=\"http://twitter.com/download/iphone\" r...   \n",
       "73    <a href=\"http://twitter.com/download/iphone\" r...   \n",
       "1946  <a href=\"http://twitter.com/download/iphone\" r...   \n",
       "515   <a href=\"http://twitter.com/download/iphone\" r...   \n",
       "852   <a href=\"http://twitter.com/download/iphone\" r...   \n",
       "335   <a href=\"http://twitter.com\" rel=\"nofollow\">Tw...   \n",
       "173   <a href=\"http://twitter.com/download/iphone\" r...   \n",
       "229   <a href=\"http://twitter.com/download/iphone\" r...   \n",
       "2276  <a href=\"http://twitter.com/download/iphone\" r...   \n",
       "475   <a href=\"http://twitter.com/download/iphone\" r...   \n",
       "1994  <a href=\"http://twitter.com/download/iphone\" r...   \n",
       "389   <a href=\"http://twitter.com/download/iphone\" r...   \n",
       "1495  <a href=\"http://twitter.com/download/iphone\" r...   \n",
       "67    <a href=\"http://twitter.com/download/iphone\" r...   \n",
       "961   <a href=\"http://twitter.com/download/iphone\" r...   \n",
       "910   <a href=\"http://twitter.com/download/iphone\" r...   \n",
       "1706  <a href=\"http://vine.co\" rel=\"nofollow\">Vine -...   \n",
       "704   <a href=\"http://twitter.com/download/iphone\" r...   \n",
       "608   <a href=\"http://twitter.com/download/iphone\" r...   \n",
       "622   <a href=\"http://twitter.com/download/iphone\" r...   \n",
       "516   <a href=\"http://twitter.com/download/iphone\" r...   \n",
       "188   <a href=\"http://twitter.com/download/iphone\" r...   \n",
       "52    <a href=\"http://twitter.com/download/iphone\" r...   \n",
       "959   <a href=\"http://twitter.com/download/iphone\" r...   \n",
       "\n",
       "                                                   text  retweeted_status_id  \\\n",
       "444   Some happy pupper news to share. 10/10 for eve...                  NaN   \n",
       "500   Meet Toby. He's pupset because his hat isn't b...                  NaN   \n",
       "96    We usually don't rate Deck-bound Saskatoon Bla...                  NaN   \n",
       "2216  This is Spark. He's nervous. Other dog hasn't ...                  NaN   \n",
       "693   This is Rory. He's got an interview in a few m...                  NaN   \n",
       "1172  This is Ralphé. He patrols the lake. Looking f...                  NaN   \n",
       "1573  This is Marq. He stole this car. 7/10 wtf Marq...                  NaN   \n",
       "403   This is Nala. She got in trouble. One h*ck of ...                  NaN   \n",
       "1352  \"YOU CAN'T HANDLE THE TRUTH\" both 10/10 https:...                  NaN   \n",
       "1745  I know everyone's excited for Christmas but th...                  NaN   \n",
       "971   Meet Lilah. She agreed on one quick pic. Now s...                  NaN   \n",
       "2297  Here is Dave. He is actually just a skinny leg...                  NaN   \n",
       "2045  Meet Jax. He's in the middle of a serious conv...                  NaN   \n",
       "1586  This pupper forgot how to walk. 12/10 happens ...                  NaN   \n",
       "1641  Heartwarming scene of two pups that want nothi...                  NaN   \n",
       "2329  Those are sunglasses and a jean jacket. 11/10 ...                  NaN   \n",
       "742   RT @Patreon: Well. @dog_rates is on Patreon. \\...         7.804657e+17   \n",
       "349   I usually only share these on Friday's, but th...                  NaN   \n",
       "2085  Meet Mason. He's a total frat boy. Pretends to...                  NaN   \n",
       "722   This is Earl. He can't catch. Did his best tho...                  NaN   \n",
       "2077  This is Jett. He is unimpressed by flower. 7/1...                  NaN   \n",
       "1099  This is Maxaroni. He's curly af. Also rather f...                  NaN   \n",
       "1141  Here's a doggo struggling to cope with the win...                  NaN   \n",
       "1146  When you're trying to enjoy yourself but end u...                  NaN   \n",
       "2092  This dude slaps your girl's ass what do you do...                  NaN   \n",
       "337   This is Eevee. She wants to see how you're doi...                  NaN   \n",
       "2071  Meet Phred. He isn't steering, looking at the ...                  NaN   \n",
       "73    RT @dog_rates: Meet Shadow. In an attempt to r...         8.782815e+17   \n",
       "1946  This is Dot. He found out you only pretended t...                  NaN   \n",
       "515   This is Craig. That's actually a normal sized ...                  NaN   \n",
       "852   This is my dog. Her name is Zoey. She knows I'...                  NaN   \n",
       "335   There's going to be a dog terminal at JFK Airp...                  NaN   \n",
       "173   This is Sophie. She just arrived. Used paworit...                  NaN   \n",
       "229   This is Jerry. He's doing a distinguished tong...                  NaN   \n",
       "2276  Exotic dog here. Long neck. Weird paws. Obsess...                  NaN   \n",
       "475   RT @dog_rates: Meet Jack. He's one of the rare...         8.159907e+17   \n",
       "1994  This is a baby Rand Paul. Curls for days. 11/1...                  NaN   \n",
       "389   This is Pilot. He has mastered the synchronize...                  NaN   \n",
       "1495  This is Amber. She's a Fetty Woof. 10/10 would...                  NaN   \n",
       "67    This is Jack AKA Stephen Furry. You're not sco...                  NaN   \n",
       "961   This is Cooper. He's just so damn happy. 10/10...                  NaN   \n",
       "910   This is Cooper. He tries to come across as fei...                  NaN   \n",
       "1706  This guy's dog broke. So sad. 9/10 would still...                  NaN   \n",
       "704   Meet Rusty. He appears to be rather h*ckin flu...                  NaN   \n",
       "608   Here's a helicopter pupper. He takes off at ra...                  NaN   \n",
       "622   This is Yogi. He's 98% floof. Snuggable af. 12...                  NaN   \n",
       "516   Meet Sam. She smiles 24/7 &amp; secretly aspir...                  NaN   \n",
       "188   @dhmontgomery We also gave snoop dogg a 420/10...                  NaN   \n",
       "52    This is Koko. Her owner, inspired by Barney, r...                  NaN   \n",
       "959   This is Gilbert. He's being chased by a battal...                  NaN   \n",
       "\n",
       "      retweeted_status_user_id retweeted_status_timestamp  \\\n",
       "444                        NaN                        NaN   \n",
       "500                        NaN                        NaN   \n",
       "96                         NaN                        NaN   \n",
       "2216                       NaN                        NaN   \n",
       "693                        NaN                        NaN   \n",
       "1172                       NaN                        NaN   \n",
       "1573                       NaN                        NaN   \n",
       "403                        NaN                        NaN   \n",
       "1352                       NaN                        NaN   \n",
       "1745                       NaN                        NaN   \n",
       "971                        NaN                        NaN   \n",
       "2297                       NaN                        NaN   \n",
       "2045                       NaN                        NaN   \n",
       "1586                       NaN                        NaN   \n",
       "1641                       NaN                        NaN   \n",
       "2329                       NaN                        NaN   \n",
       "742               1.228326e+09  2016-09-26 17:55:00 +0000   \n",
       "349                        NaN                        NaN   \n",
       "2085                       NaN                        NaN   \n",
       "722                        NaN                        NaN   \n",
       "2077                       NaN                        NaN   \n",
       "1099                       NaN                        NaN   \n",
       "1141                       NaN                        NaN   \n",
       "1146                       NaN                        NaN   \n",
       "2092                       NaN                        NaN   \n",
       "337                        NaN                        NaN   \n",
       "2071                       NaN                        NaN   \n",
       "73                4.196984e+09  2017-06-23 16:00:04 +0000   \n",
       "1946                       NaN                        NaN   \n",
       "515                        NaN                        NaN   \n",
       "852                        NaN                        NaN   \n",
       "335                        NaN                        NaN   \n",
       "173                        NaN                        NaN   \n",
       "229                        NaN                        NaN   \n",
       "2276                       NaN                        NaN   \n",
       "475               4.196984e+09  2017-01-02 18:38:42 +0000   \n",
       "1994                       NaN                        NaN   \n",
       "389                        NaN                        NaN   \n",
       "1495                       NaN                        NaN   \n",
       "67                         NaN                        NaN   \n",
       "961                        NaN                        NaN   \n",
       "910                        NaN                        NaN   \n",
       "1706                       NaN                        NaN   \n",
       "704                        NaN                        NaN   \n",
       "608                        NaN                        NaN   \n",
       "622                        NaN                        NaN   \n",
       "516                        NaN                        NaN   \n",
       "188                        NaN                        NaN   \n",
       "52                         NaN                        NaN   \n",
       "959                        NaN                        NaN   \n",
       "\n",
       "                                          expanded_urls  rating_numerator  \\\n",
       "444   http://us.blastingnews.com/news/2017/01/200-do...                10   \n",
       "500   https://twitter.com/dog_rates/status/813112105...                12   \n",
       "96    https://twitter.com/dog_rates/status/873580283...                13   \n",
       "2216  https://twitter.com/dog_rates/status/668537837...                 8   \n",
       "693   https://twitter.com/dog_rates/status/786963064...                12   \n",
       "1172  https://twitter.com/dog_rates/status/720389942...                11   \n",
       "1573  https://twitter.com/dog_rates/status/687494652...                 7   \n",
       "403   https://twitter.com/dog_rates/status/824297048...                11   \n",
       "1352  https://twitter.com/dog_rates/status/703774238...                10   \n",
       "1745  https://twitter.com/dog_rates/status/679148763...                 8   \n",
       "971   https://twitter.com/dog_rates/status/750101899...                11   \n",
       "2297  https://twitter.com/dog_rates/status/667073648...                10   \n",
       "2045  https://twitter.com/dog_rates/status/671528761...                10   \n",
       "1586                      https://vine.co/v/iMvubwT260D                12   \n",
       "1641  https://twitter.com/dog_rates/status/684122891...                11   \n",
       "2329  https://twitter.com/dog_rates/status/666373753...                11   \n",
       "742   https://www.patreon.com/WeRateDogs,https://twi...                12   \n",
       "349   http://www.gofundme.com/bluethewhitehusky,http...                13   \n",
       "2085  https://twitter.com/dog_rates/status/670804601...                10   \n",
       "722   https://twitter.com/dog_rates/status/783085703...                11   \n",
       "2077  https://twitter.com/dog_rates/status/670833812...                 7   \n",
       "1099  https://twitter.com/dog_rates/status/735991953...                11   \n",
       "1141  https://twitter.com/dog_rates/status/727644517...                13   \n",
       "1146                      https://vine.co/v/ixa1ejbXiM7                11   \n",
       "2092  https://twitter.com/dog_rates/status/670782429...                 5   \n",
       "337   https://twitter.com/dog_rates/status/832397543...                12   \n",
       "2071  https://twitter.com/dog_rates/status/671115716...                 6   \n",
       "73    https://www.gofundme.com/3yd6y1c,https://twitt...                13   \n",
       "1946  https://twitter.com/dog_rates/status/673705679...                 8   \n",
       "515   https://twitter.com/dog_rates/status/811386762...                11   \n",
       "852   https://twitter.com/dog_rates/status/765395769...                13   \n",
       "335   http://us.blastingnews.com/news/2017/02/jfk-an...                10   \n",
       "173   https://twitter.com/dog_rates/status/858471635...                13   \n",
       "229   https://twitter.com/dog_rates/status/848212111...                 6   \n",
       "2276  https://twitter.com/dog_rates/status/667443425...                 6   \n",
       "475   https://www.gofundme.com/surgeryforjacktheminp...                11   \n",
       "1994  https://twitter.com/dog_rates/status/672604026...                11   \n",
       "389   https://twitter.com/dog_rates/status/826476773...                12   \n",
       "1495  https://twitter.com/dog_rates/status/692535307...                10   \n",
       "67    https://twitter.com/dog_rates/status/879376492...                12   \n",
       "961   https://twitter.com/dog_rates/status/751132876...                10   \n",
       "910   https://twitter.com/dog_rates/status/757611664...                12   \n",
       "1706                      https://vine.co/v/iAP0Ugzi2PO                 9   \n",
       "704   https://twitter.com/dog_rates/status/785872687...                12   \n",
       "608   https://twitter.com/dog_rates/status/797971864...                12   \n",
       "622   https://twitter.com/dog_rates/status/796080075...                12   \n",
       "516   https://www.gofundme.com/sams-smile,https://tw...                24   \n",
       "188                                                 NaN               420   \n",
       "52    https://twitter.com/dog_rates/status/882045870...                13   \n",
       "959   https://twitter.com/dog_rates/status/751251247...                10   \n",
       "\n",
       "      rating_denominator      name  doggo floofer  pupper  puppo  \n",
       "444                   10      None   None    None  pupper   None  \n",
       "500                   10      Toby   None    None    None   None  \n",
       "96                    10      None   None    None    None   None  \n",
       "2216                  10     Spark   None    None    None   None  \n",
       "693                   10      Rory   None    None    None   None  \n",
       "1172                  10    Ralphé   None    None    None   None  \n",
       "1573                  10      Marq   None    None    None   None  \n",
       "403                   10      Nala   None    None    None   None  \n",
       "1352                  10      None   None    None    None   None  \n",
       "1745                  10      None   None    None    None   None  \n",
       "971                   10     Lilah   None    None    None   None  \n",
       "2297                  10      Dave   None    None    None   None  \n",
       "2045                  10       Jax   None    None    None   None  \n",
       "1586                  10      None   None    None  pupper   None  \n",
       "1641                  10      None   None    None    None   None  \n",
       "2329                  10      None   None    None    None   None  \n",
       "742                   10      None   None    None    None   None  \n",
       "349                   10      None   None    None    None   None  \n",
       "2085                  10     Mason   None    None    None   None  \n",
       "722                   10      Earl   None    None    None   None  \n",
       "2077                  10      Jett   None    None    None   None  \n",
       "1099                  10  Maxaroni   None    None    None   None  \n",
       "1141                  10      None  doggo    None    None   None  \n",
       "1146                  10      None   None    None    None   None  \n",
       "2092                  10      None   None    None    None   None  \n",
       "337                   10     Eevee   None    None    None   None  \n",
       "2071                  10     Phred   None    None    None   None  \n",
       "73                    10    Shadow   None    None    None   None  \n",
       "1946                  10       Dot   None    None    None   None  \n",
       "515                   10     Craig   None    None  pupper   None  \n",
       "852                   10        my   None    None    None   None  \n",
       "335                   10       not   None    None    None   None  \n",
       "173                   10    Sophie   None    None    None   None  \n",
       "229                   10     Jerry   None    None    None   None  \n",
       "2276                  10      None   None    None    None   None  \n",
       "475                   10      Jack   None    None    None   None  \n",
       "1994                  10         a   None    None    None   None  \n",
       "389                   10     Pilot  doggo    None    None   None  \n",
       "1495                  10     Amber   None    None    None   None  \n",
       "67                    10      Jack   None    None    None   None  \n",
       "961                   10    Cooper   None    None    None  puppo  \n",
       "910                   10    Cooper   None    None    None   None  \n",
       "1706                  10      None   None    None    None   None  \n",
       "704                   10     Rusty   None    None    None   None  \n",
       "608                   10      None   None    None  pupper   None  \n",
       "622                   10      Yogi   None    None    None   None  \n",
       "516                    7       Sam   None    None    None   None  \n",
       "188                   10      None   None    None    None   None  \n",
       "52                    10      Koko   None    None    None   None  \n",
       "959                   10   Gilbert   None    None    None   None  "
      ]
     },
     "execution_count": 13,
     "metadata": {},
     "output_type": "execute_result"
    }
   ],
   "source": [
    "df_twitter.sample(50)        "
   ]
  },
  {
   "cell_type": "code",
   "execution_count": 14,
   "metadata": {},
   "outputs": [
    {
     "data": {
      "text/plain": [
       "None     2259\n",
       "doggo      97\n",
       "Name: doggo, dtype: int64"
      ]
     },
     "execution_count": 14,
     "metadata": {},
     "output_type": "execute_result"
    }
   ],
   "source": [
    "df_twitter.doggo.value_counts()"
   ]
  },
  {
   "cell_type": "code",
   "execution_count": 15,
   "metadata": {},
   "outputs": [
    {
     "data": {
      "text/plain": [
       "dtype('O')"
      ]
     },
     "execution_count": 15,
     "metadata": {},
     "output_type": "execute_result"
    }
   ],
   "source": [
    "df_twitter.timestamp.dtypes"
   ]
  },
  {
   "cell_type": "code",
   "execution_count": 16,
   "metadata": {},
   "outputs": [
    {
     "data": {
      "text/plain": [
       "10     2333\n",
       "11        3\n",
       "50        3\n",
       "80        2\n",
       "20        2\n",
       "2         1\n",
       "16        1\n",
       "40        1\n",
       "70        1\n",
       "15        1\n",
       "90        1\n",
       "110       1\n",
       "120       1\n",
       "130       1\n",
       "150       1\n",
       "170       1\n",
       "7         1\n",
       "0         1\n",
       "Name: rating_denominator, dtype: int64"
      ]
     },
     "execution_count": 16,
     "metadata": {},
     "output_type": "execute_result"
    }
   ],
   "source": [
    "df_twitter.rating_denominator.value_counts()"
   ]
  },
  {
   "cell_type": "code",
   "execution_count": 17,
   "metadata": {},
   "outputs": [
    {
     "data": {
      "text/plain": [
       "12      558\n",
       "11      464\n",
       "10      461\n",
       "13      351\n",
       "9       158\n",
       "8       102\n",
       "7        55\n",
       "14       54\n",
       "5        37\n",
       "6        32\n",
       "3        19\n",
       "4        17\n",
       "1         9\n",
       "2         9\n",
       "420       2\n",
       "0         2\n",
       "15        2\n",
       "75        2\n",
       "80        1\n",
       "20        1\n",
       "24        1\n",
       "26        1\n",
       "44        1\n",
       "50        1\n",
       "60        1\n",
       "165       1\n",
       "84        1\n",
       "88        1\n",
       "144       1\n",
       "182       1\n",
       "143       1\n",
       "666       1\n",
       "960       1\n",
       "1776      1\n",
       "17        1\n",
       "27        1\n",
       "45        1\n",
       "99        1\n",
       "121       1\n",
       "204       1\n",
       "Name: rating_numerator, dtype: int64"
      ]
     },
     "execution_count": 17,
     "metadata": {},
     "output_type": "execute_result"
    }
   ],
   "source": [
    "df_twitter.rating_numerator.value_counts()"
   ]
  },
  {
   "cell_type": "code",
   "execution_count": 18,
   "metadata": {},
   "outputs": [
    {
     "data": {
      "text/plain": [
       "0"
      ]
     },
     "execution_count": 18,
     "metadata": {},
     "output_type": "execute_result"
    }
   ],
   "source": [
    "df_twitter.tweet_id.duplicated().sum()"
   ]
  },
  {
   "cell_type": "markdown",
   "metadata": {},
   "source": [
    "QUALITY ISSUES:\n",
    "•\tin_reply_to_status_id count is positive, we need to deal with original tweets only.\n",
    "•\t When checked through sample, it was found that the stages of dogs were mentioned in text,  but were missing from classification column.\n",
    "•\tAs per standard, rating_denominator should be 10, but when checked through rating_denominator.value_counts, few rows have values not equal to 10.\n",
    "•\tFew rows have numerator values very high, like 165/144 etc.\n",
    "•\tThere are many missing values.\n",
    "•   The dtype of time is string, should be changed to timestamp.\n",
    "•   The name and stage column have few values as None. \n",
    "• tweet_id is a integer, should be converted to object (string).\n",
    "\n",
    "TIDYNESS ISSUES:\n",
    "• The 4 category of the dogs should be in one column only, not 4 columns. \n",
    "\n"
   ]
  },
  {
   "cell_type": "markdown",
   "metadata": {},
   "source": [
    "### DF_IMG ASSESSMENT "
   ]
  },
  {
   "cell_type": "code",
   "execution_count": 19,
   "metadata": {},
   "outputs": [
    {
     "data": {
      "text/html": [
       "<div>\n",
       "<style scoped>\n",
       "    .dataframe tbody tr th:only-of-type {\n",
       "        vertical-align: middle;\n",
       "    }\n",
       "\n",
       "    .dataframe tbody tr th {\n",
       "        vertical-align: top;\n",
       "    }\n",
       "\n",
       "    .dataframe thead th {\n",
       "        text-align: right;\n",
       "    }\n",
       "</style>\n",
       "<table border=\"1\" class=\"dataframe\">\n",
       "  <thead>\n",
       "    <tr style=\"text-align: right;\">\n",
       "      <th></th>\n",
       "      <th>tweet_id</th>\n",
       "      <th>jpg_url</th>\n",
       "      <th>img_num</th>\n",
       "      <th>p1</th>\n",
       "      <th>p1_conf</th>\n",
       "      <th>p1_dog</th>\n",
       "      <th>p2</th>\n",
       "      <th>p2_conf</th>\n",
       "      <th>p2_dog</th>\n",
       "      <th>p3</th>\n",
       "      <th>p3_conf</th>\n",
       "      <th>p3_dog</th>\n",
       "    </tr>\n",
       "  </thead>\n",
       "  <tbody>\n",
       "    <tr>\n",
       "      <th>0</th>\n",
       "      <td>666020888022790149</td>\n",
       "      <td>https://pbs.twimg.com/media/CT4udn0WwAA0aMy.jpg</td>\n",
       "      <td>1</td>\n",
       "      <td>Welsh_springer_spaniel</td>\n",
       "      <td>0.465074</td>\n",
       "      <td>True</td>\n",
       "      <td>collie</td>\n",
       "      <td>0.156665</td>\n",
       "      <td>True</td>\n",
       "      <td>Shetland_sheepdog</td>\n",
       "      <td>0.061428</td>\n",
       "      <td>True</td>\n",
       "    </tr>\n",
       "    <tr>\n",
       "      <th>1</th>\n",
       "      <td>666029285002620928</td>\n",
       "      <td>https://pbs.twimg.com/media/CT42GRgUYAA5iDo.jpg</td>\n",
       "      <td>1</td>\n",
       "      <td>redbone</td>\n",
       "      <td>0.506826</td>\n",
       "      <td>True</td>\n",
       "      <td>miniature_pinscher</td>\n",
       "      <td>0.074192</td>\n",
       "      <td>True</td>\n",
       "      <td>Rhodesian_ridgeback</td>\n",
       "      <td>0.072010</td>\n",
       "      <td>True</td>\n",
       "    </tr>\n",
       "    <tr>\n",
       "      <th>2</th>\n",
       "      <td>666033412701032449</td>\n",
       "      <td>https://pbs.twimg.com/media/CT4521TWwAEvMyu.jpg</td>\n",
       "      <td>1</td>\n",
       "      <td>German_shepherd</td>\n",
       "      <td>0.596461</td>\n",
       "      <td>True</td>\n",
       "      <td>malinois</td>\n",
       "      <td>0.138584</td>\n",
       "      <td>True</td>\n",
       "      <td>bloodhound</td>\n",
       "      <td>0.116197</td>\n",
       "      <td>True</td>\n",
       "    </tr>\n",
       "    <tr>\n",
       "      <th>3</th>\n",
       "      <td>666044226329800704</td>\n",
       "      <td>https://pbs.twimg.com/media/CT5Dr8HUEAA-lEu.jpg</td>\n",
       "      <td>1</td>\n",
       "      <td>Rhodesian_ridgeback</td>\n",
       "      <td>0.408143</td>\n",
       "      <td>True</td>\n",
       "      <td>redbone</td>\n",
       "      <td>0.360687</td>\n",
       "      <td>True</td>\n",
       "      <td>miniature_pinscher</td>\n",
       "      <td>0.222752</td>\n",
       "      <td>True</td>\n",
       "    </tr>\n",
       "    <tr>\n",
       "      <th>4</th>\n",
       "      <td>666049248165822465</td>\n",
       "      <td>https://pbs.twimg.com/media/CT5IQmsXIAAKY4A.jpg</td>\n",
       "      <td>1</td>\n",
       "      <td>miniature_pinscher</td>\n",
       "      <td>0.560311</td>\n",
       "      <td>True</td>\n",
       "      <td>Rottweiler</td>\n",
       "      <td>0.243682</td>\n",
       "      <td>True</td>\n",
       "      <td>Doberman</td>\n",
       "      <td>0.154629</td>\n",
       "      <td>True</td>\n",
       "    </tr>\n",
       "  </tbody>\n",
       "</table>\n",
       "</div>"
      ],
      "text/plain": [
       "             tweet_id                                          jpg_url  \\\n",
       "0  666020888022790149  https://pbs.twimg.com/media/CT4udn0WwAA0aMy.jpg   \n",
       "1  666029285002620928  https://pbs.twimg.com/media/CT42GRgUYAA5iDo.jpg   \n",
       "2  666033412701032449  https://pbs.twimg.com/media/CT4521TWwAEvMyu.jpg   \n",
       "3  666044226329800704  https://pbs.twimg.com/media/CT5Dr8HUEAA-lEu.jpg   \n",
       "4  666049248165822465  https://pbs.twimg.com/media/CT5IQmsXIAAKY4A.jpg   \n",
       "\n",
       "   img_num                      p1   p1_conf  p1_dog                  p2  \\\n",
       "0        1  Welsh_springer_spaniel  0.465074    True              collie   \n",
       "1        1                 redbone  0.506826    True  miniature_pinscher   \n",
       "2        1         German_shepherd  0.596461    True            malinois   \n",
       "3        1     Rhodesian_ridgeback  0.408143    True             redbone   \n",
       "4        1      miniature_pinscher  0.560311    True          Rottweiler   \n",
       "\n",
       "    p2_conf  p2_dog                   p3   p3_conf  p3_dog  \n",
       "0  0.156665    True    Shetland_sheepdog  0.061428    True  \n",
       "1  0.074192    True  Rhodesian_ridgeback  0.072010    True  \n",
       "2  0.138584    True           bloodhound  0.116197    True  \n",
       "3  0.360687    True   miniature_pinscher  0.222752    True  \n",
       "4  0.243682    True             Doberman  0.154629    True  "
      ]
     },
     "execution_count": 19,
     "metadata": {},
     "output_type": "execute_result"
    }
   ],
   "source": [
    "df_img.head()"
   ]
  },
  {
   "cell_type": "code",
   "execution_count": 20,
   "metadata": {},
   "outputs": [
    {
     "data": {
      "text/plain": [
       "(2075, 12)"
      ]
     },
     "execution_count": 20,
     "metadata": {},
     "output_type": "execute_result"
    }
   ],
   "source": [
    "df_img.shape"
   ]
  },
  {
   "cell_type": "code",
   "execution_count": 21,
   "metadata": {},
   "outputs": [
    {
     "data": {
      "text/plain": [
       "0"
      ]
     },
     "execution_count": 21,
     "metadata": {},
     "output_type": "execute_result"
    }
   ],
   "source": [
    "df_img.duplicated().sum()"
   ]
  },
  {
   "cell_type": "code",
   "execution_count": 22,
   "metadata": {},
   "outputs": [
    {
     "data": {
      "text/plain": [
       "0"
      ]
     },
     "execution_count": 22,
     "metadata": {},
     "output_type": "execute_result"
    }
   ],
   "source": [
    "df_img.tweet_id.duplicated().sum()"
   ]
  },
  {
   "cell_type": "code",
   "execution_count": 23,
   "metadata": {},
   "outputs": [
    {
     "name": "stdout",
     "output_type": "stream",
     "text": [
      "<class 'pandas.core.frame.DataFrame'>\n",
      "RangeIndex: 2075 entries, 0 to 2074\n",
      "Data columns (total 12 columns):\n",
      "tweet_id    2075 non-null int64\n",
      "jpg_url     2075 non-null object\n",
      "img_num     2075 non-null int64\n",
      "p1          2075 non-null object\n",
      "p1_conf     2075 non-null float64\n",
      "p1_dog      2075 non-null bool\n",
      "p2          2075 non-null object\n",
      "p2_conf     2075 non-null float64\n",
      "p2_dog      2075 non-null bool\n",
      "p3          2075 non-null object\n",
      "p3_conf     2075 non-null float64\n",
      "p3_dog      2075 non-null bool\n",
      "dtypes: bool(3), float64(3), int64(2), object(4)\n",
      "memory usage: 152.1+ KB\n"
     ]
    }
   ],
   "source": [
    "df_img.info()"
   ]
  },
  {
   "cell_type": "code",
   "execution_count": 24,
   "metadata": {},
   "outputs": [
    {
     "data": {
      "text/html": [
       "<div>\n",
       "<style scoped>\n",
       "    .dataframe tbody tr th:only-of-type {\n",
       "        vertical-align: middle;\n",
       "    }\n",
       "\n",
       "    .dataframe tbody tr th {\n",
       "        vertical-align: top;\n",
       "    }\n",
       "\n",
       "    .dataframe thead th {\n",
       "        text-align: right;\n",
       "    }\n",
       "</style>\n",
       "<table border=\"1\" class=\"dataframe\">\n",
       "  <thead>\n",
       "    <tr style=\"text-align: right;\">\n",
       "      <th></th>\n",
       "      <th>tweet_id</th>\n",
       "      <th>img_num</th>\n",
       "      <th>p1_conf</th>\n",
       "      <th>p2_conf</th>\n",
       "      <th>p3_conf</th>\n",
       "    </tr>\n",
       "  </thead>\n",
       "  <tbody>\n",
       "    <tr>\n",
       "      <th>count</th>\n",
       "      <td>2.075000e+03</td>\n",
       "      <td>2075.000000</td>\n",
       "      <td>2075.000000</td>\n",
       "      <td>2.075000e+03</td>\n",
       "      <td>2.075000e+03</td>\n",
       "    </tr>\n",
       "    <tr>\n",
       "      <th>mean</th>\n",
       "      <td>7.384514e+17</td>\n",
       "      <td>1.203855</td>\n",
       "      <td>0.594548</td>\n",
       "      <td>1.345886e-01</td>\n",
       "      <td>6.032417e-02</td>\n",
       "    </tr>\n",
       "    <tr>\n",
       "      <th>std</th>\n",
       "      <td>6.785203e+16</td>\n",
       "      <td>0.561875</td>\n",
       "      <td>0.271174</td>\n",
       "      <td>1.006657e-01</td>\n",
       "      <td>5.090593e-02</td>\n",
       "    </tr>\n",
       "    <tr>\n",
       "      <th>min</th>\n",
       "      <td>6.660209e+17</td>\n",
       "      <td>1.000000</td>\n",
       "      <td>0.044333</td>\n",
       "      <td>1.011300e-08</td>\n",
       "      <td>1.740170e-10</td>\n",
       "    </tr>\n",
       "    <tr>\n",
       "      <th>25%</th>\n",
       "      <td>6.764835e+17</td>\n",
       "      <td>1.000000</td>\n",
       "      <td>0.364412</td>\n",
       "      <td>5.388625e-02</td>\n",
       "      <td>1.622240e-02</td>\n",
       "    </tr>\n",
       "    <tr>\n",
       "      <th>50%</th>\n",
       "      <td>7.119988e+17</td>\n",
       "      <td>1.000000</td>\n",
       "      <td>0.588230</td>\n",
       "      <td>1.181810e-01</td>\n",
       "      <td>4.944380e-02</td>\n",
       "    </tr>\n",
       "    <tr>\n",
       "      <th>75%</th>\n",
       "      <td>7.932034e+17</td>\n",
       "      <td>1.000000</td>\n",
       "      <td>0.843855</td>\n",
       "      <td>1.955655e-01</td>\n",
       "      <td>9.180755e-02</td>\n",
       "    </tr>\n",
       "    <tr>\n",
       "      <th>max</th>\n",
       "      <td>8.924206e+17</td>\n",
       "      <td>4.000000</td>\n",
       "      <td>1.000000</td>\n",
       "      <td>4.880140e-01</td>\n",
       "      <td>2.734190e-01</td>\n",
       "    </tr>\n",
       "  </tbody>\n",
       "</table>\n",
       "</div>"
      ],
      "text/plain": [
       "           tweet_id      img_num      p1_conf       p2_conf       p3_conf\n",
       "count  2.075000e+03  2075.000000  2075.000000  2.075000e+03  2.075000e+03\n",
       "mean   7.384514e+17     1.203855     0.594548  1.345886e-01  6.032417e-02\n",
       "std    6.785203e+16     0.561875     0.271174  1.006657e-01  5.090593e-02\n",
       "min    6.660209e+17     1.000000     0.044333  1.011300e-08  1.740170e-10\n",
       "25%    6.764835e+17     1.000000     0.364412  5.388625e-02  1.622240e-02\n",
       "50%    7.119988e+17     1.000000     0.588230  1.181810e-01  4.944380e-02\n",
       "75%    7.932034e+17     1.000000     0.843855  1.955655e-01  9.180755e-02\n",
       "max    8.924206e+17     4.000000     1.000000  4.880140e-01  2.734190e-01"
      ]
     },
     "execution_count": 24,
     "metadata": {},
     "output_type": "execute_result"
    }
   ],
   "source": [
    "df_img.describe()"
   ]
  },
  {
   "cell_type": "code",
   "execution_count": 25,
   "metadata": {},
   "outputs": [
    {
     "data": {
      "text/plain": [
       "golden_retriever             150\n",
       "Labrador_retriever           100\n",
       "Pembroke                      89\n",
       "Chihuahua                     83\n",
       "pug                           57\n",
       "chow                          44\n",
       "Samoyed                       43\n",
       "toy_poodle                    39\n",
       "Pomeranian                    38\n",
       "cocker_spaniel                30\n",
       "malamute                      30\n",
       "French_bulldog                26\n",
       "Chesapeake_Bay_retriever      23\n",
       "miniature_pinscher            23\n",
       "seat_belt                     22\n",
       "German_shepherd               20\n",
       "Siberian_husky                20\n",
       "Staffordshire_bullterrier     20\n",
       "web_site                      19\n",
       "Cardigan                      19\n",
       "teddy                         18\n",
       "Eskimo_dog                    18\n",
       "Shetland_sheepdog             18\n",
       "beagle                        18\n",
       "Maltese_dog                   18\n",
       "Lakeland_terrier              17\n",
       "Rottweiler                    17\n",
       "Shih-Tzu                      17\n",
       "kuvasz                        16\n",
       "Italian_greyhound             16\n",
       "                            ... \n",
       "lacewing                       1\n",
       "pitcher                        1\n",
       "bookshop                       1\n",
       "hotdog                         1\n",
       "earthstar                      1\n",
       "alp                            1\n",
       "piggy_bank                     1\n",
       "mailbox                        1\n",
       "bow                            1\n",
       "killer_whale                   1\n",
       "leopard                        1\n",
       "groenendael                    1\n",
       "china_cabinet                  1\n",
       "starfish                       1\n",
       "trombone                       1\n",
       "pedestal                       1\n",
       "cuirass                        1\n",
       "ice_lolly                      1\n",
       "pillow                         1\n",
       "conch                          1\n",
       "hammer                         1\n",
       "three-toed_sloth               1\n",
       "shield                         1\n",
       "walking_stick                  1\n",
       "skunk                          1\n",
       "hay                            1\n",
       "African_hunting_dog            1\n",
       "sandbar                        1\n",
       "bison                          1\n",
       "coffee_mug                     1\n",
       "Name: p1, Length: 378, dtype: int64"
      ]
     },
     "execution_count": 25,
     "metadata": {},
     "output_type": "execute_result"
    }
   ],
   "source": [
    "df_img.p1.value_counts()"
   ]
  },
  {
   "cell_type": "markdown",
   "metadata": {},
   "source": [
    "Quality issues: \n",
    "•The breeds of the dogs should be same case (either upper or all lower) \n",
    "•Tweet_id to be converted to string.\n",
    "•The columns names to be updated for better description\n",
    "\n"
   ]
  },
  {
   "cell_type": "markdown",
   "metadata": {},
   "source": [
    "### DF_API ASSESSMENT"
   ]
  },
  {
   "cell_type": "code",
   "execution_count": 26,
   "metadata": {},
   "outputs": [
    {
     "data": {
      "text/html": [
       "<div>\n",
       "<style scoped>\n",
       "    .dataframe tbody tr th:only-of-type {\n",
       "        vertical-align: middle;\n",
       "    }\n",
       "\n",
       "    .dataframe tbody tr th {\n",
       "        vertical-align: top;\n",
       "    }\n",
       "\n",
       "    .dataframe thead th {\n",
       "        text-align: right;\n",
       "    }\n",
       "</style>\n",
       "<table border=\"1\" class=\"dataframe\">\n",
       "  <thead>\n",
       "    <tr style=\"text-align: right;\">\n",
       "      <th></th>\n",
       "      <th>tweet_id</th>\n",
       "      <th>retweet_count</th>\n",
       "      <th>favorite_count</th>\n",
       "    </tr>\n",
       "  </thead>\n",
       "  <tbody>\n",
       "    <tr>\n",
       "      <th>count</th>\n",
       "      <td>2.214000e+03</td>\n",
       "      <td>2214.000000</td>\n",
       "      <td>2214.000000</td>\n",
       "    </tr>\n",
       "    <tr>\n",
       "      <th>mean</th>\n",
       "      <td>7.474716e+17</td>\n",
       "      <td>3331.270551</td>\n",
       "      <td>8513.709124</td>\n",
       "    </tr>\n",
       "    <tr>\n",
       "      <th>std</th>\n",
       "      <td>6.789556e+16</td>\n",
       "      <td>5388.482845</td>\n",
       "      <td>11997.716381</td>\n",
       "    </tr>\n",
       "    <tr>\n",
       "      <th>min</th>\n",
       "      <td>6.685423e+17</td>\n",
       "      <td>0.000000</td>\n",
       "      <td>0.000000</td>\n",
       "    </tr>\n",
       "    <tr>\n",
       "      <th>25%</th>\n",
       "      <td>6.829790e+17</td>\n",
       "      <td>728.250000</td>\n",
       "      <td>1760.250000</td>\n",
       "    </tr>\n",
       "    <tr>\n",
       "      <th>50%</th>\n",
       "      <td>7.341939e+17</td>\n",
       "      <td>1616.000000</td>\n",
       "      <td>3897.500000</td>\n",
       "    </tr>\n",
       "    <tr>\n",
       "      <th>75%</th>\n",
       "      <td>8.037531e+17</td>\n",
       "      <td>3817.250000</td>\n",
       "      <td>10890.000000</td>\n",
       "    </tr>\n",
       "    <tr>\n",
       "      <th>max</th>\n",
       "      <td>8.924206e+17</td>\n",
       "      <td>79515.000000</td>\n",
       "      <td>132810.000000</td>\n",
       "    </tr>\n",
       "  </tbody>\n",
       "</table>\n",
       "</div>"
      ],
      "text/plain": [
       "           tweet_id  retweet_count  favorite_count\n",
       "count  2.214000e+03    2214.000000     2214.000000\n",
       "mean   7.474716e+17    3331.270551     8513.709124\n",
       "std    6.789556e+16    5388.482845    11997.716381\n",
       "min    6.685423e+17       0.000000        0.000000\n",
       "25%    6.829790e+17     728.250000     1760.250000\n",
       "50%    7.341939e+17    1616.000000     3897.500000\n",
       "75%    8.037531e+17    3817.250000    10890.000000\n",
       "max    8.924206e+17   79515.000000   132810.000000"
      ]
     },
     "execution_count": 26,
     "metadata": {},
     "output_type": "execute_result"
    }
   ],
   "source": [
    "df_api.describe()"
   ]
  },
  {
   "cell_type": "code",
   "execution_count": 27,
   "metadata": {},
   "outputs": [
    {
     "data": {
      "text/plain": [
       "0"
      ]
     },
     "execution_count": 27,
     "metadata": {},
     "output_type": "execute_result"
    }
   ],
   "source": [
    "df_api.tweet_id.duplicated().sum()"
   ]
  },
  {
   "cell_type": "code",
   "execution_count": 28,
   "metadata": {},
   "outputs": [
    {
     "name": "stdout",
     "output_type": "stream",
     "text": [
      "<class 'pandas.core.frame.DataFrame'>\n",
      "RangeIndex: 2214 entries, 0 to 2213\n",
      "Data columns (total 3 columns):\n",
      "tweet_id          2214 non-null int64\n",
      "retweet_count     2214 non-null int64\n",
      "favorite_count    2214 non-null int64\n",
      "dtypes: int64(3)\n",
      "memory usage: 52.0 KB\n"
     ]
    }
   ],
   "source": [
    "df_api.info()"
   ]
  },
  {
   "cell_type": "code",
   "execution_count": 29,
   "metadata": {},
   "outputs": [
    {
     "data": {
      "text/plain": [
       "(2214, 3)"
      ]
     },
     "execution_count": 29,
     "metadata": {},
     "output_type": "execute_result"
    }
   ],
   "source": [
    "df_api.shape"
   ]
  },
  {
   "cell_type": "markdown",
   "metadata": {},
   "source": [
    "NO quality issue in this table.\n",
    "Tidyness issue 2: NEED TO MERGE DF_API WITH DF_TWITTER."
   ]
  },
  {
   "cell_type": "markdown",
   "metadata": {},
   "source": [
    "# DATA CLEANING"
   ]
  },
  {
   "cell_type": "markdown",
   "metadata": {},
   "source": [
    "## DF_TWITTER AND DF_API\n",
    "##### Since this two tables have to merged together, I will first merge them and then will clean both of them simultaneously.\n"
   ]
  },
  {
   "cell_type": "code",
   "execution_count": 30,
   "metadata": {},
   "outputs": [],
   "source": [
    "# first lets make copy of all dataframes.\n",
    "df_tc = df_twitter.copy()\n",
    "df_ac = df_api.copy()\n",
    "df_ic = df_img.copy()"
   ]
  },
  {
   "cell_type": "markdown",
   "metadata": {},
   "source": [
    "#### QUALITY ISSUE 1 :  When checked through sample, it was found that the stages of dogs were mentioned in text,  but were missing from classification column."
   ]
  },
  {
   "cell_type": "code",
   "execution_count": 31,
   "metadata": {},
   "outputs": [
    {
     "data": {
      "text/html": [
       "<div>\n",
       "<style scoped>\n",
       "    .dataframe tbody tr th:only-of-type {\n",
       "        vertical-align: middle;\n",
       "    }\n",
       "\n",
       "    .dataframe tbody tr th {\n",
       "        vertical-align: top;\n",
       "    }\n",
       "\n",
       "    .dataframe thead th {\n",
       "        text-align: right;\n",
       "    }\n",
       "</style>\n",
       "<table border=\"1\" class=\"dataframe\">\n",
       "  <thead>\n",
       "    <tr style=\"text-align: right;\">\n",
       "      <th></th>\n",
       "      <th>tweet_id</th>\n",
       "      <th>in_reply_to_status_id</th>\n",
       "      <th>in_reply_to_user_id</th>\n",
       "      <th>timestamp</th>\n",
       "      <th>source</th>\n",
       "      <th>text</th>\n",
       "      <th>retweeted_status_id</th>\n",
       "      <th>retweeted_status_user_id</th>\n",
       "      <th>retweeted_status_timestamp</th>\n",
       "      <th>expanded_urls</th>\n",
       "      <th>rating_numerator</th>\n",
       "      <th>rating_denominator</th>\n",
       "      <th>name</th>\n",
       "      <th>doggo</th>\n",
       "      <th>floofer</th>\n",
       "      <th>pupper</th>\n",
       "      <th>puppo</th>\n",
       "    </tr>\n",
       "  </thead>\n",
       "  <tbody>\n",
       "    <tr>\n",
       "      <th>2014</th>\n",
       "      <td>672222792075620352</td>\n",
       "      <td>NaN</td>\n",
       "      <td>NaN</td>\n",
       "      <td>2015-12-03 01:16:17 +0000</td>\n",
       "      <td>&lt;a href=\"http://twitter.com/download/iphone\" r...</td>\n",
       "      <td>This is Cal. He's a Swedish Geriatric Cheddar....</td>\n",
       "      <td>NaN</td>\n",
       "      <td>NaN</td>\n",
       "      <td>NaN</td>\n",
       "      <td>https://twitter.com/dog_rates/status/672222792...</td>\n",
       "      <td>9</td>\n",
       "      <td>10</td>\n",
       "      <td>Cal</td>\n",
       "      <td>None</td>\n",
       "      <td>None</td>\n",
       "      <td>None</td>\n",
       "      <td>None</td>\n",
       "    </tr>\n",
       "  </tbody>\n",
       "</table>\n",
       "</div>"
      ],
      "text/plain": [
       "                tweet_id  in_reply_to_status_id  in_reply_to_user_id  \\\n",
       "2014  672222792075620352                    NaN                  NaN   \n",
       "\n",
       "                      timestamp  \\\n",
       "2014  2015-12-03 01:16:17 +0000   \n",
       "\n",
       "                                                 source  \\\n",
       "2014  <a href=\"http://twitter.com/download/iphone\" r...   \n",
       "\n",
       "                                                   text  retweeted_status_id  \\\n",
       "2014  This is Cal. He's a Swedish Geriatric Cheddar....                  NaN   \n",
       "\n",
       "      retweeted_status_user_id retweeted_status_timestamp  \\\n",
       "2014                       NaN                        NaN   \n",
       "\n",
       "                                          expanded_urls  rating_numerator  \\\n",
       "2014  https://twitter.com/dog_rates/status/672222792...                 9   \n",
       "\n",
       "      rating_denominator name doggo floofer pupper puppo  \n",
       "2014                  10  Cal  None    None   None  None  "
      ]
     },
     "execution_count": 31,
     "metadata": {},
     "output_type": "execute_result"
    }
   ],
   "source": [
    "df_tc.sample(1)"
   ]
  },
  {
   "cell_type": "code",
   "execution_count": 32,
   "metadata": {},
   "outputs": [
    {
     "data": {
      "text/plain": [
       "tweet_id                      97\n",
       "in_reply_to_status_id          4\n",
       "in_reply_to_user_id            4\n",
       "timestamp                     97\n",
       "source                        97\n",
       "text                          97\n",
       "retweeted_status_id           10\n",
       "retweeted_status_user_id      10\n",
       "retweeted_status_timestamp    10\n",
       "expanded_urls                 94\n",
       "rating_numerator              97\n",
       "rating_denominator            97\n",
       "name                          97\n",
       "doggo                         97\n",
       "floofer                       97\n",
       "pupper                        97\n",
       "puppo                         97\n",
       "dtype: int64"
      ]
     },
     "execution_count": 32,
     "metadata": {},
     "output_type": "execute_result"
    }
   ],
   "source": [
    "df_tc[df_tc.doggo == 'doggo'].count()\n",
    "# here it can be seen that numbr of doggo in doggo column is 97."
   ]
  },
  {
   "cell_type": "code",
   "execution_count": 33,
   "metadata": {},
   "outputs": [
    {
     "data": {
      "text/plain": [
       "tweet_id                      257\n",
       "in_reply_to_status_id           4\n",
       "in_reply_to_user_id             4\n",
       "timestamp                     257\n",
       "source                        257\n",
       "text                          257\n",
       "retweeted_status_id            23\n",
       "retweeted_status_user_id       23\n",
       "retweeted_status_timestamp     23\n",
       "expanded_urls                 255\n",
       "rating_numerator              257\n",
       "rating_denominator            257\n",
       "name                          257\n",
       "doggo                         257\n",
       "floofer                       257\n",
       "pupper                        257\n",
       "puppo                         257\n",
       "dtype: int64"
      ]
     },
     "execution_count": 33,
     "metadata": {},
     "output_type": "execute_result"
    }
   ],
   "source": [
    "df_tc[df_tc.pupper == 'pupper'].count()\n",
    "# here it can be seen that numbr of doggo in pupper column is 247."
   ]
  },
  {
   "cell_type": "code",
   "execution_count": 34,
   "metadata": {},
   "outputs": [],
   "source": [
    "#Lets make a regex pattern for all kind of dog category\n",
    "#considering spelling mistakes\n",
    "#doggo = '[Dd][oO][gG][gG]*[oO][Ss]*'\n",
    "#floofer = '[Ff][Ll][Oo][Oo]*[Ff][Ee][Rr][Ss]*'\n",
    "#pupper = '[Pp][Uu][Pp][Pp]*[Ee][Rr]'\n",
    "#puppo = '[Pp][Uu][Pp][Pp]*[Oo]'\n",
    "df_tc['doggo'] = df_tc.text.str.extract(r'([Dd][oO][gG][gG]*[oO][Ss]*)', expand = True)\n",
    "df_tc['floofer'] = df_tc.text.str.extract(r'([Ff][Ll][Oo][Oo]*[Ff][Ee][Rr][Ss]*)', expand = True)\n",
    "df_tc['pupper'] = df_tc.text.str.extract(r'([Pp][Uu][Pp][Pp]*[Ee][Rr]*[Ss]*)', expand = True)\n",
    "df_tc['puppo'] = df_tc.text.str.extract(r'([Pp][Uu][Pp][Pp]*[Oo]*[Ss]*)', expand = True)"
   ]
  },
  {
   "cell_type": "code",
   "execution_count": 35,
   "metadata": {},
   "outputs": [
    {
     "data": {
      "text/plain": [
       "doggo     87\n",
       "doggos    10\n",
       "Doggo      9\n",
       "DOGGO      1\n",
       "Name: doggo, dtype: int64"
      ]
     },
     "execution_count": 35,
     "metadata": {},
     "output_type": "execute_result"
    }
   ],
   "source": [
    "df_tc.doggo.value_counts()\n",
    "#doggo = ['doggo', 'doggos', 'Doggo', 'DOGGO']"
   ]
  },
  {
   "cell_type": "code",
   "execution_count": 36,
   "metadata": {},
   "outputs": [
    {
     "data": {
      "text/plain": [
       "Floofer    6\n",
       "floofer    4\n",
       "Name: floofer, dtype: int64"
      ]
     },
     "execution_count": 36,
     "metadata": {},
     "output_type": "execute_result"
    }
   ],
   "source": [
    "df_tc.floofer.value_counts()\n",
    "#floofer = ['Floofer', 'floofer']\n"
   ]
  },
  {
   "cell_type": "code",
   "execution_count": 37,
   "metadata": {},
   "outputs": [
    {
     "data": {
      "text/plain": [
       "pupper     247\n",
       "puppers     23\n",
       "Pupper       8\n",
       "PUPPER       5\n",
       "puppe        2\n",
       "Name: pupper, dtype: int64"
      ]
     },
     "execution_count": 37,
     "metadata": {},
     "output_type": "execute_result"
    }
   ],
   "source": [
    "df_tc.pupper.value_counts()\n",
    "#pupper = ['pupper', 'puppers', 'Pupper', 'PUPPER', 'puppe', 'pupperrr', 'pupperrrs', 'pupperr']"
   ]
  },
  {
   "cell_type": "code",
   "execution_count": 38,
   "metadata": {},
   "outputs": [
    {
     "data": {
      "text/plain": [
       "pupp      283\n",
       "pup       173\n",
       "pups       54\n",
       "puppo      33\n",
       "Pupp        9\n",
       "PUP         9\n",
       "Pup         8\n",
       "PUPP        5\n",
       "puppos      2\n",
       "Puppo       1\n",
       "Name: puppo, dtype: int64"
      ]
     },
     "execution_count": 38,
     "metadata": {},
     "output_type": "execute_result"
    }
   ],
   "source": [
    "df_tc.puppo.value_counts()\n",
    "#puppo = ['pupp', 'pup', 'pups', 'puppo', 'PUP', 'Pupp', 'Pup', 'PUPP', 'puppos', 'Puppo']"
   ]
  },
  {
   "cell_type": "code",
   "execution_count": null,
   "metadata": {},
   "outputs": [],
   "source": []
  },
  {
   "cell_type": "code",
   "execution_count": 39,
   "metadata": {},
   "outputs": [],
   "source": [
    "doggo = ['doggo', 'doggos', 'Doggo', 'DOGGO']\n",
    "floofer = ['Floofer', 'floofer']\n",
    "pupper = ['pupper','puppers', 'Pupper', 'PUPPER', 'puppe', 'pupperrr', 'pupperrrs', \n",
    "          'pupperr']"
   ]
  },
  {
   "cell_type": "code",
   "execution_count": 40,
   "metadata": {},
   "outputs": [],
   "source": [
    "puppo = ['pupp', 'pup', 'pups', 'puppo', 'PUP', 'Pupp', 'Pup', \n",
    "         'PUPP', 'puppos', 'Puppo']"
   ]
  },
  {
   "cell_type": "code",
   "execution_count": null,
   "metadata": {},
   "outputs": [],
   "source": []
  },
  {
   "cell_type": "code",
   "execution_count": 41,
   "metadata": {},
   "outputs": [],
   "source": [
    "#Now as it can be seen that each category has dfferent pattern of names, lets make \n",
    "#all of them similar, replacing with correct spelling.\n",
    "for k in df_tc.doggo:\n",
    "    if k in doggo:\n",
    "        df_tc.doggo = df_tc.doggo.str.replace(k, 'doggo')"
   ]
  },
  {
   "cell_type": "code",
   "execution_count": 42,
   "metadata": {},
   "outputs": [],
   "source": [
    "for k in df_tc.floofer:\n",
    "    if k in floofer:\n",
    "        df_tc.floofer = df_tc.floofer.str.replace(k, 'floofer')"
   ]
  },
  {
   "cell_type": "code",
   "execution_count": 43,
   "metadata": {},
   "outputs": [],
   "source": [
    "for k in df_tc.pupper:\n",
    "    if k in pupper:\n",
    "        df_tc.pupper = df_tc.pupper.str.replace(k, 'pupper')"
   ]
  },
  {
   "cell_type": "code",
   "execution_count": 44,
   "metadata": {},
   "outputs": [
    {
     "data": {
      "text/plain": [
       "pupperrr     247\n",
       "pupperrrs     23\n",
       "pupper         8\n",
       "pupperr        7\n",
       "Name: pupper, dtype: int64"
      ]
     },
     "execution_count": 44,
     "metadata": {},
     "output_type": "execute_result"
    }
   ],
   "source": [
    "df_tc.pupper.value_counts()"
   ]
  },
  {
   "cell_type": "code",
   "execution_count": 45,
   "metadata": {},
   "outputs": [
    {
     "data": {
      "text/plain": [
       "floofer    10\n",
       "Name: floofer, dtype: int64"
      ]
     },
     "execution_count": 45,
     "metadata": {},
     "output_type": "execute_result"
    }
   ],
   "source": [
    "df_tc.floofer.value_counts()"
   ]
  },
  {
   "cell_type": "code",
   "execution_count": 46,
   "metadata": {},
   "outputs": [],
   "source": [
    "#I dont know why but the normal replace method was not working fot puppo,\n",
    "# please let me know why was a problem there."
   ]
  },
  {
   "cell_type": "code",
   "execution_count": 47,
   "metadata": {},
   "outputs": [],
   "source": [
    "df_puppo_index = df_tc.puppo.index[df_tc.puppo.notnull()].tolist()"
   ]
  },
  {
   "cell_type": "code",
   "execution_count": 48,
   "metadata": {},
   "outputs": [
    {
     "data": {
      "text/plain": [
       "577"
      ]
     },
     "execution_count": 48,
     "metadata": {},
     "output_type": "execute_result"
    }
   ],
   "source": [
    "len(df_puppo_index)"
   ]
  },
  {
   "cell_type": "code",
   "execution_count": 49,
   "metadata": {},
   "outputs": [],
   "source": [
    "df_tc.loc[df_puppo_index, ['puppo']] = \"puppo\""
   ]
  },
  {
   "cell_type": "code",
   "execution_count": 50,
   "metadata": {},
   "outputs": [
    {
     "data": {
      "text/plain": [
       "puppo    577\n",
       "Name: puppo, dtype: int64"
      ]
     },
     "execution_count": 50,
     "metadata": {},
     "output_type": "execute_result"
    }
   ],
   "source": [
    "df_tc.puppo.value_counts()"
   ]
  },
  {
   "cell_type": "markdown",
   "metadata": {},
   "source": [
    "#### Test "
   ]
  },
  {
   "cell_type": "code",
   "execution_count": 51,
   "metadata": {},
   "outputs": [
    {
     "data": {
      "text/plain": [
       "tweet_id                      107\n",
       "in_reply_to_status_id           4\n",
       "in_reply_to_user_id             4\n",
       "timestamp                     107\n",
       "source                        107\n",
       "text                          107\n",
       "retweeted_status_id            12\n",
       "retweeted_status_user_id       12\n",
       "retweeted_status_timestamp     12\n",
       "expanded_urls                 104\n",
       "rating_numerator              107\n",
       "rating_denominator            107\n",
       "name                          107\n",
       "doggo                         107\n",
       "floofer                         1\n",
       "pupper                         12\n",
       "puppo                          21\n",
       "dtype: int64"
      ]
     },
     "execution_count": 51,
     "metadata": {},
     "output_type": "execute_result"
    }
   ],
   "source": [
    "df_tc[df_tc.doggo == 'doggo'].count()\n",
    "# here it can be seen that numbr of doggo in doggo column is 107, increased from 97 to 107"
   ]
  },
  {
   "cell_type": "code",
   "execution_count": 52,
   "metadata": {},
   "outputs": [
    {
     "data": {
      "text/plain": [
       "tweet_id                      8\n",
       "in_reply_to_status_id         0\n",
       "in_reply_to_user_id           0\n",
       "timestamp                     8\n",
       "source                        8\n",
       "text                          8\n",
       "retweeted_status_id           0\n",
       "retweeted_status_user_id      0\n",
       "retweeted_status_timestamp    0\n",
       "expanded_urls                 8\n",
       "rating_numerator              8\n",
       "rating_denominator            8\n",
       "name                          8\n",
       "doggo                         2\n",
       "floofer                       0\n",
       "pupper                        8\n",
       "puppo                         8\n",
       "dtype: int64"
      ]
     },
     "execution_count": 52,
     "metadata": {},
     "output_type": "execute_result"
    }
   ],
   "source": [
    "df_tc[df_tc.pupper == 'pupper'].count()\n",
    "# here it can be seen that numbr of pupper column is 287, increased from 245"
   ]
  },
  {
   "cell_type": "markdown",
   "metadata": {},
   "source": [
    "#### TIDYNESS ISSUE 1 : Combine 2 dataframes, df_tc and df_ac to form df_api_twitter"
   ]
  },
  {
   "cell_type": "code",
   "execution_count": 53,
   "metadata": {},
   "outputs": [
    {
     "data": {
      "text/plain": [
       "((2356, 17), (2214, 3))"
      ]
     },
     "execution_count": 53,
     "metadata": {},
     "output_type": "execute_result"
    }
   ],
   "source": [
    "#now lets merge df_tc and df_ac, on basis of tweet id.\n",
    "df_tc.shape, df_ac.shape\n",
    "# as we can see, total tweets in df_ac is less, so to prevent unnecessary nulls columns,\n",
    "#we will merger these two on the basis of tweet_id from df_ac."
   ]
  },
  {
   "cell_type": "code",
   "execution_count": 54,
   "metadata": {},
   "outputs": [],
   "source": [
    "df_api_twitter = pd.merge(df_ac, df_tc,\n",
    "                            on=['tweet_id'], how='left')"
   ]
  },
  {
   "cell_type": "code",
   "execution_count": 55,
   "metadata": {},
   "outputs": [
    {
     "data": {
      "text/plain": [
       "(2214, 19)"
      ]
     },
     "execution_count": 55,
     "metadata": {},
     "output_type": "execute_result"
    }
   ],
   "source": [
    "df_api_twitter.shape\n",
    "# we see that the number of columns is now 19."
   ]
  },
  {
   "cell_type": "code",
   "execution_count": 56,
   "metadata": {},
   "outputs": [
    {
     "data": {
      "text/html": [
       "<div>\n",
       "<style scoped>\n",
       "    .dataframe tbody tr th:only-of-type {\n",
       "        vertical-align: middle;\n",
       "    }\n",
       "\n",
       "    .dataframe tbody tr th {\n",
       "        vertical-align: top;\n",
       "    }\n",
       "\n",
       "    .dataframe thead th {\n",
       "        text-align: right;\n",
       "    }\n",
       "</style>\n",
       "<table border=\"1\" class=\"dataframe\">\n",
       "  <thead>\n",
       "    <tr style=\"text-align: right;\">\n",
       "      <th></th>\n",
       "      <th>tweet_id</th>\n",
       "      <th>retweet_count</th>\n",
       "      <th>favorite_count</th>\n",
       "      <th>in_reply_to_status_id</th>\n",
       "      <th>in_reply_to_user_id</th>\n",
       "      <th>timestamp</th>\n",
       "      <th>source</th>\n",
       "      <th>text</th>\n",
       "      <th>retweeted_status_id</th>\n",
       "      <th>retweeted_status_user_id</th>\n",
       "      <th>retweeted_status_timestamp</th>\n",
       "      <th>expanded_urls</th>\n",
       "      <th>rating_numerator</th>\n",
       "      <th>rating_denominator</th>\n",
       "      <th>name</th>\n",
       "      <th>doggo</th>\n",
       "      <th>floofer</th>\n",
       "      <th>pupper</th>\n",
       "      <th>puppo</th>\n",
       "    </tr>\n",
       "  </thead>\n",
       "  <tbody>\n",
       "    <tr>\n",
       "      <th>0</th>\n",
       "      <td>892420643555336193</td>\n",
       "      <td>8853</td>\n",
       "      <td>39467</td>\n",
       "      <td>NaN</td>\n",
       "      <td>NaN</td>\n",
       "      <td>2017-08-01 16:23:56 +0000</td>\n",
       "      <td>&lt;a href=\"http://twitter.com/download/iphone\" r...</td>\n",
       "      <td>This is Phineas. He's a mystical boy. Only eve...</td>\n",
       "      <td>NaN</td>\n",
       "      <td>NaN</td>\n",
       "      <td>NaN</td>\n",
       "      <td>https://twitter.com/dog_rates/status/892420643...</td>\n",
       "      <td>13</td>\n",
       "      <td>10</td>\n",
       "      <td>Phineas</td>\n",
       "      <td>NaN</td>\n",
       "      <td>NaN</td>\n",
       "      <td>NaN</td>\n",
       "      <td>NaN</td>\n",
       "    </tr>\n",
       "  </tbody>\n",
       "</table>\n",
       "</div>"
      ],
      "text/plain": [
       "             tweet_id  retweet_count  favorite_count  in_reply_to_status_id  \\\n",
       "0  892420643555336193           8853           39467                    NaN   \n",
       "\n",
       "   in_reply_to_user_id                  timestamp  \\\n",
       "0                  NaN  2017-08-01 16:23:56 +0000   \n",
       "\n",
       "                                              source  \\\n",
       "0  <a href=\"http://twitter.com/download/iphone\" r...   \n",
       "\n",
       "                                                text  retweeted_status_id  \\\n",
       "0  This is Phineas. He's a mystical boy. Only eve...                  NaN   \n",
       "\n",
       "   retweeted_status_user_id retweeted_status_timestamp  \\\n",
       "0                       NaN                        NaN   \n",
       "\n",
       "                                       expanded_urls  rating_numerator  \\\n",
       "0  https://twitter.com/dog_rates/status/892420643...                13   \n",
       "\n",
       "   rating_denominator     name doggo floofer pupper puppo  \n",
       "0                  10  Phineas   NaN     NaN    NaN   NaN  "
      ]
     },
     "execution_count": 56,
     "metadata": {},
     "output_type": "execute_result"
    }
   ],
   "source": [
    "df_api_twitter.head(1)"
   ]
  },
  {
   "cell_type": "markdown",
   "metadata": {},
   "source": [
    "#### TIDYNESS ISSUE  2: The 4 category of the dogs should be in one column only, not 4 columns\n"
   ]
  },
  {
   "cell_type": "code",
   "execution_count": 57,
   "metadata": {},
   "outputs": [
    {
     "data": {
      "text/plain": [
       "['tweet_id',\n",
       " 'retweet_count',\n",
       " 'favorite_count',\n",
       " 'in_reply_to_status_id',\n",
       " 'in_reply_to_user_id',\n",
       " 'timestamp',\n",
       " 'source',\n",
       " 'text',\n",
       " 'retweeted_status_id',\n",
       " 'retweeted_status_user_id',\n",
       " 'retweeted_status_timestamp',\n",
       " 'expanded_urls',\n",
       " 'rating_numerator',\n",
       " 'rating_denominator',\n",
       " 'name',\n",
       " 'doggo',\n",
       " 'floofer',\n",
       " 'pupper',\n",
       " 'puppo']"
      ]
     },
     "execution_count": 57,
     "metadata": {},
     "output_type": "execute_result"
    }
   ],
   "source": [
    "list(df_api_twitter)"
   ]
  },
  {
   "cell_type": "code",
   "execution_count": 58,
   "metadata": {},
   "outputs": [],
   "source": [
    "#First, reshape the dataframe, so that the categories of dogs are removed from 4\n",
    "# columns to one column only. \n",
    "df_api_twitter = pd.melt(df_api_twitter, id_vars= ['tweet_id',\n",
    " 'retweet_count',\n",
    " 'favorite_count',\n",
    " 'in_reply_to_status_id',\n",
    " 'in_reply_to_user_id',\n",
    " 'timestamp',\n",
    " 'source',\n",
    " 'text',\n",
    " 'retweeted_status_id',\n",
    " 'retweeted_status_user_id',\n",
    " 'retweeted_status_timestamp',\n",
    " 'expanded_urls',\n",
    " 'rating_numerator',\n",
    " 'rating_denominator',\n",
    " 'name'],var_name='category_type', value_name='dog_category')\n"
   ]
  },
  {
   "cell_type": "code",
   "execution_count": 59,
   "metadata": {},
   "outputs": [
    {
     "data": {
      "text/plain": [
       "(8856, 17)"
      ]
     },
     "execution_count": 59,
     "metadata": {},
     "output_type": "execute_result"
    }
   ],
   "source": [
    "df_api_twitter.shape"
   ]
  },
  {
   "cell_type": "code",
   "execution_count": 60,
   "metadata": {},
   "outputs": [
    {
     "data": {
      "text/plain": [
       "puppo        566\n",
       "pupperrr     246\n",
       "doggo        107\n",
       "pupperrrs     23\n",
       "floofer       10\n",
       "pupper         8\n",
       "pupperr        7\n",
       "Name: dog_category, dtype: int64"
      ]
     },
     "execution_count": 60,
     "metadata": {},
     "output_type": "execute_result"
    }
   ],
   "source": [
    "df_api_twitter.dog_category.value_counts()"
   ]
  },
  {
   "cell_type": "markdown",
   "metadata": {},
   "source": [
    "#### Test"
   ]
  },
  {
   "cell_type": "code",
   "execution_count": 61,
   "metadata": {},
   "outputs": [],
   "source": [
    "\n",
    "#delete columns like: Source, retweeted_status_id, retweeted_status_user_id, \n",
    "#    retweeted_status_timestamp, expanded urls and category_type.\n",
    "\n",
    "df_api_twitter.drop(['source','retweeted_status_id','retweeted_status_user_id', 'retweeted_status_timestamp', 'expanded_urls', 'category_type'],axis = 1, inplace = True )"
   ]
  },
  {
   "cell_type": "code",
   "execution_count": 62,
   "metadata": {},
   "outputs": [
    {
     "data": {
      "text/html": [
       "<div>\n",
       "<style scoped>\n",
       "    .dataframe tbody tr th:only-of-type {\n",
       "        vertical-align: middle;\n",
       "    }\n",
       "\n",
       "    .dataframe tbody tr th {\n",
       "        vertical-align: top;\n",
       "    }\n",
       "\n",
       "    .dataframe thead th {\n",
       "        text-align: right;\n",
       "    }\n",
       "</style>\n",
       "<table border=\"1\" class=\"dataframe\">\n",
       "  <thead>\n",
       "    <tr style=\"text-align: right;\">\n",
       "      <th></th>\n",
       "      <th>tweet_id</th>\n",
       "      <th>retweet_count</th>\n",
       "      <th>favorite_count</th>\n",
       "      <th>in_reply_to_status_id</th>\n",
       "      <th>in_reply_to_user_id</th>\n",
       "      <th>timestamp</th>\n",
       "      <th>text</th>\n",
       "      <th>rating_numerator</th>\n",
       "      <th>rating_denominator</th>\n",
       "      <th>name</th>\n",
       "      <th>dog_category</th>\n",
       "    </tr>\n",
       "  </thead>\n",
       "  <tbody>\n",
       "    <tr>\n",
       "      <th>0</th>\n",
       "      <td>892420643555336193</td>\n",
       "      <td>8853</td>\n",
       "      <td>39467</td>\n",
       "      <td>NaN</td>\n",
       "      <td>NaN</td>\n",
       "      <td>2017-08-01 16:23:56 +0000</td>\n",
       "      <td>This is Phineas. He's a mystical boy. Only eve...</td>\n",
       "      <td>13</td>\n",
       "      <td>10</td>\n",
       "      <td>Phineas</td>\n",
       "      <td>NaN</td>\n",
       "    </tr>\n",
       "  </tbody>\n",
       "</table>\n",
       "</div>"
      ],
      "text/plain": [
       "             tweet_id  retweet_count  favorite_count  in_reply_to_status_id  \\\n",
       "0  892420643555336193           8853           39467                    NaN   \n",
       "\n",
       "   in_reply_to_user_id                  timestamp  \\\n",
       "0                  NaN  2017-08-01 16:23:56 +0000   \n",
       "\n",
       "                                                text  rating_numerator  \\\n",
       "0  This is Phineas. He's a mystical boy. Only eve...                13   \n",
       "\n",
       "   rating_denominator     name dog_category  \n",
       "0                  10  Phineas          NaN  "
      ]
     },
     "execution_count": 62,
     "metadata": {},
     "output_type": "execute_result"
    }
   ],
   "source": [
    "df_api_twitter.head(1)"
   ]
  },
  {
   "cell_type": "code",
   "execution_count": 63,
   "metadata": {},
   "outputs": [
    {
     "data": {
      "text/plain": [
       "(8856, 11)"
      ]
     },
     "execution_count": 63,
     "metadata": {},
     "output_type": "execute_result"
    }
   ],
   "source": [
    "df_api_twitter.shape"
   ]
  },
  {
   "cell_type": "code",
   "execution_count": 64,
   "metadata": {},
   "outputs": [],
   "source": [
    "# It can be seen that the number of columns are now decreased, with just one new\n",
    "# column as dog_category."
   ]
  },
  {
   "cell_type": "markdown",
   "metadata": {},
   "source": [
    "#### Quality issue 2: in_reply_to_status_id count is positive, we need to deal with original tweets only, NO RETWEETS"
   ]
  },
  {
   "cell_type": "code",
   "execution_count": 65,
   "metadata": {},
   "outputs": [
    {
     "data": {
      "text/plain": [
       "((308, 11), 308)"
      ]
     },
     "execution_count": 65,
     "metadata": {},
     "output_type": "execute_result"
    }
   ],
   "source": [
    "#These are the rows with not null in_reply_to_user_id, or they are retweeted tweets.\n",
    "# these need to be removed from the data frame.\n",
    "df_retweeted = df_api_twitter[df_api_twitter.in_reply_to_user_id.notnull()]\n",
    "\n",
    "# Now lets find the index with retweets\n",
    "df_retweeted_index = df_api_twitter.index[df_api_twitter.in_reply_to_user_id.notnull()].tolist()\n",
    "\n",
    "#confirming that both of them match; df_retweeted and df_retweeted_index\n",
    "df_retweeted.shape, len(df_retweeted_index)\n"
   ]
  },
  {
   "cell_type": "code",
   "execution_count": null,
   "metadata": {},
   "outputs": [],
   "source": []
  },
  {
   "cell_type": "code",
   "execution_count": 66,
   "metadata": {},
   "outputs": [],
   "source": [
    "# lets delete df_retweeted from df_api_twitter\n",
    "df_api_twitter.drop(df_retweeted_index, inplace = True)"
   ]
  },
  {
   "cell_type": "code",
   "execution_count": 67,
   "metadata": {},
   "outputs": [
    {
     "data": {
      "text/plain": [
       "(8548, 11)"
      ]
     },
     "execution_count": 67,
     "metadata": {},
     "output_type": "execute_result"
    }
   ],
   "source": [
    "df_api_twitter.shape\n"
   ]
  },
  {
   "cell_type": "markdown",
   "metadata": {},
   "source": [
    "#### Test"
   ]
  },
  {
   "cell_type": "code",
   "execution_count": 68,
   "metadata": {},
   "outputs": [
    {
     "data": {
      "text/html": [
       "<div>\n",
       "<style scoped>\n",
       "    .dataframe tbody tr th:only-of-type {\n",
       "        vertical-align: middle;\n",
       "    }\n",
       "\n",
       "    .dataframe tbody tr th {\n",
       "        vertical-align: top;\n",
       "    }\n",
       "\n",
       "    .dataframe thead th {\n",
       "        text-align: right;\n",
       "    }\n",
       "</style>\n",
       "<table border=\"1\" class=\"dataframe\">\n",
       "  <thead>\n",
       "    <tr style=\"text-align: right;\">\n",
       "      <th></th>\n",
       "      <th>tweet_id</th>\n",
       "      <th>retweet_count</th>\n",
       "      <th>favorite_count</th>\n",
       "      <th>in_reply_to_status_id</th>\n",
       "      <th>in_reply_to_user_id</th>\n",
       "      <th>timestamp</th>\n",
       "      <th>text</th>\n",
       "      <th>rating_numerator</th>\n",
       "      <th>rating_denominator</th>\n",
       "      <th>name</th>\n",
       "      <th>dog_category</th>\n",
       "    </tr>\n",
       "  </thead>\n",
       "  <tbody>\n",
       "  </tbody>\n",
       "</table>\n",
       "</div>"
      ],
      "text/plain": [
       "Empty DataFrame\n",
       "Columns: [tweet_id, retweet_count, favorite_count, in_reply_to_status_id, in_reply_to_user_id, timestamp, text, rating_numerator, rating_denominator, name, dog_category]\n",
       "Index: []"
      ]
     },
     "execution_count": 68,
     "metadata": {},
     "output_type": "execute_result"
    }
   ],
   "source": [
    "df_retweeted = df_api_twitter[df_api_twitter.in_reply_to_user_id.notnull()]\n",
    "df_retweeted\n",
    "# No retweets are there now."
   ]
  },
  {
   "cell_type": "markdown",
   "metadata": {},
   "source": [
    "#### quality issue 3: As per standard, rating_denominator should be 10, but when checked through rating_denominator.value_counts, few rows have values not equal to 10."
   ]
  },
  {
   "cell_type": "code",
   "execution_count": 69,
   "metadata": {},
   "outputs": [],
   "source": [
    "df_non_10_denominator = df_api_twitter.index[df_api_twitter.rating_denominator!=10].tolist()\n"
   ]
  },
  {
   "cell_type": "code",
   "execution_count": 70,
   "metadata": {},
   "outputs": [],
   "source": [
    "#Now change the values of this index to 10.\n",
    "df_api_twitter.loc[df_non_10_denominator, ['rating_denominator']] = 10"
   ]
  },
  {
   "cell_type": "markdown",
   "metadata": {},
   "source": [
    "#### Test"
   ]
  },
  {
   "cell_type": "code",
   "execution_count": 71,
   "metadata": {},
   "outputs": [
    {
     "data": {
      "text/plain": [
       "10    8548\n",
       "Name: rating_denominator, dtype: int64"
      ]
     },
     "execution_count": 71,
     "metadata": {},
     "output_type": "execute_result"
    }
   ],
   "source": [
    "# So now all rating_denominator have value equal to 10.\n",
    "df_api_twitter.rating_denominator.value_counts()\n",
    "# Now there are no denominators with values other than 10."
   ]
  },
  {
   "cell_type": "markdown",
   "metadata": {},
   "source": [
    "#### QUALITY ISSUE 4: The dtype of time is string, should be changed to timestamp"
   ]
  },
  {
   "cell_type": "code",
   "execution_count": 137,
   "metadata": {},
   "outputs": [
    {
     "data": {
      "text/plain": [
       "tweet_id                         object\n",
       "retweet_count                     int64\n",
       "favorite_count                    int64\n",
       "in_reply_to_status_id           float64\n",
       "in_reply_to_user_id             float64\n",
       "timestamp                datetime64[ns]\n",
       "text                             object\n",
       "rating_numerator                float64\n",
       "rating_denominator                int64\n",
       "name                             object\n",
       "dog_category                     object\n",
       "dtype: object"
      ]
     },
     "execution_count": 137,
     "metadata": {},
     "output_type": "execute_result"
    }
   ],
   "source": [
    "df_api_twitter.dtypes"
   ]
  },
  {
   "cell_type": "code",
   "execution_count": 147,
   "metadata": {},
   "outputs": [],
   "source": [
    "df_api_twitter['timestamp'] =  pd.to_datetime(df_api_twitter['timestamp'], errors='coerce')\n"
   ]
  },
  {
   "cell_type": "markdown",
   "metadata": {},
   "source": [
    "#### Test"
   ]
  },
  {
   "cell_type": "code",
   "execution_count": 149,
   "metadata": {},
   "outputs": [
    {
     "data": {
      "text/plain": [
       "dtype('<M8[ns]')"
      ]
     },
     "execution_count": 149,
     "metadata": {},
     "output_type": "execute_result"
    }
   ],
   "source": [
    "df_api_twitter.timestamp.dtypes"
   ]
  },
  {
   "cell_type": "markdown",
   "metadata": {},
   "source": [
    "#### QUALITY ISSUE 5 :Rating_numerator changed to float from string."
   ]
  },
  {
   "cell_type": "code",
   "execution_count": 150,
   "metadata": {},
   "outputs": [],
   "source": [
    "df_api_twitter['rating_numerator'] =  pd.to_numeric(df_api_twitter['rating_numerator'], errors='coerce')\n"
   ]
  },
  {
   "cell_type": "markdown",
   "metadata": {},
   "source": [
    "#### Test"
   ]
  },
  {
   "cell_type": "code",
   "execution_count": 152,
   "metadata": {},
   "outputs": [
    {
     "data": {
      "text/plain": [
       "dtype('float64')"
      ]
     },
     "execution_count": 152,
     "metadata": {},
     "output_type": "execute_result"
    }
   ],
   "source": [
    "df_api_twitter.rating_numerator.dtypes"
   ]
  },
  {
   "cell_type": "markdown",
   "metadata": {},
   "source": [
    "#### QUALITY ISSUE 6 : tweet_id is a integer, should be converted to object (string)"
   ]
  },
  {
   "cell_type": "code",
   "execution_count": 153,
   "metadata": {},
   "outputs": [],
   "source": [
    "df_api_twitter['tweet_id'] = df_api_twitter['tweet_id'].apply(str)"
   ]
  },
  {
   "cell_type": "code",
   "execution_count": 74,
   "metadata": {},
   "outputs": [],
   "source": []
  },
  {
   "cell_type": "markdown",
   "metadata": {},
   "source": [
    "#### Test"
   ]
  },
  {
   "cell_type": "code",
   "execution_count": 154,
   "metadata": {},
   "outputs": [
    {
     "data": {
      "text/plain": [
       "tweet_id                         object\n",
       "retweet_count                     int64\n",
       "favorite_count                    int64\n",
       "in_reply_to_status_id           float64\n",
       "in_reply_to_user_id             float64\n",
       "timestamp                datetime64[ns]\n",
       "text                             object\n",
       "rating_numerator                float64\n",
       "rating_denominator                int64\n",
       "name                             object\n",
       "dog_category                     object\n",
       "dtype: object"
      ]
     },
     "execution_count": 154,
     "metadata": {},
     "output_type": "execute_result"
    }
   ],
   "source": [
    "df_api_twitter.dtypes"
   ]
  },
  {
   "cell_type": "code",
   "execution_count": 76,
   "metadata": {},
   "outputs": [],
   "source": [
    "# it can be seen that the tweet_id, rating numerator and timestamp have correct \n",
    "# dtypes"
   ]
  },
  {
   "cell_type": "markdown",
   "metadata": {},
   "source": [
    "#### QUALITY ISSUE 7 :  The name column have few values as None. "
   ]
  },
  {
   "cell_type": "code",
   "execution_count": 77,
   "metadata": {},
   "outputs": [],
   "source": [
    "# there are few rows with dog names as 'None' replace them will None (null) ."
   ]
  },
  {
   "cell_type": "code",
   "execution_count": 78,
   "metadata": {},
   "outputs": [],
   "source": [
    "df_name_none = df_api_twitter.index[df_api_twitter.name == 'None'].tolist()"
   ]
  },
  {
   "cell_type": "code",
   "execution_count": 79,
   "metadata": {},
   "outputs": [
    {
     "data": {
      "text/plain": [
       "2436"
      ]
     },
     "execution_count": 79,
     "metadata": {},
     "output_type": "execute_result"
    }
   ],
   "source": [
    "len(df_name_none)"
   ]
  },
  {
   "cell_type": "code",
   "execution_count": null,
   "metadata": {},
   "outputs": [],
   "source": []
  },
  {
   "cell_type": "code",
   "execution_count": 80,
   "metadata": {},
   "outputs": [],
   "source": [
    "df_api_twitter.loc[df_name_none, ['name']] = None"
   ]
  },
  {
   "cell_type": "code",
   "execution_count": 81,
   "metadata": {},
   "outputs": [],
   "source": [
    "#It can be seen that the \"None\" (string) is replaced by None(NULL)"
   ]
  },
  {
   "cell_type": "markdown",
   "metadata": {},
   "source": []
  },
  {
   "cell_type": "code",
   "execution_count": 82,
   "metadata": {},
   "outputs": [
    {
     "data": {
      "text/plain": [
       "2436"
      ]
     },
     "execution_count": 82,
     "metadata": {},
     "output_type": "execute_result"
    }
   ],
   "source": [
    "df_api_twitter.name.isnull().sum()\n",
    "#confirming that all 2436 value are replaced with None."
   ]
  },
  {
   "cell_type": "markdown",
   "metadata": {},
   "source": [
    "#### QUALITY ISSUE 8: Few rows have numerator values very high, like 165/144 etc.\n"
   ]
  },
  {
   "cell_type": "code",
   "execution_count": 83,
   "metadata": {},
   "outputs": [
    {
     "data": {
      "text/plain": [
       "12      2120\n",
       "11      1752\n",
       "10      1672\n",
       "13      1316\n",
       "9        528\n",
       "8        336\n",
       "14       196\n",
       "7        172\n",
       "5        124\n",
       "6        104\n",
       "3         64\n",
       "4         52\n",
       "2         16\n",
       "1         12\n",
       "75         8\n",
       "121        4\n",
       "15         4\n",
       "144        4\n",
       "88         4\n",
       "80         4\n",
       "24         4\n",
       "1776       4\n",
       "27         4\n",
       "26         4\n",
       "50         4\n",
       "99         4\n",
       "44         4\n",
       "60         4\n",
       "84         4\n",
       "204        4\n",
       "420        4\n",
       "45         4\n",
       "165        4\n",
       "0          4\n",
       "Name: rating_numerator, dtype: int64"
      ]
     },
     "execution_count": 83,
     "metadata": {},
     "output_type": "execute_result"
    }
   ],
   "source": [
    "df_api_twitter.rating_numerator.value_counts()"
   ]
  },
  {
   "cell_type": "code",
   "execution_count": 84,
   "metadata": {},
   "outputs": [],
   "source": [
    "#lets doubt on ratings which are >15 and <5 and find their index\n",
    "df_numerator_index = df_api_twitter.index[(df_api_twitter.rating_numerator>15) | (df_api_twitter.rating_numerator<5)].tolist() "
   ]
  },
  {
   "cell_type": "code",
   "execution_count": 85,
   "metadata": {},
   "outputs": [
    {
     "data": {
      "text/plain": [
       "224"
      ]
     },
     "execution_count": 85,
     "metadata": {},
     "output_type": "execute_result"
    }
   ],
   "source": [
    "len(df_numerator_index)"
   ]
  },
  {
   "cell_type": "code",
   "execution_count": null,
   "metadata": {},
   "outputs": [],
   "source": []
  },
  {
   "cell_type": "code",
   "execution_count": 86,
   "metadata": {},
   "outputs": [],
   "source": [
    "#now lets use regex to find numerator values from text in following index\n",
    "#first make a new dataframe with index as per df_numerator_index and drop them from original dataframe.\n",
    "df_numerator_corrected = df_api_twitter.loc[df_numerator_index]\n",
    "df_api_twitter.drop(df_numerator_index, inplace = True)"
   ]
  },
  {
   "cell_type": "code",
   "execution_count": null,
   "metadata": {},
   "outputs": [],
   "source": []
  },
  {
   "cell_type": "code",
   "execution_count": 87,
   "metadata": {},
   "outputs": [],
   "source": [
    "df_numerator_corrected['rating_numerator'] = df_numerator_corrected.text.str.extract(r'(\\d\\d*\\.*\\d*\\d*)', expand = True)"
   ]
  },
  {
   "cell_type": "code",
   "execution_count": 88,
   "metadata": {},
   "outputs": [
    {
     "data": {
      "text/plain": [
       "50        4\n",
       "0         4\n",
       "80        4\n",
       "11.26     4\n",
       "420       4\n",
       "204       4\n",
       "88        4\n",
       "44        4\n",
       "24        4\n",
       "9         4\n",
       "165       4\n",
       "121       4\n",
       "60        4\n",
       "1776      4\n",
       "45        4\n",
       "144       4\n",
       "11.27     4\n",
       "84        4\n",
       "9.75      8\n",
       "1        12\n",
       "2        20\n",
       "4        48\n",
       "3        64\n",
       "Name: rating_numerator, dtype: int64"
      ]
     },
     "execution_count": 88,
     "metadata": {},
     "output_type": "execute_result"
    }
   ],
   "source": [
    "df_numerator_corrected.rating_numerator.value_counts().sort_values()"
   ]
  },
  {
   "cell_type": "code",
   "execution_count": 89,
   "metadata": {},
   "outputs": [
    {
     "data": {
      "text/plain": [
       "'After so many requests... here you go.\\n\\nGood dogg. 420/10 https://t.co/yfAAo1gdeY'"
      ]
     },
     "execution_count": 89,
     "metadata": {},
     "output_type": "execute_result"
    }
   ],
   "source": [
    "df_numerator_corrected.loc[8714].text  "
   ]
  },
  {
   "cell_type": "code",
   "execution_count": 90,
   "metadata": {},
   "outputs": [],
   "source": [
    "#merge two dataframes i.e df_numerator_corrected + df_api_twitter\n",
    "df_api_twitter = pd.concat([df_api_twitter, df_numerator_corrected], ignore_index = True)"
   ]
  },
  {
   "cell_type": "code",
   "execution_count": 91,
   "metadata": {},
   "outputs": [
    {
     "data": {
      "text/plain": [
       "(8548, 11)"
      ]
     },
     "execution_count": 91,
     "metadata": {},
     "output_type": "execute_result"
    }
   ],
   "source": [
    "df_api_twitter.shape\n",
    "#got the final shape, with numerator values updated and corrected."
   ]
  },
  {
   "cell_type": "code",
   "execution_count": 92,
   "metadata": {},
   "outputs": [],
   "source": [
    "df_api_twitter['rating_numerator'] =  pd.to_numeric(df_api_twitter['rating_numerator'], errors='coerce')\n"
   ]
  },
  {
   "cell_type": "code",
   "execution_count": 93,
   "metadata": {},
   "outputs": [
    {
     "data": {
      "text/plain": [
       "12.00      2120\n",
       "11.00      1752\n",
       "10.00      1672\n",
       "13.00      1316\n",
       "9.00        532\n",
       "8.00        336\n",
       "14.00       196\n",
       "7.00        172\n",
       "5.00        124\n",
       "6.00        104\n",
       "3.00         64\n",
       "4.00         48\n",
       "2.00         20\n",
       "1.00         12\n",
       "9.75          8\n",
       "121.00        4\n",
       "420.00        4\n",
       "45.00         4\n",
       "88.00         4\n",
       "144.00        4\n",
       "44.00         4\n",
       "60.00         4\n",
       "15.00         4\n",
       "50.00         4\n",
       "0.00          4\n",
       "24.00         4\n",
       "1776.00       4\n",
       "204.00        4\n",
       "84.00         4\n",
       "80.00         4\n",
       "165.00        4\n",
       "11.26         4\n",
       "11.27         4\n",
       "Name: rating_numerator, dtype: int64"
      ]
     },
     "execution_count": 93,
     "metadata": {},
     "output_type": "execute_result"
    }
   ],
   "source": [
    "df_api_twitter.rating_numerator.value_counts()\n",
    "#few values like 420, 144, 1776 are still confusing, and I will consider them as outliers\n",
    "#while calculations, or as typo error."
   ]
  },
  {
   "cell_type": "markdown",
   "metadata": {},
   "source": [
    "#### Test"
   ]
  },
  {
   "cell_type": "code",
   "execution_count": 94,
   "metadata": {},
   "outputs": [],
   "source": [
    "df_numerator_index = df_api_twitter.index[(df_api_twitter.rating_numerator>15) | (df_api_twitter.rating_numerator<5)].tolist() "
   ]
  },
  {
   "cell_type": "code",
   "execution_count": 95,
   "metadata": {},
   "outputs": [
    {
     "data": {
      "text/plain": [
       "204"
      ]
     },
     "execution_count": 95,
     "metadata": {},
     "output_type": "execute_result"
    }
   ],
   "source": [
    "len(df_numerator_index)\n",
    "# It can be seen that intially the number was 224, now it is 204."
   ]
  },
  {
   "cell_type": "markdown",
   "metadata": {},
   "source": [
    "#### Removing duplicates because of melting data."
   ]
  },
  {
   "cell_type": "code",
   "execution_count": 96,
   "metadata": {},
   "outputs": [
    {
     "data": {
      "text/plain": [
       "6411"
      ]
     },
     "execution_count": 96,
     "metadata": {},
     "output_type": "execute_result"
    }
   ],
   "source": [
    "df_api_twitter.tweet_id.duplicated().sum()"
   ]
  },
  {
   "cell_type": "markdown",
   "metadata": {},
   "source": [
    "#### It can be seen that because of melting, the number of rows has increased alot.  Now if I delete duplicated based on tweet id, I am not sure which row will be kept in final dataset (I dont want to loose row which has +ve dog category). So I will make one dataset with all dog categories (df1), the will concat with df_api_twitter followed by removing duplicates."
   ]
  },
  {
   "cell_type": "code",
   "execution_count": 97,
   "metadata": {},
   "outputs": [
    {
     "data": {
      "text/plain": [
       "puppo        545\n",
       "pupperrr     242\n",
       "doggo        103\n",
       "pupperrrs     22\n",
       "floofer       10\n",
       "pupper         8\n",
       "pupperr        7\n",
       "Name: dog_category, dtype: int64"
      ]
     },
     "execution_count": 97,
     "metadata": {},
     "output_type": "execute_result"
    }
   ],
   "source": [
    "df_api_twitter.dog_category.value_counts()"
   ]
  },
  {
   "cell_type": "code",
   "execution_count": 98,
   "metadata": {},
   "outputs": [],
   "source": [
    "df_1 = df_api_twitter[(df_api_twitter.dog_category == 'doggo')|(df_api_twitter.dog_category == 'pupper')|(df_api_twitter.dog_category == 'puppo')|(df_api_twitter.dog_category == 'floofer')]"
   ]
  },
  {
   "cell_type": "code",
   "execution_count": 99,
   "metadata": {},
   "outputs": [
    {
     "data": {
      "text/html": [
       "<div>\n",
       "<style scoped>\n",
       "    .dataframe tbody tr th:only-of-type {\n",
       "        vertical-align: middle;\n",
       "    }\n",
       "\n",
       "    .dataframe tbody tr th {\n",
       "        vertical-align: top;\n",
       "    }\n",
       "\n",
       "    .dataframe thead th {\n",
       "        text-align: right;\n",
       "    }\n",
       "</style>\n",
       "<table border=\"1\" class=\"dataframe\">\n",
       "  <thead>\n",
       "    <tr style=\"text-align: right;\">\n",
       "      <th></th>\n",
       "      <th>tweet_id</th>\n",
       "      <th>retweet_count</th>\n",
       "      <th>favorite_count</th>\n",
       "      <th>in_reply_to_status_id</th>\n",
       "      <th>in_reply_to_user_id</th>\n",
       "      <th>timestamp</th>\n",
       "      <th>text</th>\n",
       "      <th>rating_numerator</th>\n",
       "      <th>rating_denominator</th>\n",
       "      <th>name</th>\n",
       "      <th>dog_category</th>\n",
       "    </tr>\n",
       "  </thead>\n",
       "  <tbody>\n",
       "    <tr>\n",
       "      <th>9</th>\n",
       "      <td>890240255349198849</td>\n",
       "      <td>7711</td>\n",
       "      <td>32467</td>\n",
       "      <td>NaN</td>\n",
       "      <td>NaN</td>\n",
       "      <td>2017-07-26 15:59:51</td>\n",
       "      <td>This is Cassie. She is a college pup. Studying...</td>\n",
       "      <td>14.00</td>\n",
       "      <td>10</td>\n",
       "      <td>Cassie</td>\n",
       "      <td>doggo</td>\n",
       "    </tr>\n",
       "    <tr>\n",
       "      <th>41</th>\n",
       "      <td>884162670584377345</td>\n",
       "      <td>3128</td>\n",
       "      <td>20771</td>\n",
       "      <td>NaN</td>\n",
       "      <td>NaN</td>\n",
       "      <td>2017-07-09 21:29:42</td>\n",
       "      <td>Meet Yogi. He doesn't have any important dog m...</td>\n",
       "      <td>12.00</td>\n",
       "      <td>10</td>\n",
       "      <td>Yogi</td>\n",
       "      <td>doggo</td>\n",
       "    </tr>\n",
       "    <tr>\n",
       "      <th>79</th>\n",
       "      <td>876537666061221889</td>\n",
       "      <td>4800</td>\n",
       "      <td>23869</td>\n",
       "      <td>NaN</td>\n",
       "      <td>NaN</td>\n",
       "      <td>2017-06-18 20:30:39</td>\n",
       "      <td>I can say with the pupmost confidence that the...</td>\n",
       "      <td>14.00</td>\n",
       "      <td>10</td>\n",
       "      <td>None</td>\n",
       "      <td>doggo</td>\n",
       "    </tr>\n",
       "    <tr>\n",
       "      <th>95</th>\n",
       "      <td>872967104147763200</td>\n",
       "      <td>5669</td>\n",
       "      <td>28031</td>\n",
       "      <td>NaN</td>\n",
       "      <td>NaN</td>\n",
       "      <td>2017-06-09 00:02:31</td>\n",
       "      <td>Here's a very large dog. He has a date later. ...</td>\n",
       "      <td>12.00</td>\n",
       "      <td>10</td>\n",
       "      <td>None</td>\n",
       "      <td>doggo</td>\n",
       "    </tr>\n",
       "    <tr>\n",
       "      <th>104</th>\n",
       "      <td>871515927908634625</td>\n",
       "      <td>3628</td>\n",
       "      <td>20730</td>\n",
       "      <td>NaN</td>\n",
       "      <td>NaN</td>\n",
       "      <td>2017-06-04 23:56:03</td>\n",
       "      <td>This is Napolean. He's a Raggedy East Nicaragu...</td>\n",
       "      <td>12.00</td>\n",
       "      <td>10</td>\n",
       "      <td>Napolean</td>\n",
       "      <td>doggo</td>\n",
       "    </tr>\n",
       "    <tr>\n",
       "      <th>106</th>\n",
       "      <td>871102520638267392</td>\n",
       "      <td>5764</td>\n",
       "      <td>21461</td>\n",
       "      <td>NaN</td>\n",
       "      <td>NaN</td>\n",
       "      <td>2017-06-03 20:33:19</td>\n",
       "      <td>Never doubt a doggo 14/10 https://t.co/AbBLh2FZCH</td>\n",
       "      <td>14.00</td>\n",
       "      <td>10</td>\n",
       "      <td>None</td>\n",
       "      <td>doggo</td>\n",
       "    </tr>\n",
       "    <tr>\n",
       "      <th>116</th>\n",
       "      <td>869596645499047938</td>\n",
       "      <td>3327</td>\n",
       "      <td>16476</td>\n",
       "      <td>NaN</td>\n",
       "      <td>NaN</td>\n",
       "      <td>2017-05-30 16:49:31</td>\n",
       "      <td>This is Scout. He just graduated. Officially a...</td>\n",
       "      <td>12.00</td>\n",
       "      <td>10</td>\n",
       "      <td>Scout</td>\n",
       "      <td>doggo</td>\n",
       "    </tr>\n",
       "    <tr>\n",
       "      <th>165</th>\n",
       "      <td>858843525470990336</td>\n",
       "      <td>3771</td>\n",
       "      <td>16304</td>\n",
       "      <td>NaN</td>\n",
       "      <td>NaN</td>\n",
       "      <td>2017-05-01 00:40:27</td>\n",
       "      <td>I have stumbled puppon a doggo painting party....</td>\n",
       "      <td>13.00</td>\n",
       "      <td>10</td>\n",
       "      <td>None</td>\n",
       "      <td>doggo</td>\n",
       "    </tr>\n",
       "    <tr>\n",
       "      <th>179</th>\n",
       "      <td>855851453814013952</td>\n",
       "      <td>19196</td>\n",
       "      <td>47844</td>\n",
       "      <td>NaN</td>\n",
       "      <td>NaN</td>\n",
       "      <td>2017-04-22 18:31:02</td>\n",
       "      <td>Here's a puppo participating in the #ScienceMa...</td>\n",
       "      <td>13.00</td>\n",
       "      <td>10</td>\n",
       "      <td>None</td>\n",
       "      <td>doggo</td>\n",
       "    </tr>\n",
       "    <tr>\n",
       "      <th>188</th>\n",
       "      <td>854010172552949760</td>\n",
       "      <td>3433</td>\n",
       "      <td>17169</td>\n",
       "      <td>NaN</td>\n",
       "      <td>NaN</td>\n",
       "      <td>2017-04-17 16:34:26</td>\n",
       "      <td>At first I thought this was a shy doggo, but i...</td>\n",
       "      <td>11.00</td>\n",
       "      <td>10</td>\n",
       "      <td>None</td>\n",
       "      <td>doggo</td>\n",
       "    </tr>\n",
       "    <tr>\n",
       "      <th>199</th>\n",
       "      <td>851953902622658560</td>\n",
       "      <td>10706</td>\n",
       "      <td>0</td>\n",
       "      <td>NaN</td>\n",
       "      <td>NaN</td>\n",
       "      <td>2017-04-12 00:23:33</td>\n",
       "      <td>RT @dog_rates: This is Astrid. She's a guide d...</td>\n",
       "      <td>13.00</td>\n",
       "      <td>10</td>\n",
       "      <td>Astrid</td>\n",
       "      <td>doggo</td>\n",
       "    </tr>\n",
       "    <tr>\n",
       "      <th>225</th>\n",
       "      <td>846514051647705089</td>\n",
       "      <td>13076</td>\n",
       "      <td>48410</td>\n",
       "      <td>NaN</td>\n",
       "      <td>NaN</td>\n",
       "      <td>2017-03-28 00:07:32</td>\n",
       "      <td>This is Barney. He's an elder doggo. Hitches a...</td>\n",
       "      <td>13.00</td>\n",
       "      <td>10</td>\n",
       "      <td>Barney</td>\n",
       "      <td>doggo</td>\n",
       "    </tr>\n",
       "    <tr>\n",
       "      <th>233</th>\n",
       "      <td>845397057150107648</td>\n",
       "      <td>2072</td>\n",
       "      <td>8241</td>\n",
       "      <td>NaN</td>\n",
       "      <td>NaN</td>\n",
       "      <td>2017-03-24 22:08:59</td>\n",
       "      <td>Say hello to Mimosa. She's an emotional suppor...</td>\n",
       "      <td>13.00</td>\n",
       "      <td>10</td>\n",
       "      <td>Mimosa</td>\n",
       "      <td>doggo</td>\n",
       "    </tr>\n",
       "    <tr>\n",
       "      <th>252</th>\n",
       "      <td>841439858740625411</td>\n",
       "      <td>4168</td>\n",
       "      <td>13755</td>\n",
       "      <td>NaN</td>\n",
       "      <td>NaN</td>\n",
       "      <td>2017-03-14 00:04:30</td>\n",
       "      <td>Here we have some incredible doggos for #K9Vet...</td>\n",
       "      <td>14.00</td>\n",
       "      <td>10</td>\n",
       "      <td>None</td>\n",
       "      <td>doggo</td>\n",
       "    </tr>\n",
       "    <tr>\n",
       "      <th>281</th>\n",
       "      <td>836753516572119041</td>\n",
       "      <td>5237</td>\n",
       "      <td>21029</td>\n",
       "      <td>NaN</td>\n",
       "      <td>NaN</td>\n",
       "      <td>2017-03-01 01:42:39</td>\n",
       "      <td>This is Meera. She just heard about taxes and ...</td>\n",
       "      <td>12.00</td>\n",
       "      <td>10</td>\n",
       "      <td>Meera</td>\n",
       "      <td>doggo</td>\n",
       "    </tr>\n",
       "    <tr>\n",
       "      <th>283</th>\n",
       "      <td>836648853927522308</td>\n",
       "      <td>626</td>\n",
       "      <td>0</td>\n",
       "      <td>NaN</td>\n",
       "      <td>NaN</td>\n",
       "      <td>2017-02-28 18:46:45</td>\n",
       "      <td>RT @SchafeBacon2016: @dog_rates Slightly distu...</td>\n",
       "      <td>11.00</td>\n",
       "      <td>10</td>\n",
       "      <td>None</td>\n",
       "      <td>doggo</td>\n",
       "    </tr>\n",
       "    <tr>\n",
       "      <th>297</th>\n",
       "      <td>834574053763584002</td>\n",
       "      <td>2882</td>\n",
       "      <td>14993</td>\n",
       "      <td>NaN</td>\n",
       "      <td>NaN</td>\n",
       "      <td>2017-02-23 01:22:14</td>\n",
       "      <td>Here's a doggo fully pupared for a shower. H*c...</td>\n",
       "      <td>13.00</td>\n",
       "      <td>10</td>\n",
       "      <td>None</td>\n",
       "      <td>doggo</td>\n",
       "    </tr>\n",
       "    <tr>\n",
       "      <th>302</th>\n",
       "      <td>834089966724603904</td>\n",
       "      <td>2427</td>\n",
       "      <td>10971</td>\n",
       "      <td>NaN</td>\n",
       "      <td>NaN</td>\n",
       "      <td>2017-02-21 17:18:39</td>\n",
       "      <td>DOGGO ON THE LOOSE I REPEAT DOGGO ON THE LOOSE...</td>\n",
       "      <td>10.00</td>\n",
       "      <td>10</td>\n",
       "      <td>None</td>\n",
       "      <td>doggo</td>\n",
       "    </tr>\n",
       "    <tr>\n",
       "      <th>310</th>\n",
       "      <td>832998151111966721</td>\n",
       "      <td>2522</td>\n",
       "      <td>14549</td>\n",
       "      <td>NaN</td>\n",
       "      <td>NaN</td>\n",
       "      <td>2017-02-18 17:00:10</td>\n",
       "      <td>This is Rhino. He arrived at a shelter with an...</td>\n",
       "      <td>13.00</td>\n",
       "      <td>10</td>\n",
       "      <td>Rhino</td>\n",
       "      <td>doggo</td>\n",
       "    </tr>\n",
       "    <tr>\n",
       "      <th>318</th>\n",
       "      <td>832273440279240704</td>\n",
       "      <td>2673</td>\n",
       "      <td>12385</td>\n",
       "      <td>NaN</td>\n",
       "      <td>NaN</td>\n",
       "      <td>2017-02-16 17:00:25</td>\n",
       "      <td>Say hello to Smiley. He's a blind therapy dogg...</td>\n",
       "      <td>14.00</td>\n",
       "      <td>10</td>\n",
       "      <td>Smiley</td>\n",
       "      <td>doggo</td>\n",
       "    </tr>\n",
       "    <tr>\n",
       "      <th>321</th>\n",
       "      <td>832032802820481025</td>\n",
       "      <td>4746</td>\n",
       "      <td>13887</td>\n",
       "      <td>NaN</td>\n",
       "      <td>NaN</td>\n",
       "      <td>2017-02-16 01:04:13</td>\n",
       "      <td>This is Miguel. He was the only remaining dogg...</td>\n",
       "      <td>12.00</td>\n",
       "      <td>10</td>\n",
       "      <td>Miguel</td>\n",
       "      <td>doggo</td>\n",
       "    </tr>\n",
       "    <tr>\n",
       "      <th>322</th>\n",
       "      <td>831939777352105988</td>\n",
       "      <td>7031</td>\n",
       "      <td>26404</td>\n",
       "      <td>NaN</td>\n",
       "      <td>NaN</td>\n",
       "      <td>2017-02-15 18:54:34</td>\n",
       "      <td>This is Emanuel. He's a h*ckin rare doggo. Dwe...</td>\n",
       "      <td>12.00</td>\n",
       "      <td>10</td>\n",
       "      <td>Emanuel</td>\n",
       "      <td>doggo</td>\n",
       "    </tr>\n",
       "    <tr>\n",
       "      <th>327</th>\n",
       "      <td>831322785565769729</td>\n",
       "      <td>1744</td>\n",
       "      <td>10042</td>\n",
       "      <td>NaN</td>\n",
       "      <td>NaN</td>\n",
       "      <td>2017-02-14 02:02:51</td>\n",
       "      <td>This is Pete. He has no eyes. Needs a guide do...</td>\n",
       "      <td>12.00</td>\n",
       "      <td>10</td>\n",
       "      <td>Pete</td>\n",
       "      <td>doggo</td>\n",
       "    </tr>\n",
       "    <tr>\n",
       "      <th>335</th>\n",
       "      <td>829878982036299777</td>\n",
       "      <td>5757</td>\n",
       "      <td>0</td>\n",
       "      <td>NaN</td>\n",
       "      <td>NaN</td>\n",
       "      <td>2017-02-10 02:25:42</td>\n",
       "      <td>RT @dog_rates: This is Loki. He smiles like El...</td>\n",
       "      <td>12.00</td>\n",
       "      <td>10</td>\n",
       "      <td>Loki</td>\n",
       "      <td>doggo</td>\n",
       "    </tr>\n",
       "    <tr>\n",
       "      <th>338</th>\n",
       "      <td>829449946868879360</td>\n",
       "      <td>2329</td>\n",
       "      <td>11519</td>\n",
       "      <td>NaN</td>\n",
       "      <td>NaN</td>\n",
       "      <td>2017-02-08 22:00:52</td>\n",
       "      <td>Here's a stressed doggo. Had a long day. Many ...</td>\n",
       "      <td>11.00</td>\n",
       "      <td>10</td>\n",
       "      <td>None</td>\n",
       "      <td>doggo</td>\n",
       "    </tr>\n",
       "    <tr>\n",
       "      <th>339</th>\n",
       "      <td>829374341691346946</td>\n",
       "      <td>10706</td>\n",
       "      <td>38074</td>\n",
       "      <td>NaN</td>\n",
       "      <td>NaN</td>\n",
       "      <td>2017-02-08 17:00:26</td>\n",
       "      <td>This is Astrid. She's a guide doggo in trainin...</td>\n",
       "      <td>13.00</td>\n",
       "      <td>10</td>\n",
       "      <td>Astrid</td>\n",
       "      <td>doggo</td>\n",
       "    </tr>\n",
       "    <tr>\n",
       "      <th>348</th>\n",
       "      <td>828381636999917570</td>\n",
       "      <td>2554</td>\n",
       "      <td>13864</td>\n",
       "      <td>NaN</td>\n",
       "      <td>NaN</td>\n",
       "      <td>2017-02-05 23:15:47</td>\n",
       "      <td>Meet Doobert. He's a deaf doggo. Didn't stop h...</td>\n",
       "      <td>14.00</td>\n",
       "      <td>10</td>\n",
       "      <td>Doobert</td>\n",
       "      <td>doggo</td>\n",
       "    </tr>\n",
       "    <tr>\n",
       "      <th>360</th>\n",
       "      <td>826958653328592898</td>\n",
       "      <td>5757</td>\n",
       "      <td>23767</td>\n",
       "      <td>NaN</td>\n",
       "      <td>NaN</td>\n",
       "      <td>2017-02-02 01:01:21</td>\n",
       "      <td>This is Loki. He smiles like Elvis. Ain't noth...</td>\n",
       "      <td>12.00</td>\n",
       "      <td>10</td>\n",
       "      <td>Loki</td>\n",
       "      <td>doggo</td>\n",
       "    </tr>\n",
       "    <tr>\n",
       "      <th>361</th>\n",
       "      <td>826848821049180160</td>\n",
       "      <td>11878</td>\n",
       "      <td>40325</td>\n",
       "      <td>NaN</td>\n",
       "      <td>NaN</td>\n",
       "      <td>2017-02-01 17:44:55</td>\n",
       "      <td>This is Cupid. He was found in the trash. Now ...</td>\n",
       "      <td>13.00</td>\n",
       "      <td>10</td>\n",
       "      <td>Cupid</td>\n",
       "      <td>doggo</td>\n",
       "    </tr>\n",
       "    <tr>\n",
       "      <th>364</th>\n",
       "      <td>826476773533745153</td>\n",
       "      <td>4821</td>\n",
       "      <td>20275</td>\n",
       "      <td>NaN</td>\n",
       "      <td>NaN</td>\n",
       "      <td>2017-01-31 17:06:32</td>\n",
       "      <td>This is Pilot. He has mastered the synchronize...</td>\n",
       "      <td>12.00</td>\n",
       "      <td>10</td>\n",
       "      <td>Pilot</td>\n",
       "      <td>doggo</td>\n",
       "    </tr>\n",
       "    <tr>\n",
       "      <th>...</th>\n",
       "      <td>...</td>\n",
       "      <td>...</td>\n",
       "      <td>...</td>\n",
       "      <td>...</td>\n",
       "      <td>...</td>\n",
       "      <td>...</td>\n",
       "      <td>...</td>\n",
       "      <td>...</td>\n",
       "      <td>...</td>\n",
       "      <td>...</td>\n",
       "      <td>...</td>\n",
       "    </tr>\n",
       "    <tr>\n",
       "      <th>8224</th>\n",
       "      <td>670449342516494336</td>\n",
       "      <td>729</td>\n",
       "      <td>1264</td>\n",
       "      <td>NaN</td>\n",
       "      <td>NaN</td>\n",
       "      <td>2015-11-28 03:49:14</td>\n",
       "      <td>Vibrant dog here. Fabulous tail. Only 2 legs t...</td>\n",
       "      <td>5.00</td>\n",
       "      <td>10</td>\n",
       "      <td>None</td>\n",
       "      <td>puppo</td>\n",
       "    </tr>\n",
       "    <tr>\n",
       "      <th>8237</th>\n",
       "      <td>670403879788544000</td>\n",
       "      <td>173</td>\n",
       "      <td>460</td>\n",
       "      <td>NaN</td>\n",
       "      <td>NaN</td>\n",
       "      <td>2015-11-28 00:48:35</td>\n",
       "      <td>This is Nigel. He accidentally popped his ball...</td>\n",
       "      <td>10.00</td>\n",
       "      <td>10</td>\n",
       "      <td>Nigel</td>\n",
       "      <td>puppo</td>\n",
       "    </tr>\n",
       "    <tr>\n",
       "      <th>8247</th>\n",
       "      <td>670079681849372674</td>\n",
       "      <td>1373</td>\n",
       "      <td>2390</td>\n",
       "      <td>NaN</td>\n",
       "      <td>NaN</td>\n",
       "      <td>2015-11-27 03:20:20</td>\n",
       "      <td>Meet Fabio. He's a wonderful pup. Can't stay a...</td>\n",
       "      <td>10.00</td>\n",
       "      <td>10</td>\n",
       "      <td>Fabio</td>\n",
       "      <td>puppo</td>\n",
       "    </tr>\n",
       "    <tr>\n",
       "      <th>8255</th>\n",
       "      <td>669993076832759809</td>\n",
       "      <td>92</td>\n",
       "      <td>344</td>\n",
       "      <td>NaN</td>\n",
       "      <td>NaN</td>\n",
       "      <td>2015-11-26 21:36:12</td>\n",
       "      <td>This is Zoey. Her dreams of becoming a hippo b...</td>\n",
       "      <td>9.00</td>\n",
       "      <td>10</td>\n",
       "      <td>Zoey</td>\n",
       "      <td>puppo</td>\n",
       "    </tr>\n",
       "    <tr>\n",
       "      <th>8267</th>\n",
       "      <td>669625907762618368</td>\n",
       "      <td>1963</td>\n",
       "      <td>3769</td>\n",
       "      <td>NaN</td>\n",
       "      <td>NaN</td>\n",
       "      <td>2015-11-25 21:17:12</td>\n",
       "      <td>This is Penny. She's having fun AND being safe...</td>\n",
       "      <td>12.00</td>\n",
       "      <td>10</td>\n",
       "      <td>Penny</td>\n",
       "      <td>puppo</td>\n",
       "    </tr>\n",
       "    <tr>\n",
       "      <th>8293</th>\n",
       "      <td>668994913074286592</td>\n",
       "      <td>254</td>\n",
       "      <td>468</td>\n",
       "      <td>NaN</td>\n",
       "      <td>NaN</td>\n",
       "      <td>2015-11-24 03:29:51</td>\n",
       "      <td>Two gorgeous pups here. Both have cute fake ho...</td>\n",
       "      <td>5.00</td>\n",
       "      <td>10</td>\n",
       "      <td>None</td>\n",
       "      <td>puppo</td>\n",
       "    </tr>\n",
       "    <tr>\n",
       "      <th>8305</th>\n",
       "      <td>668852170888998912</td>\n",
       "      <td>184</td>\n",
       "      <td>479</td>\n",
       "      <td>NaN</td>\n",
       "      <td>NaN</td>\n",
       "      <td>2015-11-23 18:02:38</td>\n",
       "      <td>Say hello to Bobb. Bobb is a Golden High Fescu...</td>\n",
       "      <td>11.00</td>\n",
       "      <td>10</td>\n",
       "      <td>Bobb</td>\n",
       "      <td>puppo</td>\n",
       "    </tr>\n",
       "    <tr>\n",
       "      <th>8309</th>\n",
       "      <td>668655139528511488</td>\n",
       "      <td>233</td>\n",
       "      <td>562</td>\n",
       "      <td>NaN</td>\n",
       "      <td>NaN</td>\n",
       "      <td>2015-11-23 04:59:42</td>\n",
       "      <td>Say hello to Winifred. He is a Papyrus Hydrang...</td>\n",
       "      <td>11.00</td>\n",
       "      <td>10</td>\n",
       "      <td>Winifred</td>\n",
       "      <td>puppo</td>\n",
       "    </tr>\n",
       "    <tr>\n",
       "      <th>8322</th>\n",
       "      <td>668544745690562560</td>\n",
       "      <td>250</td>\n",
       "      <td>561</td>\n",
       "      <td>NaN</td>\n",
       "      <td>NaN</td>\n",
       "      <td>2015-11-22 21:41:02</td>\n",
       "      <td>It is an honor to rate this pup. He is a Snork...</td>\n",
       "      <td>10.00</td>\n",
       "      <td>10</td>\n",
       "      <td>None</td>\n",
       "      <td>puppo</td>\n",
       "    </tr>\n",
       "    <tr>\n",
       "      <th>8337</th>\n",
       "      <td>731156023742988288</td>\n",
       "      <td>1434</td>\n",
       "      <td>4196</td>\n",
       "      <td>NaN</td>\n",
       "      <td>NaN</td>\n",
       "      <td>2016-05-13 16:15:54</td>\n",
       "      <td>Say hello to this unbelievably well behaved sq...</td>\n",
       "      <td>204.00</td>\n",
       "      <td>10</td>\n",
       "      <td>this</td>\n",
       "      <td>doggo</td>\n",
       "    </tr>\n",
       "    <tr>\n",
       "      <th>8442</th>\n",
       "      <td>778027034220126208</td>\n",
       "      <td>1885</td>\n",
       "      <td>7320</td>\n",
       "      <td>NaN</td>\n",
       "      <td>NaN</td>\n",
       "      <td>2016-09-20 00:24:34</td>\n",
       "      <td>This is Sophie. She's a Jubilant Bush Pupper. ...</td>\n",
       "      <td>11.27</td>\n",
       "      <td>10</td>\n",
       "      <td>Sophie</td>\n",
       "      <td>pupper</td>\n",
       "    </tr>\n",
       "    <tr>\n",
       "      <th>8498</th>\n",
       "      <td>778027034220126208</td>\n",
       "      <td>1885</td>\n",
       "      <td>7320</td>\n",
       "      <td>NaN</td>\n",
       "      <td>NaN</td>\n",
       "      <td>2016-09-20 00:24:34</td>\n",
       "      <td>This is Sophie. She's a Jubilant Bush Pupper. ...</td>\n",
       "      <td>11.27</td>\n",
       "      <td>10</td>\n",
       "      <td>Sophie</td>\n",
       "      <td>puppo</td>\n",
       "    </tr>\n",
       "    <tr>\n",
       "      <th>8509</th>\n",
       "      <td>714631576617938945</td>\n",
       "      <td>1122</td>\n",
       "      <td>3571</td>\n",
       "      <td>NaN</td>\n",
       "      <td>NaN</td>\n",
       "      <td>2016-03-29 01:53:39</td>\n",
       "      <td>This is Benedict. He's a feisty pup. Needs a b...</td>\n",
       "      <td>4.00</td>\n",
       "      <td>10</td>\n",
       "      <td>Benedict</td>\n",
       "      <td>puppo</td>\n",
       "    </tr>\n",
       "    <tr>\n",
       "      <th>8510</th>\n",
       "      <td>713900603437621249</td>\n",
       "      <td>829</td>\n",
       "      <td>3062</td>\n",
       "      <td>NaN</td>\n",
       "      <td>NaN</td>\n",
       "      <td>2016-03-27 01:29:02</td>\n",
       "      <td>Happy Saturday here's 9 puppers on a bench. 99...</td>\n",
       "      <td>9.00</td>\n",
       "      <td>10</td>\n",
       "      <td>None</td>\n",
       "      <td>puppo</td>\n",
       "    </tr>\n",
       "    <tr>\n",
       "      <th>8512</th>\n",
       "      <td>710658690886586372</td>\n",
       "      <td>636</td>\n",
       "      <td>2529</td>\n",
       "      <td>NaN</td>\n",
       "      <td>NaN</td>\n",
       "      <td>2016-03-18 02:46:49</td>\n",
       "      <td>Here's a brigade of puppers. All look very pre...</td>\n",
       "      <td>80.00</td>\n",
       "      <td>10</td>\n",
       "      <td>None</td>\n",
       "      <td>puppo</td>\n",
       "    </tr>\n",
       "    <tr>\n",
       "      <th>8516</th>\n",
       "      <td>704054845121142784</td>\n",
       "      <td>1028</td>\n",
       "      <td>3201</td>\n",
       "      <td>NaN</td>\n",
       "      <td>NaN</td>\n",
       "      <td>2016-02-28 21:25:30</td>\n",
       "      <td>Here is a whole flock of puppers.  60/50 I'll ...</td>\n",
       "      <td>60.00</td>\n",
       "      <td>10</td>\n",
       "      <td>a</td>\n",
       "      <td>puppo</td>\n",
       "    </tr>\n",
       "    <tr>\n",
       "      <th>8518</th>\n",
       "      <td>697463031882764288</td>\n",
       "      <td>1552</td>\n",
       "      <td>3748</td>\n",
       "      <td>NaN</td>\n",
       "      <td>NaN</td>\n",
       "      <td>2016-02-10 16:51:59</td>\n",
       "      <td>Happy Wednesday here's a bucket of pups. 44/40...</td>\n",
       "      <td>44.00</td>\n",
       "      <td>10</td>\n",
       "      <td>None</td>\n",
       "      <td>puppo</td>\n",
       "    </tr>\n",
       "    <tr>\n",
       "      <th>8519</th>\n",
       "      <td>695064344191721472</td>\n",
       "      <td>685</td>\n",
       "      <td>1771</td>\n",
       "      <td>NaN</td>\n",
       "      <td>NaN</td>\n",
       "      <td>2016-02-04 02:00:27</td>\n",
       "      <td>This may be the greatest video I've ever been ...</td>\n",
       "      <td>4.00</td>\n",
       "      <td>10</td>\n",
       "      <td>None</td>\n",
       "      <td>puppo</td>\n",
       "    </tr>\n",
       "    <tr>\n",
       "      <th>8520</th>\n",
       "      <td>693590843962331137</td>\n",
       "      <td>2233</td>\n",
       "      <td>5565</td>\n",
       "      <td>NaN</td>\n",
       "      <td>NaN</td>\n",
       "      <td>2016-01-31 00:25:18</td>\n",
       "      <td>Meet Phil. He's big af. Currently destroying t...</td>\n",
       "      <td>3.00</td>\n",
       "      <td>10</td>\n",
       "      <td>Phil</td>\n",
       "      <td>puppo</td>\n",
       "    </tr>\n",
       "    <tr>\n",
       "      <th>8521</th>\n",
       "      <td>686003207160610816</td>\n",
       "      <td>735</td>\n",
       "      <td>2009</td>\n",
       "      <td>NaN</td>\n",
       "      <td>NaN</td>\n",
       "      <td>2016-01-10 01:54:44</td>\n",
       "      <td>This is Hammond. He's a peculiar pup. Loves lo...</td>\n",
       "      <td>3.00</td>\n",
       "      <td>10</td>\n",
       "      <td>Hammond</td>\n",
       "      <td>puppo</td>\n",
       "    </tr>\n",
       "    <tr>\n",
       "      <th>8523</th>\n",
       "      <td>684222868335505415</td>\n",
       "      <td>1563</td>\n",
       "      <td>4225</td>\n",
       "      <td>NaN</td>\n",
       "      <td>NaN</td>\n",
       "      <td>2016-01-05 04:00:18</td>\n",
       "      <td>Someone help the girl is being mugged. Several...</td>\n",
       "      <td>121.00</td>\n",
       "      <td>10</td>\n",
       "      <td>None</td>\n",
       "      <td>puppo</td>\n",
       "    </tr>\n",
       "    <tr>\n",
       "      <th>8526</th>\n",
       "      <td>680494726643068929</td>\n",
       "      <td>542</td>\n",
       "      <td>1879</td>\n",
       "      <td>NaN</td>\n",
       "      <td>NaN</td>\n",
       "      <td>2015-12-25 21:06:00</td>\n",
       "      <td>Here we have uncovered an entire battalion of ...</td>\n",
       "      <td>11.26</td>\n",
       "      <td>10</td>\n",
       "      <td>None</td>\n",
       "      <td>puppo</td>\n",
       "    </tr>\n",
       "    <tr>\n",
       "      <th>8527</th>\n",
       "      <td>678675843183484930</td>\n",
       "      <td>1680</td>\n",
       "      <td>3155</td>\n",
       "      <td>NaN</td>\n",
       "      <td>NaN</td>\n",
       "      <td>2015-12-20 20:38:24</td>\n",
       "      <td>Exotic pup here. Tail long af. Throat looks sw...</td>\n",
       "      <td>2.00</td>\n",
       "      <td>10</td>\n",
       "      <td>None</td>\n",
       "      <td>puppo</td>\n",
       "    </tr>\n",
       "    <tr>\n",
       "      <th>8529</th>\n",
       "      <td>677716515794329600</td>\n",
       "      <td>1104</td>\n",
       "      <td>3323</td>\n",
       "      <td>NaN</td>\n",
       "      <td>NaN</td>\n",
       "      <td>2015-12-18 05:06:23</td>\n",
       "      <td>IT'S PUPPERGEDDON. Total of 144/120 ...I think...</td>\n",
       "      <td>144.00</td>\n",
       "      <td>10</td>\n",
       "      <td>None</td>\n",
       "      <td>puppo</td>\n",
       "    </tr>\n",
       "    <tr>\n",
       "      <th>8530</th>\n",
       "      <td>676098748976615425</td>\n",
       "      <td>1623</td>\n",
       "      <td>3279</td>\n",
       "      <td>NaN</td>\n",
       "      <td>NaN</td>\n",
       "      <td>2015-12-13 17:57:57</td>\n",
       "      <td>Extremely rare pup here. Very religious. Alway...</td>\n",
       "      <td>3.00</td>\n",
       "      <td>10</td>\n",
       "      <td>None</td>\n",
       "      <td>puppo</td>\n",
       "    </tr>\n",
       "    <tr>\n",
       "      <th>8531</th>\n",
       "      <td>675853064436391936</td>\n",
       "      <td>1460</td>\n",
       "      <td>2927</td>\n",
       "      <td>NaN</td>\n",
       "      <td>NaN</td>\n",
       "      <td>2015-12-13 01:41:41</td>\n",
       "      <td>Here we have an entire platoon of puppers. Tot...</td>\n",
       "      <td>88.00</td>\n",
       "      <td>10</td>\n",
       "      <td>None</td>\n",
       "      <td>puppo</td>\n",
       "    </tr>\n",
       "    <tr>\n",
       "      <th>8533</th>\n",
       "      <td>674690135443775488</td>\n",
       "      <td>510</td>\n",
       "      <td>1237</td>\n",
       "      <td>NaN</td>\n",
       "      <td>NaN</td>\n",
       "      <td>2015-12-09 20:40:38</td>\n",
       "      <td>Meet Patrick. He's an exotic pup. Jumps great ...</td>\n",
       "      <td>3.00</td>\n",
       "      <td>10</td>\n",
       "      <td>Patrick</td>\n",
       "      <td>puppo</td>\n",
       "    </tr>\n",
       "    <tr>\n",
       "      <th>8535</th>\n",
       "      <td>674045139690631169</td>\n",
       "      <td>710</td>\n",
       "      <td>1520</td>\n",
       "      <td>NaN</td>\n",
       "      <td>NaN</td>\n",
       "      <td>2015-12-08 01:57:39</td>\n",
       "      <td>Herd of wild dogs here. Not sure what they're ...</td>\n",
       "      <td>3.00</td>\n",
       "      <td>10</td>\n",
       "      <td>None</td>\n",
       "      <td>puppo</td>\n",
       "    </tr>\n",
       "    <tr>\n",
       "      <th>8538</th>\n",
       "      <td>673700254269775872</td>\n",
       "      <td>638</td>\n",
       "      <td>1532</td>\n",
       "      <td>NaN</td>\n",
       "      <td>NaN</td>\n",
       "      <td>2015-12-07 03:07:12</td>\n",
       "      <td>Large blue dog here. Cool shades. Flipping us ...</td>\n",
       "      <td>3.00</td>\n",
       "      <td>10</td>\n",
       "      <td>None</td>\n",
       "      <td>puppo</td>\n",
       "    </tr>\n",
       "    <tr>\n",
       "      <th>8543</th>\n",
       "      <td>670783437142401025</td>\n",
       "      <td>431</td>\n",
       "      <td>872</td>\n",
       "      <td>NaN</td>\n",
       "      <td>NaN</td>\n",
       "      <td>2015-11-29 01:56:48</td>\n",
       "      <td>Flamboyant pup here. Probably poisonous. Won't...</td>\n",
       "      <td>1.00</td>\n",
       "      <td>10</td>\n",
       "      <td>None</td>\n",
       "      <td>puppo</td>\n",
       "    </tr>\n",
       "  </tbody>\n",
       "</table>\n",
       "<p>666 rows × 11 columns</p>\n",
       "</div>"
      ],
      "text/plain": [
       "                tweet_id  retweet_count  favorite_count  \\\n",
       "9     890240255349198849           7711           32467   \n",
       "41    884162670584377345           3128           20771   \n",
       "79    876537666061221889           4800           23869   \n",
       "95    872967104147763200           5669           28031   \n",
       "104   871515927908634625           3628           20730   \n",
       "106   871102520638267392           5764           21461   \n",
       "116   869596645499047938           3327           16476   \n",
       "165   858843525470990336           3771           16304   \n",
       "179   855851453814013952          19196           47844   \n",
       "188   854010172552949760           3433           17169   \n",
       "199   851953902622658560          10706               0   \n",
       "225   846514051647705089          13076           48410   \n",
       "233   845397057150107648           2072            8241   \n",
       "252   841439858740625411           4168           13755   \n",
       "281   836753516572119041           5237           21029   \n",
       "283   836648853927522308            626               0   \n",
       "297   834574053763584002           2882           14993   \n",
       "302   834089966724603904           2427           10971   \n",
       "310   832998151111966721           2522           14549   \n",
       "318   832273440279240704           2673           12385   \n",
       "321   832032802820481025           4746           13887   \n",
       "322   831939777352105988           7031           26404   \n",
       "327   831322785565769729           1744           10042   \n",
       "335   829878982036299777           5757               0   \n",
       "338   829449946868879360           2329           11519   \n",
       "339   829374341691346946          10706           38074   \n",
       "348   828381636999917570           2554           13864   \n",
       "360   826958653328592898           5757           23767   \n",
       "361   826848821049180160          11878           40325   \n",
       "364   826476773533745153           4821           20275   \n",
       "...                  ...            ...             ...   \n",
       "8224  670449342516494336            729            1264   \n",
       "8237  670403879788544000            173             460   \n",
       "8247  670079681849372674           1373            2390   \n",
       "8255  669993076832759809             92             344   \n",
       "8267  669625907762618368           1963            3769   \n",
       "8293  668994913074286592            254             468   \n",
       "8305  668852170888998912            184             479   \n",
       "8309  668655139528511488            233             562   \n",
       "8322  668544745690562560            250             561   \n",
       "8337  731156023742988288           1434            4196   \n",
       "8442  778027034220126208           1885            7320   \n",
       "8498  778027034220126208           1885            7320   \n",
       "8509  714631576617938945           1122            3571   \n",
       "8510  713900603437621249            829            3062   \n",
       "8512  710658690886586372            636            2529   \n",
       "8516  704054845121142784           1028            3201   \n",
       "8518  697463031882764288           1552            3748   \n",
       "8519  695064344191721472            685            1771   \n",
       "8520  693590843962331137           2233            5565   \n",
       "8521  686003207160610816            735            2009   \n",
       "8523  684222868335505415           1563            4225   \n",
       "8526  680494726643068929            542            1879   \n",
       "8527  678675843183484930           1680            3155   \n",
       "8529  677716515794329600           1104            3323   \n",
       "8530  676098748976615425           1623            3279   \n",
       "8531  675853064436391936           1460            2927   \n",
       "8533  674690135443775488            510            1237   \n",
       "8535  674045139690631169            710            1520   \n",
       "8538  673700254269775872            638            1532   \n",
       "8543  670783437142401025            431             872   \n",
       "\n",
       "      in_reply_to_status_id  in_reply_to_user_id           timestamp  \\\n",
       "9                       NaN                  NaN 2017-07-26 15:59:51   \n",
       "41                      NaN                  NaN 2017-07-09 21:29:42   \n",
       "79                      NaN                  NaN 2017-06-18 20:30:39   \n",
       "95                      NaN                  NaN 2017-06-09 00:02:31   \n",
       "104                     NaN                  NaN 2017-06-04 23:56:03   \n",
       "106                     NaN                  NaN 2017-06-03 20:33:19   \n",
       "116                     NaN                  NaN 2017-05-30 16:49:31   \n",
       "165                     NaN                  NaN 2017-05-01 00:40:27   \n",
       "179                     NaN                  NaN 2017-04-22 18:31:02   \n",
       "188                     NaN                  NaN 2017-04-17 16:34:26   \n",
       "199                     NaN                  NaN 2017-04-12 00:23:33   \n",
       "225                     NaN                  NaN 2017-03-28 00:07:32   \n",
       "233                     NaN                  NaN 2017-03-24 22:08:59   \n",
       "252                     NaN                  NaN 2017-03-14 00:04:30   \n",
       "281                     NaN                  NaN 2017-03-01 01:42:39   \n",
       "283                     NaN                  NaN 2017-02-28 18:46:45   \n",
       "297                     NaN                  NaN 2017-02-23 01:22:14   \n",
       "302                     NaN                  NaN 2017-02-21 17:18:39   \n",
       "310                     NaN                  NaN 2017-02-18 17:00:10   \n",
       "318                     NaN                  NaN 2017-02-16 17:00:25   \n",
       "321                     NaN                  NaN 2017-02-16 01:04:13   \n",
       "322                     NaN                  NaN 2017-02-15 18:54:34   \n",
       "327                     NaN                  NaN 2017-02-14 02:02:51   \n",
       "335                     NaN                  NaN 2017-02-10 02:25:42   \n",
       "338                     NaN                  NaN 2017-02-08 22:00:52   \n",
       "339                     NaN                  NaN 2017-02-08 17:00:26   \n",
       "348                     NaN                  NaN 2017-02-05 23:15:47   \n",
       "360                     NaN                  NaN 2017-02-02 01:01:21   \n",
       "361                     NaN                  NaN 2017-02-01 17:44:55   \n",
       "364                     NaN                  NaN 2017-01-31 17:06:32   \n",
       "...                     ...                  ...                 ...   \n",
       "8224                    NaN                  NaN 2015-11-28 03:49:14   \n",
       "8237                    NaN                  NaN 2015-11-28 00:48:35   \n",
       "8247                    NaN                  NaN 2015-11-27 03:20:20   \n",
       "8255                    NaN                  NaN 2015-11-26 21:36:12   \n",
       "8267                    NaN                  NaN 2015-11-25 21:17:12   \n",
       "8293                    NaN                  NaN 2015-11-24 03:29:51   \n",
       "8305                    NaN                  NaN 2015-11-23 18:02:38   \n",
       "8309                    NaN                  NaN 2015-11-23 04:59:42   \n",
       "8322                    NaN                  NaN 2015-11-22 21:41:02   \n",
       "8337                    NaN                  NaN 2016-05-13 16:15:54   \n",
       "8442                    NaN                  NaN 2016-09-20 00:24:34   \n",
       "8498                    NaN                  NaN 2016-09-20 00:24:34   \n",
       "8509                    NaN                  NaN 2016-03-29 01:53:39   \n",
       "8510                    NaN                  NaN 2016-03-27 01:29:02   \n",
       "8512                    NaN                  NaN 2016-03-18 02:46:49   \n",
       "8516                    NaN                  NaN 2016-02-28 21:25:30   \n",
       "8518                    NaN                  NaN 2016-02-10 16:51:59   \n",
       "8519                    NaN                  NaN 2016-02-04 02:00:27   \n",
       "8520                    NaN                  NaN 2016-01-31 00:25:18   \n",
       "8521                    NaN                  NaN 2016-01-10 01:54:44   \n",
       "8523                    NaN                  NaN 2016-01-05 04:00:18   \n",
       "8526                    NaN                  NaN 2015-12-25 21:06:00   \n",
       "8527                    NaN                  NaN 2015-12-20 20:38:24   \n",
       "8529                    NaN                  NaN 2015-12-18 05:06:23   \n",
       "8530                    NaN                  NaN 2015-12-13 17:57:57   \n",
       "8531                    NaN                  NaN 2015-12-13 01:41:41   \n",
       "8533                    NaN                  NaN 2015-12-09 20:40:38   \n",
       "8535                    NaN                  NaN 2015-12-08 01:57:39   \n",
       "8538                    NaN                  NaN 2015-12-07 03:07:12   \n",
       "8543                    NaN                  NaN 2015-11-29 01:56:48   \n",
       "\n",
       "                                                   text  rating_numerator  \\\n",
       "9     This is Cassie. She is a college pup. Studying...             14.00   \n",
       "41    Meet Yogi. He doesn't have any important dog m...             12.00   \n",
       "79    I can say with the pupmost confidence that the...             14.00   \n",
       "95    Here's a very large dog. He has a date later. ...             12.00   \n",
       "104   This is Napolean. He's a Raggedy East Nicaragu...             12.00   \n",
       "106   Never doubt a doggo 14/10 https://t.co/AbBLh2FZCH             14.00   \n",
       "116   This is Scout. He just graduated. Officially a...             12.00   \n",
       "165   I have stumbled puppon a doggo painting party....             13.00   \n",
       "179   Here's a puppo participating in the #ScienceMa...             13.00   \n",
       "188   At first I thought this was a shy doggo, but i...             11.00   \n",
       "199   RT @dog_rates: This is Astrid. She's a guide d...             13.00   \n",
       "225   This is Barney. He's an elder doggo. Hitches a...             13.00   \n",
       "233   Say hello to Mimosa. She's an emotional suppor...             13.00   \n",
       "252   Here we have some incredible doggos for #K9Vet...             14.00   \n",
       "281   This is Meera. She just heard about taxes and ...             12.00   \n",
       "283   RT @SchafeBacon2016: @dog_rates Slightly distu...             11.00   \n",
       "297   Here's a doggo fully pupared for a shower. H*c...             13.00   \n",
       "302   DOGGO ON THE LOOSE I REPEAT DOGGO ON THE LOOSE...             10.00   \n",
       "310   This is Rhino. He arrived at a shelter with an...             13.00   \n",
       "318   Say hello to Smiley. He's a blind therapy dogg...             14.00   \n",
       "321   This is Miguel. He was the only remaining dogg...             12.00   \n",
       "322   This is Emanuel. He's a h*ckin rare doggo. Dwe...             12.00   \n",
       "327   This is Pete. He has no eyes. Needs a guide do...             12.00   \n",
       "335   RT @dog_rates: This is Loki. He smiles like El...             12.00   \n",
       "338   Here's a stressed doggo. Had a long day. Many ...             11.00   \n",
       "339   This is Astrid. She's a guide doggo in trainin...             13.00   \n",
       "348   Meet Doobert. He's a deaf doggo. Didn't stop h...             14.00   \n",
       "360   This is Loki. He smiles like Elvis. Ain't noth...             12.00   \n",
       "361   This is Cupid. He was found in the trash. Now ...             13.00   \n",
       "364   This is Pilot. He has mastered the synchronize...             12.00   \n",
       "...                                                 ...               ...   \n",
       "8224  Vibrant dog here. Fabulous tail. Only 2 legs t...              5.00   \n",
       "8237  This is Nigel. He accidentally popped his ball...             10.00   \n",
       "8247  Meet Fabio. He's a wonderful pup. Can't stay a...             10.00   \n",
       "8255  This is Zoey. Her dreams of becoming a hippo b...              9.00   \n",
       "8267  This is Penny. She's having fun AND being safe...             12.00   \n",
       "8293  Two gorgeous pups here. Both have cute fake ho...              5.00   \n",
       "8305  Say hello to Bobb. Bobb is a Golden High Fescu...             11.00   \n",
       "8309  Say hello to Winifred. He is a Papyrus Hydrang...             11.00   \n",
       "8322  It is an honor to rate this pup. He is a Snork...             10.00   \n",
       "8337  Say hello to this unbelievably well behaved sq...            204.00   \n",
       "8442  This is Sophie. She's a Jubilant Bush Pupper. ...             11.27   \n",
       "8498  This is Sophie. She's a Jubilant Bush Pupper. ...             11.27   \n",
       "8509  This is Benedict. He's a feisty pup. Needs a b...              4.00   \n",
       "8510  Happy Saturday here's 9 puppers on a bench. 99...              9.00   \n",
       "8512  Here's a brigade of puppers. All look very pre...             80.00   \n",
       "8516  Here is a whole flock of puppers.  60/50 I'll ...             60.00   \n",
       "8518  Happy Wednesday here's a bucket of pups. 44/40...             44.00   \n",
       "8519  This may be the greatest video I've ever been ...              4.00   \n",
       "8520  Meet Phil. He's big af. Currently destroying t...              3.00   \n",
       "8521  This is Hammond. He's a peculiar pup. Loves lo...              3.00   \n",
       "8523  Someone help the girl is being mugged. Several...            121.00   \n",
       "8526  Here we have uncovered an entire battalion of ...             11.26   \n",
       "8527  Exotic pup here. Tail long af. Throat looks sw...              2.00   \n",
       "8529  IT'S PUPPERGEDDON. Total of 144/120 ...I think...            144.00   \n",
       "8530  Extremely rare pup here. Very religious. Alway...              3.00   \n",
       "8531  Here we have an entire platoon of puppers. Tot...             88.00   \n",
       "8533  Meet Patrick. He's an exotic pup. Jumps great ...              3.00   \n",
       "8535  Herd of wild dogs here. Not sure what they're ...              3.00   \n",
       "8538  Large blue dog here. Cool shades. Flipping us ...              3.00   \n",
       "8543  Flamboyant pup here. Probably poisonous. Won't...              1.00   \n",
       "\n",
       "      rating_denominator      name dog_category  \n",
       "9                     10    Cassie        doggo  \n",
       "41                    10      Yogi        doggo  \n",
       "79                    10      None        doggo  \n",
       "95                    10      None        doggo  \n",
       "104                   10  Napolean        doggo  \n",
       "106                   10      None        doggo  \n",
       "116                   10     Scout        doggo  \n",
       "165                   10      None        doggo  \n",
       "179                   10      None        doggo  \n",
       "188                   10      None        doggo  \n",
       "199                   10    Astrid        doggo  \n",
       "225                   10    Barney        doggo  \n",
       "233                   10    Mimosa        doggo  \n",
       "252                   10      None        doggo  \n",
       "281                   10     Meera        doggo  \n",
       "283                   10      None        doggo  \n",
       "297                   10      None        doggo  \n",
       "302                   10      None        doggo  \n",
       "310                   10     Rhino        doggo  \n",
       "318                   10    Smiley        doggo  \n",
       "321                   10    Miguel        doggo  \n",
       "322                   10   Emanuel        doggo  \n",
       "327                   10      Pete        doggo  \n",
       "335                   10      Loki        doggo  \n",
       "338                   10      None        doggo  \n",
       "339                   10    Astrid        doggo  \n",
       "348                   10   Doobert        doggo  \n",
       "360                   10      Loki        doggo  \n",
       "361                   10     Cupid        doggo  \n",
       "364                   10     Pilot        doggo  \n",
       "...                  ...       ...          ...  \n",
       "8224                  10      None        puppo  \n",
       "8237                  10     Nigel        puppo  \n",
       "8247                  10     Fabio        puppo  \n",
       "8255                  10      Zoey        puppo  \n",
       "8267                  10     Penny        puppo  \n",
       "8293                  10      None        puppo  \n",
       "8305                  10      Bobb        puppo  \n",
       "8309                  10  Winifred        puppo  \n",
       "8322                  10      None        puppo  \n",
       "8337                  10      this        doggo  \n",
       "8442                  10    Sophie       pupper  \n",
       "8498                  10    Sophie        puppo  \n",
       "8509                  10  Benedict        puppo  \n",
       "8510                  10      None        puppo  \n",
       "8512                  10      None        puppo  \n",
       "8516                  10         a        puppo  \n",
       "8518                  10      None        puppo  \n",
       "8519                  10      None        puppo  \n",
       "8520                  10      Phil        puppo  \n",
       "8521                  10   Hammond        puppo  \n",
       "8523                  10      None        puppo  \n",
       "8526                  10      None        puppo  \n",
       "8527                  10      None        puppo  \n",
       "8529                  10      None        puppo  \n",
       "8530                  10      None        puppo  \n",
       "8531                  10      None        puppo  \n",
       "8533                  10   Patrick        puppo  \n",
       "8535                  10      None        puppo  \n",
       "8538                  10      None        puppo  \n",
       "8543                  10      None        puppo  \n",
       "\n",
       "[666 rows x 11 columns]"
      ]
     },
     "execution_count": 99,
     "metadata": {},
     "output_type": "execute_result"
    }
   ],
   "source": [
    "df_1"
   ]
  },
  {
   "cell_type": "code",
   "execution_count": 100,
   "metadata": {},
   "outputs": [
    {
     "name": "stdout",
     "output_type": "stream",
     "text": [
      "937\n"
     ]
    }
   ],
   "source": [
    "print(545+279+103+10)"
   ]
  },
  {
   "cell_type": "code",
   "execution_count": 101,
   "metadata": {},
   "outputs": [],
   "source": [
    "df_api_twitter = pd.concat([df_1,df_api_twitter])"
   ]
  },
  {
   "cell_type": "code",
   "execution_count": 102,
   "metadata": {},
   "outputs": [],
   "source": [
    "df_api_twitter.drop_duplicates(['tweet_id'], inplace = True)"
   ]
  },
  {
   "cell_type": "code",
   "execution_count": 103,
   "metadata": {},
   "outputs": [
    {
     "data": {
      "text/plain": [
       "(2137, 11)"
      ]
     },
     "execution_count": 103,
     "metadata": {},
     "output_type": "execute_result"
    }
   ],
   "source": [
    "df_api_twitter.shape"
   ]
  },
  {
   "cell_type": "code",
   "execution_count": 104,
   "metadata": {},
   "outputs": [],
   "source": [
    "#all duplicates are gone."
   ]
  },
  {
   "cell_type": "code",
   "execution_count": null,
   "metadata": {},
   "outputs": [],
   "source": []
  },
  {
   "cell_type": "code",
   "execution_count": null,
   "metadata": {},
   "outputs": [],
   "source": []
  },
  {
   "cell_type": "code",
   "execution_count": null,
   "metadata": {},
   "outputs": [],
   "source": []
  },
  {
   "cell_type": "code",
   "execution_count": null,
   "metadata": {},
   "outputs": [],
   "source": []
  },
  {
   "cell_type": "code",
   "execution_count": null,
   "metadata": {},
   "outputs": [],
   "source": []
  },
  {
   "cell_type": "code",
   "execution_count": null,
   "metadata": {},
   "outputs": [],
   "source": []
  },
  {
   "cell_type": "markdown",
   "metadata": {},
   "source": [
    "#### Quality issues: for df_img daraframe\n",
    "#### QUALITY ISSUE 9: . \n",
    "#### •Tweet_id to be converted to string"
   ]
  },
  {
   "cell_type": "code",
   "execution_count": 105,
   "metadata": {},
   "outputs": [],
   "source": [
    "df_ic = df_img.copy()"
   ]
  },
  {
   "cell_type": "code",
   "execution_count": 106,
   "metadata": {},
   "outputs": [
    {
     "data": {
      "text/html": [
       "<div>\n",
       "<style scoped>\n",
       "    .dataframe tbody tr th:only-of-type {\n",
       "        vertical-align: middle;\n",
       "    }\n",
       "\n",
       "    .dataframe tbody tr th {\n",
       "        vertical-align: top;\n",
       "    }\n",
       "\n",
       "    .dataframe thead th {\n",
       "        text-align: right;\n",
       "    }\n",
       "</style>\n",
       "<table border=\"1\" class=\"dataframe\">\n",
       "  <thead>\n",
       "    <tr style=\"text-align: right;\">\n",
       "      <th></th>\n",
       "      <th>tweet_id</th>\n",
       "      <th>jpg_url</th>\n",
       "      <th>img_num</th>\n",
       "      <th>p1</th>\n",
       "      <th>p1_conf</th>\n",
       "      <th>p1_dog</th>\n",
       "      <th>p2</th>\n",
       "      <th>p2_conf</th>\n",
       "      <th>p2_dog</th>\n",
       "      <th>p3</th>\n",
       "      <th>p3_conf</th>\n",
       "      <th>p3_dog</th>\n",
       "    </tr>\n",
       "  </thead>\n",
       "  <tbody>\n",
       "    <tr>\n",
       "      <th>0</th>\n",
       "      <td>666020888022790149</td>\n",
       "      <td>https://pbs.twimg.com/media/CT4udn0WwAA0aMy.jpg</td>\n",
       "      <td>1</td>\n",
       "      <td>Welsh_springer_spaniel</td>\n",
       "      <td>0.465074</td>\n",
       "      <td>True</td>\n",
       "      <td>collie</td>\n",
       "      <td>0.156665</td>\n",
       "      <td>True</td>\n",
       "      <td>Shetland_sheepdog</td>\n",
       "      <td>0.061428</td>\n",
       "      <td>True</td>\n",
       "    </tr>\n",
       "    <tr>\n",
       "      <th>1</th>\n",
       "      <td>666029285002620928</td>\n",
       "      <td>https://pbs.twimg.com/media/CT42GRgUYAA5iDo.jpg</td>\n",
       "      <td>1</td>\n",
       "      <td>redbone</td>\n",
       "      <td>0.506826</td>\n",
       "      <td>True</td>\n",
       "      <td>miniature_pinscher</td>\n",
       "      <td>0.074192</td>\n",
       "      <td>True</td>\n",
       "      <td>Rhodesian_ridgeback</td>\n",
       "      <td>0.072010</td>\n",
       "      <td>True</td>\n",
       "    </tr>\n",
       "    <tr>\n",
       "      <th>2</th>\n",
       "      <td>666033412701032449</td>\n",
       "      <td>https://pbs.twimg.com/media/CT4521TWwAEvMyu.jpg</td>\n",
       "      <td>1</td>\n",
       "      <td>German_shepherd</td>\n",
       "      <td>0.596461</td>\n",
       "      <td>True</td>\n",
       "      <td>malinois</td>\n",
       "      <td>0.138584</td>\n",
       "      <td>True</td>\n",
       "      <td>bloodhound</td>\n",
       "      <td>0.116197</td>\n",
       "      <td>True</td>\n",
       "    </tr>\n",
       "    <tr>\n",
       "      <th>3</th>\n",
       "      <td>666044226329800704</td>\n",
       "      <td>https://pbs.twimg.com/media/CT5Dr8HUEAA-lEu.jpg</td>\n",
       "      <td>1</td>\n",
       "      <td>Rhodesian_ridgeback</td>\n",
       "      <td>0.408143</td>\n",
       "      <td>True</td>\n",
       "      <td>redbone</td>\n",
       "      <td>0.360687</td>\n",
       "      <td>True</td>\n",
       "      <td>miniature_pinscher</td>\n",
       "      <td>0.222752</td>\n",
       "      <td>True</td>\n",
       "    </tr>\n",
       "    <tr>\n",
       "      <th>4</th>\n",
       "      <td>666049248165822465</td>\n",
       "      <td>https://pbs.twimg.com/media/CT5IQmsXIAAKY4A.jpg</td>\n",
       "      <td>1</td>\n",
       "      <td>miniature_pinscher</td>\n",
       "      <td>0.560311</td>\n",
       "      <td>True</td>\n",
       "      <td>Rottweiler</td>\n",
       "      <td>0.243682</td>\n",
       "      <td>True</td>\n",
       "      <td>Doberman</td>\n",
       "      <td>0.154629</td>\n",
       "      <td>True</td>\n",
       "    </tr>\n",
       "  </tbody>\n",
       "</table>\n",
       "</div>"
      ],
      "text/plain": [
       "             tweet_id                                          jpg_url  \\\n",
       "0  666020888022790149  https://pbs.twimg.com/media/CT4udn0WwAA0aMy.jpg   \n",
       "1  666029285002620928  https://pbs.twimg.com/media/CT42GRgUYAA5iDo.jpg   \n",
       "2  666033412701032449  https://pbs.twimg.com/media/CT4521TWwAEvMyu.jpg   \n",
       "3  666044226329800704  https://pbs.twimg.com/media/CT5Dr8HUEAA-lEu.jpg   \n",
       "4  666049248165822465  https://pbs.twimg.com/media/CT5IQmsXIAAKY4A.jpg   \n",
       "\n",
       "   img_num                      p1   p1_conf  p1_dog                  p2  \\\n",
       "0        1  Welsh_springer_spaniel  0.465074    True              collie   \n",
       "1        1                 redbone  0.506826    True  miniature_pinscher   \n",
       "2        1         German_shepherd  0.596461    True            malinois   \n",
       "3        1     Rhodesian_ridgeback  0.408143    True             redbone   \n",
       "4        1      miniature_pinscher  0.560311    True          Rottweiler   \n",
       "\n",
       "    p2_conf  p2_dog                   p3   p3_conf  p3_dog  \n",
       "0  0.156665    True    Shetland_sheepdog  0.061428    True  \n",
       "1  0.074192    True  Rhodesian_ridgeback  0.072010    True  \n",
       "2  0.138584    True           bloodhound  0.116197    True  \n",
       "3  0.360687    True   miniature_pinscher  0.222752    True  \n",
       "4  0.243682    True             Doberman  0.154629    True  "
      ]
     },
     "execution_count": 106,
     "metadata": {},
     "output_type": "execute_result"
    }
   ],
   "source": [
    "df_ic.head()"
   ]
  },
  {
   "cell_type": "code",
   "execution_count": 107,
   "metadata": {},
   "outputs": [
    {
     "data": {
      "text/plain": [
       "dtype('int64')"
      ]
     },
     "execution_count": 107,
     "metadata": {},
     "output_type": "execute_result"
    }
   ],
   "source": [
    "df_ic.tweet_id.dtypes"
   ]
  },
  {
   "cell_type": "code",
   "execution_count": 108,
   "metadata": {},
   "outputs": [],
   "source": [
    "#fixing data type of tweet_id\n",
    "df_ic['tweet_id'] = df_ic['tweet_id'].apply(str)"
   ]
  },
  {
   "cell_type": "markdown",
   "metadata": {},
   "source": [
    "#### Test"
   ]
  },
  {
   "cell_type": "code",
   "execution_count": 155,
   "metadata": {},
   "outputs": [
    {
     "data": {
      "text/plain": [
       "dtype('O')"
      ]
     },
     "execution_count": 155,
     "metadata": {},
     "output_type": "execute_result"
    }
   ],
   "source": [
    "df_ic.tweet_id.dtypes\n",
    "# It can be seen that the dtype is changed."
   ]
  },
  {
   "cell_type": "markdown",
   "metadata": {},
   "source": [
    "#### Quality issue 10: The columns names to be updated for better description."
   ]
  },
  {
   "cell_type": "code",
   "execution_count": null,
   "metadata": {},
   "outputs": [],
   "source": []
  },
  {
   "cell_type": "code",
   "execution_count": 110,
   "metadata": {},
   "outputs": [],
   "source": [
    "#Updated column names\n",
    "df_ic.rename(columns={\"p1\": \"p1_breed\", \"p1_dog\": \"p1_correct\", \"p2\": \"p2_breed\", \"p2_dog\": \"p2_correct\", \"p3\": \"p3_breed\", \"p3_dog\": \"p3_correct\"}, inplace = True)"
   ]
  },
  {
   "cell_type": "markdown",
   "metadata": {},
   "source": [
    "#### Test"
   ]
  },
  {
   "cell_type": "code",
   "execution_count": 111,
   "metadata": {},
   "outputs": [
    {
     "data": {
      "text/html": [
       "<div>\n",
       "<style scoped>\n",
       "    .dataframe tbody tr th:only-of-type {\n",
       "        vertical-align: middle;\n",
       "    }\n",
       "\n",
       "    .dataframe tbody tr th {\n",
       "        vertical-align: top;\n",
       "    }\n",
       "\n",
       "    .dataframe thead th {\n",
       "        text-align: right;\n",
       "    }\n",
       "</style>\n",
       "<table border=\"1\" class=\"dataframe\">\n",
       "  <thead>\n",
       "    <tr style=\"text-align: right;\">\n",
       "      <th></th>\n",
       "      <th>tweet_id</th>\n",
       "      <th>jpg_url</th>\n",
       "      <th>img_num</th>\n",
       "      <th>p1_breed</th>\n",
       "      <th>p1_conf</th>\n",
       "      <th>p1_correct</th>\n",
       "      <th>p2_breed</th>\n",
       "      <th>p2_conf</th>\n",
       "      <th>p2_correct</th>\n",
       "      <th>p3_breed</th>\n",
       "      <th>p3_conf</th>\n",
       "      <th>p3_correct</th>\n",
       "    </tr>\n",
       "  </thead>\n",
       "  <tbody>\n",
       "    <tr>\n",
       "      <th>0</th>\n",
       "      <td>666020888022790149</td>\n",
       "      <td>https://pbs.twimg.com/media/CT4udn0WwAA0aMy.jpg</td>\n",
       "      <td>1</td>\n",
       "      <td>Welsh_springer_spaniel</td>\n",
       "      <td>0.465074</td>\n",
       "      <td>True</td>\n",
       "      <td>collie</td>\n",
       "      <td>0.156665</td>\n",
       "      <td>True</td>\n",
       "      <td>Shetland_sheepdog</td>\n",
       "      <td>0.061428</td>\n",
       "      <td>True</td>\n",
       "    </tr>\n",
       "  </tbody>\n",
       "</table>\n",
       "</div>"
      ],
      "text/plain": [
       "             tweet_id                                          jpg_url  \\\n",
       "0  666020888022790149  https://pbs.twimg.com/media/CT4udn0WwAA0aMy.jpg   \n",
       "\n",
       "   img_num                p1_breed   p1_conf  p1_correct p2_breed   p2_conf  \\\n",
       "0        1  Welsh_springer_spaniel  0.465074        True   collie  0.156665   \n",
       "\n",
       "   p2_correct           p3_breed   p3_conf  p3_correct  \n",
       "0        True  Shetland_sheepdog  0.061428        True  "
      ]
     },
     "execution_count": 111,
     "metadata": {},
     "output_type": "execute_result"
    }
   ],
   "source": [
    "df_ic.head(1)"
   ]
  },
  {
   "cell_type": "markdown",
   "metadata": {},
   "source": [
    "#### Quality issue 11: The breeds of the dogs should be same case (either upper or all lower)"
   ]
  },
  {
   "cell_type": "code",
   "execution_count": 112,
   "metadata": {},
   "outputs": [],
   "source": [
    "#lowering case of breed names.\n",
    "df_ic.p1_breed = df_ic.p1_breed.str.lower()\n",
    "df_ic.p2_breed = df_ic.p2_breed.str.lower()\n",
    "df_ic.p3_breed = df_ic.p3_breed.str.lower()"
   ]
  },
  {
   "cell_type": "markdown",
   "metadata": {},
   "source": [
    "#### Test"
   ]
  },
  {
   "cell_type": "code",
   "execution_count": 113,
   "metadata": {},
   "outputs": [
    {
     "data": {
      "text/html": [
       "<div>\n",
       "<style scoped>\n",
       "    .dataframe tbody tr th:only-of-type {\n",
       "        vertical-align: middle;\n",
       "    }\n",
       "\n",
       "    .dataframe tbody tr th {\n",
       "        vertical-align: top;\n",
       "    }\n",
       "\n",
       "    .dataframe thead th {\n",
       "        text-align: right;\n",
       "    }\n",
       "</style>\n",
       "<table border=\"1\" class=\"dataframe\">\n",
       "  <thead>\n",
       "    <tr style=\"text-align: right;\">\n",
       "      <th></th>\n",
       "      <th>tweet_id</th>\n",
       "      <th>jpg_url</th>\n",
       "      <th>img_num</th>\n",
       "      <th>p1_breed</th>\n",
       "      <th>p1_conf</th>\n",
       "      <th>p1_correct</th>\n",
       "      <th>p2_breed</th>\n",
       "      <th>p2_conf</th>\n",
       "      <th>p2_correct</th>\n",
       "      <th>p3_breed</th>\n",
       "      <th>p3_conf</th>\n",
       "      <th>p3_correct</th>\n",
       "    </tr>\n",
       "  </thead>\n",
       "  <tbody>\n",
       "    <tr>\n",
       "      <th>0</th>\n",
       "      <td>666020888022790149</td>\n",
       "      <td>https://pbs.twimg.com/media/CT4udn0WwAA0aMy.jpg</td>\n",
       "      <td>1</td>\n",
       "      <td>welsh_springer_spaniel</td>\n",
       "      <td>0.465074</td>\n",
       "      <td>True</td>\n",
       "      <td>collie</td>\n",
       "      <td>0.156665</td>\n",
       "      <td>True</td>\n",
       "      <td>shetland_sheepdog</td>\n",
       "      <td>0.061428</td>\n",
       "      <td>True</td>\n",
       "    </tr>\n",
       "    <tr>\n",
       "      <th>1</th>\n",
       "      <td>666029285002620928</td>\n",
       "      <td>https://pbs.twimg.com/media/CT42GRgUYAA5iDo.jpg</td>\n",
       "      <td>1</td>\n",
       "      <td>redbone</td>\n",
       "      <td>0.506826</td>\n",
       "      <td>True</td>\n",
       "      <td>miniature_pinscher</td>\n",
       "      <td>0.074192</td>\n",
       "      <td>True</td>\n",
       "      <td>rhodesian_ridgeback</td>\n",
       "      <td>0.072010</td>\n",
       "      <td>True</td>\n",
       "    </tr>\n",
       "    <tr>\n",
       "      <th>2</th>\n",
       "      <td>666033412701032449</td>\n",
       "      <td>https://pbs.twimg.com/media/CT4521TWwAEvMyu.jpg</td>\n",
       "      <td>1</td>\n",
       "      <td>german_shepherd</td>\n",
       "      <td>0.596461</td>\n",
       "      <td>True</td>\n",
       "      <td>malinois</td>\n",
       "      <td>0.138584</td>\n",
       "      <td>True</td>\n",
       "      <td>bloodhound</td>\n",
       "      <td>0.116197</td>\n",
       "      <td>True</td>\n",
       "    </tr>\n",
       "    <tr>\n",
       "      <th>3</th>\n",
       "      <td>666044226329800704</td>\n",
       "      <td>https://pbs.twimg.com/media/CT5Dr8HUEAA-lEu.jpg</td>\n",
       "      <td>1</td>\n",
       "      <td>rhodesian_ridgeback</td>\n",
       "      <td>0.408143</td>\n",
       "      <td>True</td>\n",
       "      <td>redbone</td>\n",
       "      <td>0.360687</td>\n",
       "      <td>True</td>\n",
       "      <td>miniature_pinscher</td>\n",
       "      <td>0.222752</td>\n",
       "      <td>True</td>\n",
       "    </tr>\n",
       "    <tr>\n",
       "      <th>4</th>\n",
       "      <td>666049248165822465</td>\n",
       "      <td>https://pbs.twimg.com/media/CT5IQmsXIAAKY4A.jpg</td>\n",
       "      <td>1</td>\n",
       "      <td>miniature_pinscher</td>\n",
       "      <td>0.560311</td>\n",
       "      <td>True</td>\n",
       "      <td>rottweiler</td>\n",
       "      <td>0.243682</td>\n",
       "      <td>True</td>\n",
       "      <td>doberman</td>\n",
       "      <td>0.154629</td>\n",
       "      <td>True</td>\n",
       "    </tr>\n",
       "  </tbody>\n",
       "</table>\n",
       "</div>"
      ],
      "text/plain": [
       "             tweet_id                                          jpg_url  \\\n",
       "0  666020888022790149  https://pbs.twimg.com/media/CT4udn0WwAA0aMy.jpg   \n",
       "1  666029285002620928  https://pbs.twimg.com/media/CT42GRgUYAA5iDo.jpg   \n",
       "2  666033412701032449  https://pbs.twimg.com/media/CT4521TWwAEvMyu.jpg   \n",
       "3  666044226329800704  https://pbs.twimg.com/media/CT5Dr8HUEAA-lEu.jpg   \n",
       "4  666049248165822465  https://pbs.twimg.com/media/CT5IQmsXIAAKY4A.jpg   \n",
       "\n",
       "   img_num                p1_breed   p1_conf  p1_correct            p2_breed  \\\n",
       "0        1  welsh_springer_spaniel  0.465074        True              collie   \n",
       "1        1                 redbone  0.506826        True  miniature_pinscher   \n",
       "2        1         german_shepherd  0.596461        True            malinois   \n",
       "3        1     rhodesian_ridgeback  0.408143        True             redbone   \n",
       "4        1      miniature_pinscher  0.560311        True          rottweiler   \n",
       "\n",
       "    p2_conf  p2_correct             p3_breed   p3_conf  p3_correct  \n",
       "0  0.156665        True    shetland_sheepdog  0.061428        True  \n",
       "1  0.074192        True  rhodesian_ridgeback  0.072010        True  \n",
       "2  0.138584        True           bloodhound  0.116197        True  \n",
       "3  0.360687        True   miniature_pinscher  0.222752        True  \n",
       "4  0.243682        True             doberman  0.154629        True  "
      ]
     },
     "execution_count": 113,
     "metadata": {},
     "output_type": "execute_result"
    }
   ],
   "source": [
    "df_ic.head()"
   ]
  },
  {
   "cell_type": "markdown",
   "metadata": {},
   "source": [
    "Now, cleaning part is over, Now I will do analysis based on the data."
   ]
  },
  {
   "cell_type": "markdown",
   "metadata": {},
   "source": [
    "# DATA ANALYSIS AND VISUALIZATION\n",
    "\n",
    "## DF_API_TWITTER"
   ]
  },
  {
   "cell_type": "markdown",
   "metadata": {},
   "source": [
    "#### 1: Dog category counts"
   ]
  },
  {
   "cell_type": "code",
   "execution_count": 114,
   "metadata": {},
   "outputs": [
    {
     "data": {
      "text/html": [
       "<div>\n",
       "<style scoped>\n",
       "    .dataframe tbody tr th:only-of-type {\n",
       "        vertical-align: middle;\n",
       "    }\n",
       "\n",
       "    .dataframe tbody tr th {\n",
       "        vertical-align: top;\n",
       "    }\n",
       "\n",
       "    .dataframe thead th {\n",
       "        text-align: right;\n",
       "    }\n",
       "</style>\n",
       "<table border=\"1\" class=\"dataframe\">\n",
       "  <thead>\n",
       "    <tr style=\"text-align: right;\">\n",
       "      <th></th>\n",
       "      <th>tweet_id</th>\n",
       "      <th>retweet_count</th>\n",
       "      <th>favorite_count</th>\n",
       "      <th>in_reply_to_status_id</th>\n",
       "      <th>in_reply_to_user_id</th>\n",
       "      <th>timestamp</th>\n",
       "      <th>text</th>\n",
       "      <th>rating_numerator</th>\n",
       "      <th>rating_denominator</th>\n",
       "      <th>name</th>\n",
       "      <th>dog_category</th>\n",
       "    </tr>\n",
       "  </thead>\n",
       "  <tbody>\n",
       "    <tr>\n",
       "      <th>9</th>\n",
       "      <td>890240255349198849</td>\n",
       "      <td>7711</td>\n",
       "      <td>32467</td>\n",
       "      <td>NaN</td>\n",
       "      <td>NaN</td>\n",
       "      <td>2017-07-26 15:59:51</td>\n",
       "      <td>This is Cassie. She is a college pup. Studying...</td>\n",
       "      <td>14.0</td>\n",
       "      <td>10</td>\n",
       "      <td>Cassie</td>\n",
       "      <td>doggo</td>\n",
       "    </tr>\n",
       "  </tbody>\n",
       "</table>\n",
       "</div>"
      ],
      "text/plain": [
       "             tweet_id  retweet_count  favorite_count  in_reply_to_status_id  \\\n",
       "9  890240255349198849           7711           32467                    NaN   \n",
       "\n",
       "   in_reply_to_user_id           timestamp  \\\n",
       "9                  NaN 2017-07-26 15:59:51   \n",
       "\n",
       "                                                text  rating_numerator  \\\n",
       "9  This is Cassie. She is a college pup. Studying...              14.0   \n",
       "\n",
       "   rating_denominator    name dog_category  \n",
       "9                  10  Cassie        doggo  "
      ]
     },
     "execution_count": 114,
     "metadata": {},
     "output_type": "execute_result"
    }
   ],
   "source": [
    "df_api_twitter.head(1)"
   ]
  },
  {
   "cell_type": "code",
   "execution_count": 115,
   "metadata": {},
   "outputs": [
    {
     "data": {
      "text/plain": [
       "puppo      518\n",
       "doggo      103\n",
       "floofer      9\n",
       "pupper       6\n",
       "Name: dog_category, dtype: int64"
      ]
     },
     "execution_count": 115,
     "metadata": {},
     "output_type": "execute_result"
    }
   ],
   "source": [
    "df_api_twitter.dog_category.value_counts()"
   ]
  },
  {
   "cell_type": "markdown",
   "metadata": {},
   "source": [
    "It can be noticed that most of the dogs are in puppo stage, followed by pupper,\n",
    "doggo and floofer. Now lets check retweet_count and favorite_count for various \n",
    "stages of dogs."
   ]
  },
  {
   "cell_type": "markdown",
   "metadata": {},
   "source": [
    "#### 2:  Which dog category have highest number of retweets and favorite counts"
   ]
  },
  {
   "cell_type": "code",
   "execution_count": 116,
   "metadata": {},
   "outputs": [
    {
     "data": {
      "text/html": [
       "<div>\n",
       "<style scoped>\n",
       "    .dataframe tbody tr th:only-of-type {\n",
       "        vertical-align: middle;\n",
       "    }\n",
       "\n",
       "    .dataframe tbody tr th {\n",
       "        vertical-align: top;\n",
       "    }\n",
       "\n",
       "    .dataframe thead th {\n",
       "        text-align: right;\n",
       "    }\n",
       "</style>\n",
       "<table border=\"1\" class=\"dataframe\">\n",
       "  <thead>\n",
       "    <tr style=\"text-align: right;\">\n",
       "      <th></th>\n",
       "      <th>sum</th>\n",
       "      <th>max</th>\n",
       "    </tr>\n",
       "    <tr>\n",
       "      <th>dog_category</th>\n",
       "      <th></th>\n",
       "      <th></th>\n",
       "    </tr>\n",
       "  </thead>\n",
       "  <tbody>\n",
       "    <tr>\n",
       "      <th>doggo</th>\n",
       "      <td>731392</td>\n",
       "      <td>79515</td>\n",
       "    </tr>\n",
       "    <tr>\n",
       "      <th>floofer</th>\n",
       "      <td>37403</td>\n",
       "      <td>18497</td>\n",
       "    </tr>\n",
       "    <tr>\n",
       "      <th>pupper</th>\n",
       "      <td>14439</td>\n",
       "      <td>4828</td>\n",
       "    </tr>\n",
       "    <tr>\n",
       "      <th>puppo</th>\n",
       "      <td>1538503</td>\n",
       "      <td>48265</td>\n",
       "    </tr>\n",
       "  </tbody>\n",
       "</table>\n",
       "</div>"
      ],
      "text/plain": [
       "                  sum    max\n",
       "dog_category                \n",
       "doggo          731392  79515\n",
       "floofer         37403  18497\n",
       "pupper          14439   4828\n",
       "puppo         1538503  48265"
      ]
     },
     "execution_count": 116,
     "metadata": {},
     "output_type": "execute_result"
    }
   ],
   "source": [
    "df_api_twitter.groupby('dog_category')['retweet_count'].agg([sum, max])"
   ]
  },
  {
   "cell_type": "code",
   "execution_count": 117,
   "metadata": {},
   "outputs": [
    {
     "data": {
      "text/html": [
       "<div>\n",
       "<style scoped>\n",
       "    .dataframe tbody tr th:only-of-type {\n",
       "        vertical-align: middle;\n",
       "    }\n",
       "\n",
       "    .dataframe tbody tr th {\n",
       "        vertical-align: top;\n",
       "    }\n",
       "\n",
       "    .dataframe thead th {\n",
       "        text-align: right;\n",
       "    }\n",
       "</style>\n",
       "<table border=\"1\" class=\"dataframe\">\n",
       "  <thead>\n",
       "    <tr style=\"text-align: right;\">\n",
       "      <th></th>\n",
       "      <th>sum</th>\n",
       "      <th>max</th>\n",
       "    </tr>\n",
       "    <tr>\n",
       "      <th>dog_category</th>\n",
       "      <th></th>\n",
       "      <th></th>\n",
       "    </tr>\n",
       "  </thead>\n",
       "  <tbody>\n",
       "    <tr>\n",
       "      <th>doggo</th>\n",
       "      <td>1554295</td>\n",
       "      <td>131075</td>\n",
       "    </tr>\n",
       "    <tr>\n",
       "      <th>floofer</th>\n",
       "      <td>99580</td>\n",
       "      <td>33345</td>\n",
       "    </tr>\n",
       "    <tr>\n",
       "      <th>pupper</th>\n",
       "      <td>44668</td>\n",
       "      <td>14514</td>\n",
       "    </tr>\n",
       "    <tr>\n",
       "      <th>puppo</th>\n",
       "      <td>4206162</td>\n",
       "      <td>132810</td>\n",
       "    </tr>\n",
       "  </tbody>\n",
       "</table>\n",
       "</div>"
      ],
      "text/plain": [
       "                  sum     max\n",
       "dog_category                 \n",
       "doggo         1554295  131075\n",
       "floofer         99580   33345\n",
       "pupper          44668   14514\n",
       "puppo         4206162  132810"
      ]
     },
     "execution_count": 117,
     "metadata": {},
     "output_type": "execute_result"
    }
   ],
   "source": [
    "df_api_twitter.groupby('dog_category')['favorite_count'].agg([sum, max])"
   ]
  },
  {
   "cell_type": "markdown",
   "metadata": {},
   "source": [
    "#### Highest Retweets: DOGGO: 79515, highest total retweets: PUPPO: 1666310\n",
    "#### Highest and total favorite counts: PUPPO: 132810, total counts: PUPPO 4566145"
   ]
  },
  {
   "cell_type": "markdown",
   "metadata": {},
   "source": [
    "#### 3: Check which dog category has high average rating numerator"
   ]
  },
  {
   "cell_type": "code",
   "execution_count": 118,
   "metadata": {},
   "outputs": [
    {
     "data": {
      "text/plain": [
       "tweet_id                         object\n",
       "retweet_count                     int64\n",
       "favorite_count                    int64\n",
       "in_reply_to_status_id           float64\n",
       "in_reply_to_user_id             float64\n",
       "timestamp                datetime64[ns]\n",
       "text                             object\n",
       "rating_numerator                float64\n",
       "rating_denominator                int64\n",
       "name                             object\n",
       "dog_category                     object\n",
       "dtype: object"
      ]
     },
     "execution_count": 118,
     "metadata": {},
     "output_type": "execute_result"
    }
   ],
   "source": [
    "df_api_twitter.dtypes"
   ]
  },
  {
   "cell_type": "code",
   "execution_count": 119,
   "metadata": {},
   "outputs": [],
   "source": [
    "#first change numerator type to float64\n",
    "df_api_twitter['rating_numerator'] = pd.to_numeric(df_api_twitter['rating_numerator'], errors='coerce')"
   ]
  },
  {
   "cell_type": "code",
   "execution_count": 120,
   "metadata": {},
   "outputs": [
    {
     "data": {
      "text/plain": [
       "tweet_id                         object\n",
       "retweet_count                     int64\n",
       "favorite_count                    int64\n",
       "in_reply_to_status_id           float64\n",
       "in_reply_to_user_id             float64\n",
       "timestamp                datetime64[ns]\n",
       "text                             object\n",
       "rating_numerator                float64\n",
       "rating_denominator                int64\n",
       "name                             object\n",
       "dog_category                     object\n",
       "dtype: object"
      ]
     },
     "execution_count": 120,
     "metadata": {},
     "output_type": "execute_result"
    }
   ],
   "source": [
    "df_api_twitter.dtypes"
   ]
  },
  {
   "cell_type": "code",
   "execution_count": 121,
   "metadata": {},
   "outputs": [
    {
     "data": {
      "text/plain": [
       "dog_category\n",
       "doggo      13.611650\n",
       "floofer    11.888889\n",
       "pupper     11.878333\n",
       "puppo      11.641429\n",
       "Name: rating_numerator, dtype: float64"
      ]
     },
     "execution_count": 121,
     "metadata": {},
     "output_type": "execute_result"
    }
   ],
   "source": [
    "avg_rating = df_api_twitter.groupby('dog_category').rating_numerator.mean()\n",
    "avg_rating"
   ]
  },
  {
   "cell_type": "code",
   "execution_count": 122,
   "metadata": {},
   "outputs": [],
   "source": [
    "x = []"
   ]
  },
  {
   "cell_type": "code",
   "execution_count": null,
   "metadata": {},
   "outputs": [],
   "source": []
  },
  {
   "cell_type": "code",
   "execution_count": 123,
   "metadata": {},
   "outputs": [
    {
     "data": {
      "text/plain": [
       "<matplotlib.axes._subplots.AxesSubplot at 0x7f924cdb57b8>"
      ]
     },
     "execution_count": 123,
     "metadata": {},
     "output_type": "execute_result"
    },
    {
     "data": {
      "image/png": "[encoded data removed]",
      "text/plain": [
       "<matplotlib.figure.Figure at 0x7f924ce1bfd0>"
      ]
     },
     "metadata": {
      "needs_background": "light"
     },
     "output_type": "display_data"
    }
   ],
   "source": [
    "import matplotlib.pyplot as plt\n",
    "%matplotlib inline\n",
    "df_api_twitter.groupby('dog_category')['rating_numerator'].mean().plot(kind = 'bar')\n"
   ]
  },
  {
   "cell_type": "code",
   "execution_count": 124,
   "metadata": {},
   "outputs": [
    {
     "data": {
      "image/png": "[encoded data removed]",
      "text/plain": [
       "<matplotlib.figure.Figure at 0x7f924ad3be10>"
      ]
     },
     "metadata": {
      "needs_background": "light"
     },
     "output_type": "display_data"
    }
   ],
   "source": [
    "#It can be seen that rating_numerator is highest for doggo, lets make boxplot.\n",
    "medianprops = dict(linestyle='-', linewidth=4, color='k')\n",
    "boxprops = dict(linestyle='-', linewidth=4, color='firebrick')\n",
    "boxplot = df_api_twitter.boxplot(column = ['rating_numerator'], by= 'dog_category', \n",
    "                                 rot=45, fontsize=12, figsize = (10,10), showfliers=False,medianprops=medianprops, boxprops=boxprops)\n"
   ]
  },
  {
   "cell_type": "markdown",
   "metadata": {},
   "source": [
    "#### The highest rating is high for doggo and floofer, as compared to pupper/puppo. Also, the minimum ratings are very less for pupper/puppo, but least are better for floofer."
   ]
  },
  {
   "cell_type": "markdown",
   "metadata": {},
   "source": [
    "#### 4: Checking the average correct prediction for df_ic"
   ]
  },
  {
   "cell_type": "code",
   "execution_count": 125,
   "metadata": {},
   "outputs": [
    {
     "data": {
      "text/html": [
       "<div>\n",
       "<style scoped>\n",
       "    .dataframe tbody tr th:only-of-type {\n",
       "        vertical-align: middle;\n",
       "    }\n",
       "\n",
       "    .dataframe tbody tr th {\n",
       "        vertical-align: top;\n",
       "    }\n",
       "\n",
       "    .dataframe thead th {\n",
       "        text-align: right;\n",
       "    }\n",
       "</style>\n",
       "<table border=\"1\" class=\"dataframe\">\n",
       "  <thead>\n",
       "    <tr style=\"text-align: right;\">\n",
       "      <th></th>\n",
       "      <th>tweet_id</th>\n",
       "      <th>jpg_url</th>\n",
       "      <th>img_num</th>\n",
       "      <th>p1_breed</th>\n",
       "      <th>p1_conf</th>\n",
       "      <th>p1_correct</th>\n",
       "      <th>p2_breed</th>\n",
       "      <th>p2_conf</th>\n",
       "      <th>p2_correct</th>\n",
       "      <th>p3_breed</th>\n",
       "      <th>p3_conf</th>\n",
       "      <th>p3_correct</th>\n",
       "    </tr>\n",
       "  </thead>\n",
       "  <tbody>\n",
       "    <tr>\n",
       "      <th>0</th>\n",
       "      <td>666020888022790149</td>\n",
       "      <td>https://pbs.twimg.com/media/CT4udn0WwAA0aMy.jpg</td>\n",
       "      <td>1</td>\n",
       "      <td>welsh_springer_spaniel</td>\n",
       "      <td>0.465074</td>\n",
       "      <td>True</td>\n",
       "      <td>collie</td>\n",
       "      <td>0.156665</td>\n",
       "      <td>True</td>\n",
       "      <td>shetland_sheepdog</td>\n",
       "      <td>0.061428</td>\n",
       "      <td>True</td>\n",
       "    </tr>\n",
       "    <tr>\n",
       "      <th>1</th>\n",
       "      <td>666029285002620928</td>\n",
       "      <td>https://pbs.twimg.com/media/CT42GRgUYAA5iDo.jpg</td>\n",
       "      <td>1</td>\n",
       "      <td>redbone</td>\n",
       "      <td>0.506826</td>\n",
       "      <td>True</td>\n",
       "      <td>miniature_pinscher</td>\n",
       "      <td>0.074192</td>\n",
       "      <td>True</td>\n",
       "      <td>rhodesian_ridgeback</td>\n",
       "      <td>0.072010</td>\n",
       "      <td>True</td>\n",
       "    </tr>\n",
       "    <tr>\n",
       "      <th>2</th>\n",
       "      <td>666033412701032449</td>\n",
       "      <td>https://pbs.twimg.com/media/CT4521TWwAEvMyu.jpg</td>\n",
       "      <td>1</td>\n",
       "      <td>german_shepherd</td>\n",
       "      <td>0.596461</td>\n",
       "      <td>True</td>\n",
       "      <td>malinois</td>\n",
       "      <td>0.138584</td>\n",
       "      <td>True</td>\n",
       "      <td>bloodhound</td>\n",
       "      <td>0.116197</td>\n",
       "      <td>True</td>\n",
       "    </tr>\n",
       "    <tr>\n",
       "      <th>3</th>\n",
       "      <td>666044226329800704</td>\n",
       "      <td>https://pbs.twimg.com/media/CT5Dr8HUEAA-lEu.jpg</td>\n",
       "      <td>1</td>\n",
       "      <td>rhodesian_ridgeback</td>\n",
       "      <td>0.408143</td>\n",
       "      <td>True</td>\n",
       "      <td>redbone</td>\n",
       "      <td>0.360687</td>\n",
       "      <td>True</td>\n",
       "      <td>miniature_pinscher</td>\n",
       "      <td>0.222752</td>\n",
       "      <td>True</td>\n",
       "    </tr>\n",
       "    <tr>\n",
       "      <th>4</th>\n",
       "      <td>666049248165822465</td>\n",
       "      <td>https://pbs.twimg.com/media/CT5IQmsXIAAKY4A.jpg</td>\n",
       "      <td>1</td>\n",
       "      <td>miniature_pinscher</td>\n",
       "      <td>0.560311</td>\n",
       "      <td>True</td>\n",
       "      <td>rottweiler</td>\n",
       "      <td>0.243682</td>\n",
       "      <td>True</td>\n",
       "      <td>doberman</td>\n",
       "      <td>0.154629</td>\n",
       "      <td>True</td>\n",
       "    </tr>\n",
       "  </tbody>\n",
       "</table>\n",
       "</div>"
      ],
      "text/plain": [
       "             tweet_id                                          jpg_url  \\\n",
       "0  666020888022790149  https://pbs.twimg.com/media/CT4udn0WwAA0aMy.jpg   \n",
       "1  666029285002620928  https://pbs.twimg.com/media/CT42GRgUYAA5iDo.jpg   \n",
       "2  666033412701032449  https://pbs.twimg.com/media/CT4521TWwAEvMyu.jpg   \n",
       "3  666044226329800704  https://pbs.twimg.com/media/CT5Dr8HUEAA-lEu.jpg   \n",
       "4  666049248165822465  https://pbs.twimg.com/media/CT5IQmsXIAAKY4A.jpg   \n",
       "\n",
       "   img_num                p1_breed   p1_conf  p1_correct            p2_breed  \\\n",
       "0        1  welsh_springer_spaniel  0.465074        True              collie   \n",
       "1        1                 redbone  0.506826        True  miniature_pinscher   \n",
       "2        1         german_shepherd  0.596461        True            malinois   \n",
       "3        1     rhodesian_ridgeback  0.408143        True             redbone   \n",
       "4        1      miniature_pinscher  0.560311        True          rottweiler   \n",
       "\n",
       "    p2_conf  p2_correct             p3_breed   p3_conf  p3_correct  \n",
       "0  0.156665        True    shetland_sheepdog  0.061428        True  \n",
       "1  0.074192        True  rhodesian_ridgeback  0.072010        True  \n",
       "2  0.138584        True           bloodhound  0.116197        True  \n",
       "3  0.360687        True   miniature_pinscher  0.222752        True  \n",
       "4  0.243682        True             doberman  0.154629        True  "
      ]
     },
     "execution_count": 125,
     "metadata": {},
     "output_type": "execute_result"
    }
   ],
   "source": [
    "df_ic.head()"
   ]
  },
  {
   "cell_type": "code",
   "execution_count": 126,
   "metadata": {},
   "outputs": [
    {
     "data": {
      "text/plain": [
       "golden_retriever             150\n",
       "labrador_retriever           100\n",
       "pembroke                      89\n",
       "chihuahua                     83\n",
       "pug                           57\n",
       "chow                          44\n",
       "samoyed                       43\n",
       "toy_poodle                    39\n",
       "pomeranian                    38\n",
       "cocker_spaniel                30\n",
       "malamute                      30\n",
       "french_bulldog                26\n",
       "chesapeake_bay_retriever      23\n",
       "miniature_pinscher            23\n",
       "seat_belt                     22\n",
       "staffordshire_bullterrier     20\n",
       "siberian_husky                20\n",
       "german_shepherd               20\n",
       "cardigan                      19\n",
       "web_site                      19\n",
       "eskimo_dog                    18\n",
       "shetland_sheepdog             18\n",
       "beagle                        18\n",
       "teddy                         18\n",
       "maltese_dog                   18\n",
       "rottweiler                    17\n",
       "shih-tzu                      17\n",
       "lakeland_terrier              17\n",
       "kuvasz                        16\n",
       "italian_greyhound             16\n",
       "                            ... \n",
       "mud_turtle                     1\n",
       "pole                           1\n",
       "egyptian_cat                   1\n",
       "washer                         1\n",
       "bookcase                       1\n",
       "pitcher                        1\n",
       "bookshop                       1\n",
       "beach_wagon                    1\n",
       "grille                         1\n",
       "syringe                        1\n",
       "pillow                         1\n",
       "maze                           1\n",
       "polecat                        1\n",
       "damselfly                      1\n",
       "ping-pong_ball                 1\n",
       "fire_engine                    1\n",
       "fiddler_crab                   1\n",
       "conch                          1\n",
       "snowmobile                     1\n",
       "silky_terrier                  1\n",
       "lynx                           1\n",
       "coho                           1\n",
       "cliff                          1\n",
       "canoe                          1\n",
       "coil                           1\n",
       "military_uniform               1\n",
       "china_cabinet                  1\n",
       "flamingo                       1\n",
       "banana                         1\n",
       "coffee_mug                     1\n",
       "Name: p1_breed, Length: 378, dtype: int64"
      ]
     },
     "execution_count": 126,
     "metadata": {},
     "output_type": "execute_result"
    }
   ],
   "source": [
    "#Lets check top 5 predictions for prediction 1:\n",
    "df_ic.p1_breed.value_counts()"
   ]
  },
  {
   "cell_type": "code",
   "execution_count": 127,
   "metadata": {},
   "outputs": [
    {
     "data": {
      "text/plain": [
       "array(['golden_retriever', 'labrador_retriever', 'pembroke', 'chihuahua',\n",
       "       'pug', 'chow', 'samoyed', 'toy_poodle', 'pomeranian',\n",
       "       'cocker_spaniel'], dtype=object)"
      ]
     },
     "execution_count": 127,
     "metadata": {},
     "output_type": "execute_result"
    }
   ],
   "source": [
    "top_10_breeds = df_ic.p1_breed.value_counts().nlargest(10).index.values\n",
    "top_10_breeds"
   ]
  },
  {
   "cell_type": "code",
   "execution_count": 128,
   "metadata": {},
   "outputs": [
    {
     "data": {
      "text/plain": [
       "array([150, 100,  89,  83,  57,  44,  43,  39,  38,  30])"
      ]
     },
     "execution_count": 128,
     "metadata": {},
     "output_type": "execute_result"
    }
   ],
   "source": [
    "top_10_breeds_count = df_ic.p1_breed.value_counts().nlargest(10).values\n",
    "top_10_breeds_count"
   ]
  },
  {
   "cell_type": "code",
   "execution_count": 129,
   "metadata": {},
   "outputs": [
    {
     "data": {
      "text/plain": [
       "[126, 69, 71, 50, 45, 26, 32, 24, 29, 16]"
      ]
     },
     "execution_count": 129,
     "metadata": {},
     "output_type": "execute_result"
    }
   ],
   "source": [
    "#Lets make a new array where for a breed and confidence>0.5, total counts which are true\n",
    "#will be checked.\n",
    "True_counts = []\n",
    "for breed in top_10_breeds:\n",
    "    x = df_ic[(df_ic.p1_breed == breed) & (df_ic.p1_conf>0.5) & (df_ic.p1_correct==True)]['p1_breed'].count()\n",
    "    True_counts.append(x)\n",
    "True_counts"
   ]
  },
  {
   "cell_type": "code",
   "execution_count": 130,
   "metadata": {},
   "outputs": [
    {
     "data": {
      "text/html": [
       "<div>\n",
       "<style scoped>\n",
       "    .dataframe tbody tr th:only-of-type {\n",
       "        vertical-align: middle;\n",
       "    }\n",
       "\n",
       "    .dataframe tbody tr th {\n",
       "        vertical-align: top;\n",
       "    }\n",
       "\n",
       "    .dataframe thead th {\n",
       "        text-align: right;\n",
       "    }\n",
       "</style>\n",
       "<table border=\"1\" class=\"dataframe\">\n",
       "  <thead>\n",
       "    <tr style=\"text-align: right;\">\n",
       "      <th></th>\n",
       "      <th>breed</th>\n",
       "      <th>breeds_count</th>\n",
       "      <th>True_counts</th>\n",
       "    </tr>\n",
       "  </thead>\n",
       "  <tbody>\n",
       "    <tr>\n",
       "      <th>0</th>\n",
       "      <td>golden_retriever</td>\n",
       "      <td>150</td>\n",
       "      <td>126</td>\n",
       "    </tr>\n",
       "    <tr>\n",
       "      <th>1</th>\n",
       "      <td>labrador_retriever</td>\n",
       "      <td>100</td>\n",
       "      <td>69</td>\n",
       "    </tr>\n",
       "    <tr>\n",
       "      <th>2</th>\n",
       "      <td>pembroke</td>\n",
       "      <td>89</td>\n",
       "      <td>71</td>\n",
       "    </tr>\n",
       "    <tr>\n",
       "      <th>3</th>\n",
       "      <td>chihuahua</td>\n",
       "      <td>83</td>\n",
       "      <td>50</td>\n",
       "    </tr>\n",
       "    <tr>\n",
       "      <th>4</th>\n",
       "      <td>pug</td>\n",
       "      <td>57</td>\n",
       "      <td>45</td>\n",
       "    </tr>\n",
       "    <tr>\n",
       "      <th>5</th>\n",
       "      <td>chow</td>\n",
       "      <td>44</td>\n",
       "      <td>26</td>\n",
       "    </tr>\n",
       "    <tr>\n",
       "      <th>6</th>\n",
       "      <td>samoyed</td>\n",
       "      <td>43</td>\n",
       "      <td>32</td>\n",
       "    </tr>\n",
       "    <tr>\n",
       "      <th>7</th>\n",
       "      <td>toy_poodle</td>\n",
       "      <td>39</td>\n",
       "      <td>24</td>\n",
       "    </tr>\n",
       "    <tr>\n",
       "      <th>8</th>\n",
       "      <td>pomeranian</td>\n",
       "      <td>38</td>\n",
       "      <td>29</td>\n",
       "    </tr>\n",
       "    <tr>\n",
       "      <th>9</th>\n",
       "      <td>cocker_spaniel</td>\n",
       "      <td>30</td>\n",
       "      <td>16</td>\n",
       "    </tr>\n",
       "  </tbody>\n",
       "</table>\n",
       "</div>"
      ],
      "text/plain": [
       "                breed  breeds_count  True_counts\n",
       "0    golden_retriever           150          126\n",
       "1  labrador_retriever           100           69\n",
       "2            pembroke            89           71\n",
       "3           chihuahua            83           50\n",
       "4                 pug            57           45\n",
       "5                chow            44           26\n",
       "6             samoyed            43           32\n",
       "7          toy_poodle            39           24\n",
       "8          pomeranian            38           29\n",
       "9      cocker_spaniel            30           16"
      ]
     },
     "execution_count": 130,
     "metadata": {},
     "output_type": "execute_result"
    }
   ],
   "source": [
    "#Lets make a new dataframe for just top 10 predictions.\n",
    "d = {'breed': top_10_breeds, 'breeds_count': top_10_breeds_count, 'True_counts':True_counts}\n",
    "df = pd.DataFrame(data=d)\n",
    "df"
   ]
  },
  {
   "cell_type": "code",
   "execution_count": 131,
   "metadata": {},
   "outputs": [],
   "source": [
    "#lets add one more column as accuracy, which is true count/breed conuts * 100\n",
    "df['accuracy'] = (df.True_counts/df.breeds_count)*100"
   ]
  },
  {
   "cell_type": "code",
   "execution_count": 132,
   "metadata": {},
   "outputs": [
    {
     "data": {
      "text/plain": [
       "0    84.000000\n",
       "2    79.775281\n",
       "4    78.947368\n",
       "8    76.315789\n",
       "6    74.418605\n",
       "1    69.000000\n",
       "7    61.538462\n",
       "3    60.240964\n",
       "5    59.090909\n",
       "9    53.333333\n",
       "Name: accuracy, dtype: float64"
      ]
     },
     "execution_count": 132,
     "metadata": {},
     "output_type": "execute_result"
    }
   ],
   "source": [
    "df.accuracy.sort_values(ascending = False)"
   ]
  },
  {
   "cell_type": "code",
   "execution_count": 133,
   "metadata": {},
   "outputs": [
    {
     "data": {
      "text/plain": [
       "<matplotlib.axes._subplots.AxesSubplot at 0x7f924a588fd0>"
      ]
     },
     "execution_count": 133,
     "metadata": {},
     "output_type": "execute_result"
    },
    {
     "data": {
      "image/png": "[encoded data removed]",
      "text/plain": [
       "<matplotlib.figure.Figure at 0x7f924aca5b70>"
      ]
     },
     "metadata": {
      "needs_background": "light"
     },
     "output_type": "display_data"
    }
   ],
   "source": [
    "#Now lets make a plot to check accuracy per breed.\n",
    "df.plot(kind = 'bar', x = 'breed', y = 'accuracy', title = 'Accuracy for breed prediction by image')"
   ]
  },
  {
   "cell_type": "code",
   "execution_count": 134,
   "metadata": {},
   "outputs": [],
   "source": [
    "# it can be seen that accuracy is highest for golden_retriever followed by\n",
    "# pembroke"
   ]
  },
  {
   "cell_type": "markdown",
   "metadata": {},
   "source": [
    "# Storing the final data to master csv"
   ]
  },
  {
   "cell_type": "code",
   "execution_count": 135,
   "metadata": {},
   "outputs": [],
   "source": [
    "df_api_twitter.to_csv('twitter_archive_master.csv')"
   ]
  },
  {
   "cell_type": "code",
   "execution_count": 136,
   "metadata": {},
   "outputs": [],
   "source": [
    "df_ic.to_csv('twitter_master_image.csv')"
   ]
  },
  {
   "cell_type": "code",
   "execution_count": null,
   "metadata": {},
   "outputs": [],
   "source": []
  }
 ],
 "metadata": {
  "kernelspec": {
   "display_name": "Python 3",
   "language": "python",
   "name": "python3"
  },
  "language_info": {
   "codemirror_mode": {
    "name": "ipython",
    "version": 3
   },
   "file_extension": ".py",
   "mimetype": "text/x-python",
   "name": "python",
   "nbconvert_exporter": "python",
   "pygments_lexer": "ipython3",
   "version": "3.6.3"
  }
 },
 "nbformat": 4,
 "nbformat_minor": 2
}
